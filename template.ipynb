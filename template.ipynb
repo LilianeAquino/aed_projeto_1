{
 "cells": [
  {
   "cell_type": "markdown",
   "metadata": {
    "colab_type": "text",
    "id": "CEtG6c4koygW"
   },
   "source": [
    "# Projeto #1 - Análise Exploratória de Dados\n",
    "\n",
    "Antes de começar, leia as [Instruções](https://github.com/thvmm/pos-ds-ia/tree/master/projeto_1#instru%C3%A7%C3%B5es) e os [Critérios de Avaliação](https://github.com/thvmm/pos-ds-ia/tree/master/projeto_1#crit%C3%A9rios-de-avalia%C3%A7%C3%A3o)\n"
   ]
  },
  {
   "cell_type": "markdown",
   "metadata": {
    "colab_type": "text",
    "id": "uA3cQkV2oygZ"
   },
   "source": [
    "### 1) **(5%)** Qual a base escolhida e qual seu interesse nela?"
   ]
  },
  {
   "cell_type": "markdown",
   "metadata": {
    "colab_type": "text",
    "id": "-B9UmVQNoyga"
   },
   "source": [
    "*Indique o link da base no Kaggle e explique em um parágrafo curto por que essa base é interessante para você.*\n",
    "\n",
    "Link kagle: https://www.kaggle.com/equeiroz/acidentes-rodovias-federais-brasil-jan07-a-jul19\n",
    "\n",
    "Link do drive com os dados integrados: https://drive.google.com/drive/folders/1T5AcEd15lx59zlK-aHLN3Tdnq4PNbD7S?usp=sharing\n",
    "\n",
    "Essa base despertou meu interesse por se tratar de uma realidade brasileira. As causas de acidentes ocorrem pelas condições das estradas? Pelas imperícias dos motoristas? Essas são algumas das perguntas que passam na minha cabeça quando vejo uma notícia de acidente. Logo, é interessante ter essas respostas através da análise dos dados."
   ]
  },
  {
   "cell_type": "markdown",
   "metadata": {
    "colab_type": "text",
    "id": "izDzhwpIoygb"
   },
   "source": [
    "### 2) **(5%)** Descrição básica do conjunto de dados escolhido pelo aluno (1 parágrafo).\n",
    "- Identificação da variável a serem trabalhadas\n",
    "- Classificação das variáveis como: contínua ou discreta.\n"
   ]
  },
  {
   "cell_type": "markdown",
   "metadata": {
    "colab_type": "text",
    "id": "i-GPuu6Toygc"
   },
   "source": [
    "*Descrição da base e suas variáveis*\n",
    "\n",
    "Essa base é composta pelos dados da Polícia Rodoviária Federal sobre os registros de ocorrências de acidentes nas rodovias federais brasileiras no período de 01/2007 a 07/2019. Possui 24 colunas e 1.758.765 registros.\n",
    "\n",
    "CATEGÓRICAS:\n",
    "\n",
    "- id\n",
    "- uf\n",
    "- br\n",
    "- municipio\n",
    "- causa_acidente\n",
    "- tipo_acidente\n",
    "- classificacao_acidente\n",
    "- fase_dia\n",
    "- sentido_via\n",
    "- condicao_metereologica\n",
    "- tipo_pista\n",
    "- tracado_via\n",
    "- uso_solo\n",
    "\n",
    "CONTÍNUAS:\n",
    "\n",
    "- data_inversa\n",
    "- horario\n",
    "\n",
    "DISCRETAS:\n",
    "\n",
    "- pessoas\n",
    "- mortos\n",
    "- feridos_leves\n",
    "- feridos_graves\n",
    "- ilesos\n",
    "- ignorados\n",
    "- feridos\n",
    "- veiculos"
   ]
  },
  {
   "cell_type": "markdown",
   "metadata": {
    "colab_type": "text",
    "id": "OdQs-iNqoygd"
   },
   "source": [
    "### 3) **(15%)** Faça uma avaliação descritiva da sua base. Quantas linhas ela possui? Quais os tipos de dados? Quantas e quais features possuem?\n",
    "\n",
    "Cada variável escolhida pelo aluno precisa passar por ao menos 1 pré-processamento. O pré-processamento pode ser (mas não está limitado a):\n",
    "- Checagem se os valores estão dentro de um limite permitido ou razoável.\n",
    "- Tratamento de valores ausentes por eliminação ou substituição.\n",
    "- Conversão do tipo de dados.\n"
   ]
  },
  {
   "cell_type": "code",
   "execution_count": 1,
   "metadata": {
    "colab": {},
    "colab_type": "code",
    "id": "4bG6r2Bwoyge"
   },
   "outputs": [],
   "source": [
    "# Implemente sua análise aqui. Use mais blocos se achar que ficará mais organizado.\n",
    "\n",
    "import warnings\n",
    "import numpy as np\n",
    "import pandas as pd\n",
    "import matplotlib.pyplot as plt\n",
    "\n",
    "plt.style.use('ggplot')\n",
    "%matplotlib inline\n",
    "\n",
    "warnings.filterwarnings('ignore')"
   ]
  },
  {
   "cell_type": "code",
   "execution_count": 3,
   "metadata": {
    "colab": {},
    "colab_type": "code",
    "id": "H8Xxqiwcoygh",
    "outputId": "eff81565-4230-4ba0-9ea0-e634e493df06"
   },
   "outputs": [
    {
     "data": {
      "text/html": [
       "<div>\n",
       "<style scoped>\n",
       "    .dataframe tbody tr th:only-of-type {\n",
       "        vertical-align: middle;\n",
       "    }\n",
       "\n",
       "    .dataframe tbody tr th {\n",
       "        vertical-align: top;\n",
       "    }\n",
       "\n",
       "    .dataframe thead th {\n",
       "        text-align: right;\n",
       "    }\n",
       "</style>\n",
       "<table border=\"1\" class=\"dataframe\">\n",
       "  <thead>\n",
       "    <tr style=\"text-align: right;\">\n",
       "      <th></th>\n",
       "      <th>id</th>\n",
       "      <th>data_inversa</th>\n",
       "      <th>horario</th>\n",
       "      <th>uf</th>\n",
       "      <th>br</th>\n",
       "      <th>km</th>\n",
       "      <th>municipio</th>\n",
       "      <th>causa_acidente</th>\n",
       "      <th>tipo_acidente</th>\n",
       "      <th>classificacao_acidente</th>\n",
       "      <th>...</th>\n",
       "      <th>condicao_metereologica</th>\n",
       "      <th>tipo_pista</th>\n",
       "      <th>tracado_via</th>\n",
       "      <th>pessoas</th>\n",
       "      <th>mortos</th>\n",
       "      <th>feridos_leves</th>\n",
       "      <th>feridos_graves</th>\n",
       "      <th>ilesos</th>\n",
       "      <th>feridos</th>\n",
       "      <th>veiculos</th>\n",
       "    </tr>\n",
       "  </thead>\n",
       "  <tbody>\n",
       "    <tr>\n",
       "      <th>0</th>\n",
       "      <td>1035523.0</td>\n",
       "      <td>2012-01-01</td>\n",
       "      <td>15:45:00</td>\n",
       "      <td>SC</td>\n",
       "      <td>282</td>\n",
       "      <td>513.7</td>\n",
       "      <td>XAXIM</td>\n",
       "      <td>Velocidade incompatível</td>\n",
       "      <td>Saída de Pista</td>\n",
       "      <td>Com Vítimas Feridas</td>\n",
       "      <td>...</td>\n",
       "      <td>Sol</td>\n",
       "      <td>Simples</td>\n",
       "      <td>Curva</td>\n",
       "      <td>2</td>\n",
       "      <td>0</td>\n",
       "      <td>1</td>\n",
       "      <td>0</td>\n",
       "      <td>1</td>\n",
       "      <td>1</td>\n",
       "      <td>1</td>\n",
       "    </tr>\n",
       "    <tr>\n",
       "      <th>1</th>\n",
       "      <td>1035527.0</td>\n",
       "      <td>2012-01-01</td>\n",
       "      <td>03:00:00</td>\n",
       "      <td>SC</td>\n",
       "      <td>280</td>\n",
       "      <td>188</td>\n",
       "      <td>MAFRA</td>\n",
       "      <td>Ingestão de álcool</td>\n",
       "      <td>Colisão lateral</td>\n",
       "      <td>Com Vítimas Feridas</td>\n",
       "      <td>...</td>\n",
       "      <td>Chuva</td>\n",
       "      <td>Simples</td>\n",
       "      <td>Curva</td>\n",
       "      <td>3</td>\n",
       "      <td>0</td>\n",
       "      <td>1</td>\n",
       "      <td>0</td>\n",
       "      <td>2</td>\n",
       "      <td>1</td>\n",
       "      <td>2</td>\n",
       "    </tr>\n",
       "    <tr>\n",
       "      <th>2</th>\n",
       "      <td>1035528.0</td>\n",
       "      <td>2012-01-01</td>\n",
       "      <td>05:40:00</td>\n",
       "      <td>SC</td>\n",
       "      <td>116</td>\n",
       "      <td>1.5</td>\n",
       "      <td>MAFRA</td>\n",
       "      <td>Velocidade incompatível</td>\n",
       "      <td>Colisão com objeto fixo</td>\n",
       "      <td>Sem Vítimas</td>\n",
       "      <td>...</td>\n",
       "      <td>Chuva</td>\n",
       "      <td>Simples</td>\n",
       "      <td>Cruzamento</td>\n",
       "      <td>1</td>\n",
       "      <td>0</td>\n",
       "      <td>0</td>\n",
       "      <td>0</td>\n",
       "      <td>1</td>\n",
       "      <td>0</td>\n",
       "      <td>1</td>\n",
       "    </tr>\n",
       "    <tr>\n",
       "      <th>3</th>\n",
       "      <td>1035530.0</td>\n",
       "      <td>2012-01-01</td>\n",
       "      <td>06:00:00</td>\n",
       "      <td>RO</td>\n",
       "      <td>364</td>\n",
       "      <td>616.5</td>\n",
       "      <td>ITAPUÃ DO OESTE</td>\n",
       "      <td>Outras</td>\n",
       "      <td>Saída de Pista</td>\n",
       "      <td>Com Vítimas Feridas</td>\n",
       "      <td>...</td>\n",
       "      <td>Ignorada</td>\n",
       "      <td>Simples</td>\n",
       "      <td>Reta</td>\n",
       "      <td>1</td>\n",
       "      <td>0</td>\n",
       "      <td>1</td>\n",
       "      <td>0</td>\n",
       "      <td>0</td>\n",
       "      <td>1</td>\n",
       "      <td>1</td>\n",
       "    </tr>\n",
       "    <tr>\n",
       "      <th>4</th>\n",
       "      <td>1035533.0</td>\n",
       "      <td>2012-01-01</td>\n",
       "      <td>16:30:00</td>\n",
       "      <td>RJ</td>\n",
       "      <td>101</td>\n",
       "      <td>47</td>\n",
       "      <td>CAMPOS DOS GOYTACAZES</td>\n",
       "      <td>Ingestão de álcool</td>\n",
       "      <td>Queda de motocicleta / bicicleta / veículo</td>\n",
       "      <td>Com Vítimas Feridas</td>\n",
       "      <td>...</td>\n",
       "      <td>Chuva</td>\n",
       "      <td>Simples</td>\n",
       "      <td>Reta</td>\n",
       "      <td>1</td>\n",
       "      <td>0</td>\n",
       "      <td>1</td>\n",
       "      <td>0</td>\n",
       "      <td>0</td>\n",
       "      <td>1</td>\n",
       "      <td>1</td>\n",
       "    </tr>\n",
       "  </tbody>\n",
       "</table>\n",
       "<p>5 rows × 22 columns</p>\n",
       "</div>"
      ],
      "text/plain": [
       "          id data_inversa   horario  uf   br     km              municipio  \\\n",
       "0  1035523.0   2012-01-01  15:45:00  SC  282  513.7                  XAXIM   \n",
       "1  1035527.0   2012-01-01  03:00:00  SC  280    188                  MAFRA   \n",
       "2  1035528.0   2012-01-01  05:40:00  SC  116    1.5                  MAFRA   \n",
       "3  1035530.0   2012-01-01  06:00:00  RO  364  616.5        ITAPUÃ DO OESTE   \n",
       "4  1035533.0   2012-01-01  16:30:00  RJ  101     47  CAMPOS DOS GOYTACAZES   \n",
       "\n",
       "            causa_acidente                               tipo_acidente  \\\n",
       "0  Velocidade incompatível                              Saída de Pista   \n",
       "1       Ingestão de álcool                             Colisão lateral   \n",
       "2  Velocidade incompatível                     Colisão com objeto fixo   \n",
       "3                   Outras                              Saída de Pista   \n",
       "4       Ingestão de álcool  Queda de motocicleta / bicicleta / veículo   \n",
       "\n",
       "  classificacao_acidente  ... condicao_metereologica tipo_pista tracado_via  \\\n",
       "0    Com Vítimas Feridas  ...                    Sol    Simples       Curva   \n",
       "1    Com Vítimas Feridas  ...                  Chuva    Simples       Curva   \n",
       "2            Sem Vítimas  ...                  Chuva    Simples  Cruzamento   \n",
       "3    Com Vítimas Feridas  ...               Ignorada    Simples        Reta   \n",
       "4    Com Vítimas Feridas  ...                  Chuva    Simples        Reta   \n",
       "\n",
       "  pessoas mortos  feridos_leves  feridos_graves  ilesos  feridos  veiculos  \n",
       "0       2      0              1               0       1        1         1  \n",
       "1       3      0              1               0       2        1         2  \n",
       "2       1      0              0               0       1        0         1  \n",
       "3       1      0              1               0       0        1         1  \n",
       "4       1      0              1               0       0        1         1  \n",
       "\n",
       "[5 rows x 22 columns]"
      ]
     },
     "execution_count": 3,
     "metadata": {},
     "output_type": "execute_result"
    }
   ],
   "source": [
    "df = pd.read_csv('acidentes-rodovia-br.csv', low_memory=False)\n",
    "df.drop(['Unnamed: 0', 'uso_solo', 'ignorados'], axis=1, inplace=True)\n",
    "df.head(5)"
   ]
  },
  {
   "cell_type": "code",
   "execution_count": 4,
   "metadata": {
    "colab": {},
    "colab_type": "code",
    "id": "1T7-yJrRoygl",
    "outputId": "09691e6c-6014-4819-cb6f-623de80b5483"
   },
   "outputs": [],
   "source": [
    "df.drop(df[df['uf'] == '(null)'].index, inplace=True)\n",
    "df.drop(df[df['causa_acidente'] == '(null)'].index, inplace=True)\n",
    "df.drop(df[df['tipo_acidente'] == '(null)'].index, inplace=True)\n",
    "df.drop(df[df['classificacao_acidente'] == '(null)'].index, inplace=True)\n",
    "df.drop(df[df['fase_dia'] == '(null)'].index, inplace=True)\n",
    "df.drop(df[df['sentido_via'] == '(null)'].index, inplace=True)\n",
    "df.drop(df[df['condicao_metereologica'] == '(null)'].index, inplace=True)\n",
    "df.drop(df[df['tipo_pista'] == '(null)'].index, inplace=True)\n",
    "df.drop(df[df['tracado_via'] == '(null)'].index, inplace=True)"
   ]
  },
  {
   "cell_type": "code",
   "execution_count": 5,
   "metadata": {},
   "outputs": [
    {
     "name": "stdout",
     "output_type": "stream",
     "text": [
      "Números de linhas: 1758604\n",
      "Números de colunas: 22\n",
      "Colunas presentes: \n",
      "Index(['id', 'data_inversa', 'horario', 'uf', 'br', 'km', 'municipio',\n",
      "       'causa_acidente', 'tipo_acidente', 'classificacao_acidente', 'fase_dia',\n",
      "       'sentido_via', 'condicao_metereologica', 'tipo_pista', 'tracado_via',\n",
      "       'pessoas', 'mortos', 'feridos_leves', 'feridos_graves', 'ilesos',\n",
      "       'feridos', 'veiculos'],\n",
      "      dtype='object')\n"
     ]
    }
   ],
   "source": [
    "print('Números de linhas:', df.shape[0])\n",
    "print('Números de colunas:', df.shape[1])\n",
    "print('Colunas presentes: ')\n",
    "print(df.columns)"
   ]
  },
  {
   "cell_type": "code",
   "execution_count": 6,
   "metadata": {
    "colab": {},
    "colab_type": "code",
    "id": "x1_IsStmoygs",
    "outputId": "341832b4-abd9-4b7e-b4d3-38dfdfe15ee9"
   },
   "outputs": [
    {
     "name": "stdout",
     "output_type": "stream",
     "text": [
      "Porcentagem de dados ausentes:\n",
      "0.002 %\n",
      "Porcentagem de dados duplicados: \n",
      "0.0 %\n"
     ]
    }
   ],
   "source": [
    "valor_faltante = df.isnull().sum()\n",
    "valor_duplicado = df.duplicated().sum()\n",
    "celulas = np.product(df.shape)\n",
    "\n",
    "print('Porcentagem de dados ausentes:')\n",
    "print(round((valor_faltante.sum()/celulas) * 100, 3), '%')\n",
    "\n",
    "print('Porcentagem de dados duplicados: ')\n",
    "print(round((valor_duplicado.sum()/celulas) * 100, 3), '%')"
   ]
  },
  {
   "cell_type": "code",
   "execution_count": 14,
   "metadata": {
    "colab": {},
    "colab_type": "code",
    "id": "iIARGBtToygv",
    "outputId": "429279c5-6f8a-41cb-d858-1eb6a5e8ec1a"
   },
   "outputs": [
    {
     "data": {
      "text/plain": [
       "(1758279, 25)"
      ]
     },
     "execution_count": 14,
     "metadata": {},
     "output_type": "execute_result"
    }
   ],
   "source": [
    "df.dropna(inplace=True)\n",
    "df.reset_index(drop=True)\n",
    "df.shape"
   ]
  },
  {
   "cell_type": "code",
   "execution_count": 15,
   "metadata": {},
   "outputs": [],
   "source": [
    "def cleanText(text):\n",
    "    text = text.lower()\n",
    "    text = text.strip()\n",
    "    return text"
   ]
  },
  {
   "cell_type": "code",
   "execution_count": 16,
   "metadata": {},
   "outputs": [],
   "source": [
    "df['municipio'] = df['municipio'].apply(cleanText)\n",
    "df['causa_acidente'] = df['causa_acidente'].apply(cleanText)\n",
    "df['tipo_acidente'] = df['tipo_acidente'].apply(cleanText)\n",
    "df['classificacao_acidente'] = df['classificacao_acidente'].apply(cleanText)\n",
    "df['fase_dia'] = df['fase_dia'].apply(cleanText)\n",
    "df['sentido_via'] = df['sentido_via'].apply(cleanText)\n",
    "df['condicao_metereologica'] = df['condicao_metereologica'].apply(cleanText)\n",
    "df['tipo_pista'] = df['tipo_pista'].apply(cleanText)\n",
    "df['tracado_via'] = df['tracado_via'].apply(cleanText)"
   ]
  },
  {
   "cell_type": "code",
   "execution_count": 17,
   "metadata": {
    "colab": {},
    "colab_type": "code",
    "id": "QEi98pIQoyg1",
    "outputId": "14f71ecd-a121-426c-8841-2dd7827129bb"
   },
   "outputs": [],
   "source": [
    "df['id'] = df['id'].astype('int32')\n",
    "df['mortos'] = df['mortos'].astype('int16')\n",
    "df['ilesos'] = df['ilesos'].astype('int16')\n",
    "df['pessoas'] = df['pessoas'].astype('int16')\n",
    "df['feridos'] = df['feridos'].astype('int16')\n",
    "df['veiculos'] = df['veiculos'].astype('int16')\n",
    "df['feridos_leves'] = df['feridos_leves'].astype('int16')\n",
    "df['feridos_graves'] = df['feridos_graves'].astype('int16')"
   ]
  },
  {
   "cell_type": "code",
   "execution_count": 25,
   "metadata": {
    "colab": {},
    "colab_type": "code",
    "id": "p0jLB_BNoyg4",
    "outputId": "bc8133e8-8119-46f2-bea9-e7aa29b05aa7"
   },
   "outputs": [],
   "source": [
    "df['data'] = df['data_inversa'].map(str) + ' ' + df.horario\n",
    "df['data'] = pd.to_datetime(df['data'])\n",
    "\n",
    "df['ano'] = df['data'].dt.year\n",
    "df['mes'] = df['data'].dt.month\n",
    "df['dia'] = df['data'].dt.day\n",
    "\n",
    "df.drop(['data_inversa', 'horario'], axis=1, inplace=True)"
   ]
  },
  {
   "cell_type": "code",
   "execution_count": 26,
   "metadata": {
    "colab": {},
    "colab_type": "code",
    "id": "kn5aE6eroyg7",
    "outputId": "70cfe994-c03c-4644-8678-0a241c05aa8c"
   },
   "outputs": [
    {
     "name": "stdout",
     "output_type": "stream",
     "text": [
      "Números de linhas: 1720498\n",
      "Números de colunas: 25\n"
     ]
    },
    {
     "data": {
      "text/plain": [
       "array([2007, 2008, 2009, 2010, 2011, 2012, 2013, 2014, 2015, 2016, 2017,\n",
       "       2018])"
      ]
     },
     "execution_count": 26,
     "metadata": {},
     "output_type": "execute_result"
    }
   ],
   "source": [
    "df_2007_2018 = df[df['ano']!= 2019]\n",
    "\n",
    "print('Números de linhas:', df_2007_2018.shape[0])\n",
    "print('Números de colunas:', df_2007_2018.shape[1])\n",
    "df_2007_2018['ano'].sort_values().unique()"
   ]
  },
  {
   "cell_type": "markdown",
   "metadata": {
    "colab_type": "text",
    "id": "HJVXWdnloyg-"
   },
   "source": [
    "### 4) **(60%)** Nos blocos seguintes construa análises que vão justificar suas conclusões."
   ]
  },
  {
   "cell_type": "markdown",
   "metadata": {
    "colab_type": "text",
    "id": "7xUj3kSdoyg_"
   },
   "source": [
    "#### 4.1) **(20%)** Análise 1 -  Distribuição dos valores para cada uma das variáveis\n",
    "- Exemplo para variável contínua: se o conjunto de dados possui a variável \"idade\". Quantos % possui a idade entre 0 e 30 anos? 31 a 59? 60+?\n",
    "\n",
    "- Exemplo para variável discreta: se o conjunto de dados possui a variável \"gênero\", quantos % do conjunto de dados é do sexo feminino, quantos % é masculino? Inclua outros gêneros se houver.\n"
   ]
  },
  {
   "cell_type": "code",
   "execution_count": null,
   "metadata": {
    "colab": {},
    "colab_type": "code",
    "id": "imPY_mPMoyhA"
   },
   "outputs": [],
   "source": [
    "# Implemente sua análise aqui. Use mais blocos se achar que ficará mais organizado."
   ]
  },
  {
   "cell_type": "code",
   "execution_count": null,
   "metadata": {
    "colab": {},
    "colab_type": "code",
    "id": "cbr12NG0oyhC",
    "outputId": "6f7e7d00-7138-4cb7-de55-b54189f6d147"
   },
   "outputs": [],
   "source": [
    "round((pd.value_counts(df_2007_2018['classificacao_acidente']) *100) / len(df_2007_2018), 2) .plot.bar()\n",
    "\n",
    "plt.rcParams['figure.figsize'] = [15, 5]\n",
    "plt.ylim(0, 60)\n",
    "\n",
    "plt.ylabel('Porcentagem classificação (%)')\n",
    "plt.xlabel('Classificação dos acidentes')\n",
    "plt.title('Porcentagem da classificação dos acidentes em relação às vítimas')"
   ]
  },
  {
   "cell_type": "code",
   "execution_count": null,
   "metadata": {
    "colab": {},
    "colab_type": "code",
    "id": "m3uqZKMmoyhF",
    "outputId": "7a4374ba-982b-4202-8077-1e439be66720"
   },
   "outputs": [],
   "source": [
    "round((pd.value_counts(df_2007_2018['uf']) * 100) / len(df_2007_2018), 2).plot.bar()\n",
    "\n",
    "plt.rcParams['figure.figsize'] = [15, 5]\n",
    "plt.ylim(0, 20)\n",
    "\n",
    "plt.ylabel('Porcentagem acidentes (%)')\n",
    "plt.xlabel('Sigla Estados (UF)')\n",
    "plt.title('Porcentagem de acidentes por estado')"
   ]
  },
  {
   "cell_type": "code",
   "execution_count": null,
   "metadata": {},
   "outputs": [],
   "source": [
    "municipios = df_2007_2018[df_2007_2018['uf'] == 'MG']\n",
    "pd.value_counts(municipios['municipio']).sort_values(ascending=False).head(10).plot.bar()\n",
    "\n",
    "plt.rcParams['figure.figsize'] = [15, 5]\n",
    "plt.ylim(0, 20000)\n",
    "\n",
    "plt.ylabel('Total de acidentes')\n",
    "plt.xlabel('Cidades (MG)')\n",
    "plt.title('As 10 cidades mineiras com maior ocorrência de acidentes')"
   ]
  },
  {
   "cell_type": "code",
   "execution_count": null,
   "metadata": {
    "colab": {},
    "colab_type": "code",
    "id": "X1ppMJxVoyhI",
    "outputId": "a2b886d8-d3f0-421c-a18e-ead804b7be6f"
   },
   "outputs": [],
   "source": [
    "pd.value_counts(df_2007_2018['causa_acidente']).head(10).plot.bar()\n",
    "\n",
    "plt.rcParams['figure.figsize'] = [15, 5]\n",
    "plt.ylim(0, 600000)\n",
    "\n",
    "plt.ylabel('Total de acidentes')\n",
    "plt.xlabel('Principais causas de acidentes')\n",
    "plt.title('As 10 principais causas de acidentes')"
   ]
  },
  {
   "cell_type": "code",
   "execution_count": null,
   "metadata": {
    "colab": {},
    "colab_type": "code",
    "id": "Y0qAudiooyhL",
    "outputId": "8cb121ce-f534-41a5-a38e-920b18ad9a33"
   },
   "outputs": [],
   "source": [
    "df_2007_2018.groupby(['uf'])['mortos'].sum().sort_values(ascending=False).plot.bar()\n",
    "\n",
    "plt.rcParams['figure.figsize'] = [15, 5]\n",
    "plt.ylim(0, 14000)\n",
    "\n",
    "plt.ylabel('Total de mortos em acidentes')\n",
    "plt.xlabel('Sigla Estados (UF)')\n",
    "plt.title('Quantidade de mortos por UF entre 2007 e 2018')"
   ]
  },
  {
   "cell_type": "code",
   "execution_count": null,
   "metadata": {
    "colab": {},
    "colab_type": "code",
    "id": "viMweHProyhO",
    "outputId": "4d24c401-1296-4d4a-a873-a4ebde62f63d"
   },
   "outputs": [],
   "source": [
    "df_2007_2018.groupby(['ano'])['id'].count().plot.bar()\n",
    "\n",
    "plt.rcParams['figure.figsize'] = [15, 5]\n",
    "plt.ylim(0, 200000)\n",
    "\n",
    "plt.ylabel('Total de acidentes')\n",
    "plt.xlabel('Ano das ocorrências')\n",
    "plt.title('Quantidade de acidentes por ano (2007-2018)')"
   ]
  },
  {
   "cell_type": "code",
   "execution_count": null,
   "metadata": {},
   "outputs": [],
   "source": [
    "df_2007_2018.groupby(['mes'])['id'].count().plot.bar()\n",
    "\n",
    "plt.rcParams['figure.figsize'] = [15, 5]\n",
    "plt.ylim(0, 180000)\n",
    "\n",
    "plt.ylabel('Total de acidentes')\n",
    "plt.xlabel('Mês das ocorrências')\n",
    "plt.title('Quantidade de acidentes por mês (2007-2018)')"
   ]
  },
  {
   "cell_type": "code",
   "execution_count": null,
   "metadata": {},
   "outputs": [],
   "source": [
    "round((pd.value_counts(df_2007_2018['fase_dia'])*100)/len(df_2007_2018), 2).plot.bar()\n",
    "\n",
    "plt.rcParams['figure.figsize'] = [15, 5]\n",
    "plt.ylim(0, 70)\n",
    "\n",
    "plt.ylabel('Porcentagem de acidentes (%)')\n",
    "plt.xlabel('Fase do dia')\n",
    "plt.title('Fase do dia em que ocorreram os acidentes')"
   ]
  },
  {
   "cell_type": "code",
   "execution_count": null,
   "metadata": {},
   "outputs": [],
   "source": [
    "round((pd.value_counts(df_2007_2018['tracado_via'])*100)/len(df_2007_2018), 2).plot.bar()\n",
    "\n",
    "plt.rcParams['figure.figsize'] = [15, 5]\n",
    "plt.ylim(0, 80)\n",
    "\n",
    "plt.ylabel('Porcentagem de acidentes (%)')\n",
    "plt.xlabel('Traçado das vias')\n",
    "plt.title('Traçado das vias onde ocorreram os acidentes')"
   ]
  },
  {
   "cell_type": "code",
   "execution_count": null,
   "metadata": {},
   "outputs": [],
   "source": [
    "df_2007_2018.groupby(['veiculos'])['id'].count().sort_values(ascending=False).head(5).plot.bar()\n",
    "\n",
    "plt.rcParams['figure.figsize'] = [15, 5]\n",
    "plt.ylim(0, 1000000)\n",
    "\n",
    "plt.ylabel('Total de acidentes')\n",
    "plt.xlabel('Quantidade de veículos envolvidos')\n",
    "plt.title('Top 5 da quantidade de veículos envolvidos nas ocorrências de acidentes')"
   ]
  },
  {
   "cell_type": "code",
   "execution_count": null,
   "metadata": {},
   "outputs": [],
   "source": [
    "def orthography_text(text):\n",
    "    if text == 'ceu claro':\n",
    "        text = 'céu claro'\n",
    "    elif text == 'ignorado':\n",
    "        text = 'ignorada'    \n",
    "    return text\n",
    "\n",
    "df_2007_2018['condicao_metereologica'] = df_2007_2018['condicao_metereologica'].apply(orthography_text) "
   ]
  },
  {
   "cell_type": "code",
   "execution_count": null,
   "metadata": {},
   "outputs": [],
   "source": [
    "round((df_2007_2018.groupby(['condicao_metereologica'])['id'].count() * 100) / len(df_2007_2018), 2).sort_values(ascending=False).plot.bar()\n",
    "\n",
    "plt.rcParams['figure.figsize'] = [15, 5]\n",
    "plt.ylim(0, 60)\n",
    "\n",
    "plt.ylabel('Porcentagem de acidentes (%)')\n",
    "plt.xlabel('Condições meteorológicas')\n",
    "plt.title('Condições meteorológicas durante a ocorrência de acidentes')"
   ]
  },
  {
   "cell_type": "markdown",
   "metadata": {
    "colab_type": "text",
    "id": "mVhSbD7voyhR"
   },
   "source": [
    "#### 4.2) **(20%)** Análise 2 - Dependência entre variáveis\n",
    "O aluno deve apresentar as mesmas distribuições para cada valor da variável dependente. Exemplo: Em um conjunto de dados em que as variáveis independentes são idade e sexo, e a variável dependente é renda. O aluno pode dividir a renda em 3 \"grupos\", <1000 reais, entre 1000 e 10000 reais e >10000 reais. Para cada um desses grupos, é necessário apresentar a distribuição das variáveis \"idade\" e \"sexo\".\n"
   ]
  },
  {
   "cell_type": "code",
   "execution_count": null,
   "metadata": {
    "colab": {},
    "colab_type": "code",
    "id": "FRZuuDOXoyhS"
   },
   "outputs": [],
   "source": [
    "# Implemente sua análise aqui. Use mais blocos se achar que ficará mais organizado.\n",
    "\n",
    "# Análises: \n",
    "# A estacao do ano interfere na quantidade de acidentes?\n",
    "# Fins de semana tem mais acidentes do que dia util?\n",
    "# Cria um recorte do dataset e plota\n",
    "# Regiao do pais\n",
    "\n",
    "#Verão: 22 de dezembro a 19 de março\n",
    "#Outono: 20 de março a 20 de junho\n",
    "\n",
    "#Inverno: 21 de junho a 22 de setembro\n",
    "#Primavera: 23 de setembro a 21 de dezembro "
   ]
  },
  {
   "cell_type": "code",
   "execution_count": 40,
   "metadata": {},
   "outputs": [],
   "source": [
    "from datetime import date"
   ]
  },
  {
   "cell_type": "code",
   "execution_count": 46,
   "metadata": {},
   "outputs": [
    {
     "data": {
      "text/html": [
       "<div>\n",
       "<style scoped>\n",
       "    .dataframe tbody tr th:only-of-type {\n",
       "        vertical-align: middle;\n",
       "    }\n",
       "\n",
       "    .dataframe tbody tr th {\n",
       "        vertical-align: top;\n",
       "    }\n",
       "\n",
       "    .dataframe thead th {\n",
       "        text-align: right;\n",
       "    }\n",
       "</style>\n",
       "<table border=\"1\" class=\"dataframe\">\n",
       "  <thead>\n",
       "    <tr style=\"text-align: right;\">\n",
       "      <th></th>\n",
       "      <th>id</th>\n",
       "      <th>horario</th>\n",
       "      <th>uf</th>\n",
       "      <th>br</th>\n",
       "      <th>km</th>\n",
       "      <th>municipio</th>\n",
       "      <th>causa_acidente</th>\n",
       "      <th>tipo_acidente</th>\n",
       "      <th>classificacao_acidente</th>\n",
       "      <th>fase_dia</th>\n",
       "      <th>...</th>\n",
       "      <th>feridos_graves</th>\n",
       "      <th>ilesos</th>\n",
       "      <th>feridos</th>\n",
       "      <th>veiculos</th>\n",
       "      <th>ano</th>\n",
       "      <th>mes</th>\n",
       "      <th>dia</th>\n",
       "      <th>data</th>\n",
       "      <th>dia_da_semana</th>\n",
       "      <th>estacao_do_ano</th>\n",
       "    </tr>\n",
       "  </thead>\n",
       "  <tbody>\n",
       "    <tr>\n",
       "      <th>0</th>\n",
       "      <td>1035523</td>\n",
       "      <td>15:45:00</td>\n",
       "      <td>SC</td>\n",
       "      <td>282</td>\n",
       "      <td>513.7</td>\n",
       "      <td>xaxim</td>\n",
       "      <td>velocidade incompatível</td>\n",
       "      <td>saída de pista</td>\n",
       "      <td>com vítimas feridas</td>\n",
       "      <td>pleno dia</td>\n",
       "      <td>...</td>\n",
       "      <td>0</td>\n",
       "      <td>1</td>\n",
       "      <td>1</td>\n",
       "      <td>1</td>\n",
       "      <td>2012</td>\n",
       "      <td>1</td>\n",
       "      <td>1</td>\n",
       "      <td>2012-01-01 15:45:00</td>\n",
       "      <td>Domingo</td>\n",
       "      <td>verão</td>\n",
       "    </tr>\n",
       "    <tr>\n",
       "      <th>1</th>\n",
       "      <td>1035527</td>\n",
       "      <td>03:00:00</td>\n",
       "      <td>SC</td>\n",
       "      <td>280</td>\n",
       "      <td>188</td>\n",
       "      <td>mafra</td>\n",
       "      <td>ingestão de álcool</td>\n",
       "      <td>colisão lateral</td>\n",
       "      <td>com vítimas feridas</td>\n",
       "      <td>plena noite</td>\n",
       "      <td>...</td>\n",
       "      <td>0</td>\n",
       "      <td>2</td>\n",
       "      <td>1</td>\n",
       "      <td>2</td>\n",
       "      <td>2012</td>\n",
       "      <td>1</td>\n",
       "      <td>1</td>\n",
       "      <td>2012-01-01 03:00:00</td>\n",
       "      <td>Domingo</td>\n",
       "      <td>verão</td>\n",
       "    </tr>\n",
       "    <tr>\n",
       "      <th>2</th>\n",
       "      <td>1035528</td>\n",
       "      <td>05:40:00</td>\n",
       "      <td>SC</td>\n",
       "      <td>116</td>\n",
       "      <td>1.5</td>\n",
       "      <td>mafra</td>\n",
       "      <td>velocidade incompatível</td>\n",
       "      <td>colisão com objeto fixo</td>\n",
       "      <td>sem vítimas</td>\n",
       "      <td>plena noite</td>\n",
       "      <td>...</td>\n",
       "      <td>0</td>\n",
       "      <td>1</td>\n",
       "      <td>0</td>\n",
       "      <td>1</td>\n",
       "      <td>2012</td>\n",
       "      <td>1</td>\n",
       "      <td>1</td>\n",
       "      <td>2012-01-01 05:40:00</td>\n",
       "      <td>Domingo</td>\n",
       "      <td>verão</td>\n",
       "    </tr>\n",
       "    <tr>\n",
       "      <th>3</th>\n",
       "      <td>1035530</td>\n",
       "      <td>06:00:00</td>\n",
       "      <td>RO</td>\n",
       "      <td>364</td>\n",
       "      <td>616.5</td>\n",
       "      <td>itapuã do oeste</td>\n",
       "      <td>outras</td>\n",
       "      <td>saída de pista</td>\n",
       "      <td>com vítimas feridas</td>\n",
       "      <td>pleno dia</td>\n",
       "      <td>...</td>\n",
       "      <td>0</td>\n",
       "      <td>0</td>\n",
       "      <td>1</td>\n",
       "      <td>1</td>\n",
       "      <td>2012</td>\n",
       "      <td>1</td>\n",
       "      <td>1</td>\n",
       "      <td>2012-01-01 06:00:00</td>\n",
       "      <td>Domingo</td>\n",
       "      <td>verão</td>\n",
       "    </tr>\n",
       "    <tr>\n",
       "      <th>4</th>\n",
       "      <td>1035533</td>\n",
       "      <td>16:30:00</td>\n",
       "      <td>RJ</td>\n",
       "      <td>101</td>\n",
       "      <td>47</td>\n",
       "      <td>campos dos goytacazes</td>\n",
       "      <td>ingestão de álcool</td>\n",
       "      <td>queda de motocicleta / bicicleta / veículo</td>\n",
       "      <td>com vítimas feridas</td>\n",
       "      <td>plena noite</td>\n",
       "      <td>...</td>\n",
       "      <td>0</td>\n",
       "      <td>0</td>\n",
       "      <td>1</td>\n",
       "      <td>1</td>\n",
       "      <td>2012</td>\n",
       "      <td>1</td>\n",
       "      <td>1</td>\n",
       "      <td>2012-01-01 16:30:00</td>\n",
       "      <td>Domingo</td>\n",
       "      <td>verão</td>\n",
       "    </tr>\n",
       "  </tbody>\n",
       "</table>\n",
       "<p>5 rows × 27 columns</p>\n",
       "</div>"
      ],
      "text/plain": [
       "        id   horario  uf   br     km              municipio  \\\n",
       "0  1035523  15:45:00  SC  282  513.7                  xaxim   \n",
       "1  1035527  03:00:00  SC  280    188                  mafra   \n",
       "2  1035528  05:40:00  SC  116    1.5                  mafra   \n",
       "3  1035530  06:00:00  RO  364  616.5        itapuã do oeste   \n",
       "4  1035533  16:30:00  RJ  101     47  campos dos goytacazes   \n",
       "\n",
       "            causa_acidente                               tipo_acidente  \\\n",
       "0  velocidade incompatível                              saída de pista   \n",
       "1       ingestão de álcool                             colisão lateral   \n",
       "2  velocidade incompatível                     colisão com objeto fixo   \n",
       "3                   outras                              saída de pista   \n",
       "4       ingestão de álcool  queda de motocicleta / bicicleta / veículo   \n",
       "\n",
       "  classificacao_acidente     fase_dia  ... feridos_graves ilesos feridos  \\\n",
       "0    com vítimas feridas    pleno dia  ...              0      1       1   \n",
       "1    com vítimas feridas  plena noite  ...              0      2       1   \n",
       "2            sem vítimas  plena noite  ...              0      1       0   \n",
       "3    com vítimas feridas    pleno dia  ...              0      0       1   \n",
       "4    com vítimas feridas  plena noite  ...              0      0       1   \n",
       "\n",
       "  veiculos   ano  mes  dia                data  dia_da_semana  estacao_do_ano  \n",
       "0        1  2012    1    1 2012-01-01 15:45:00        Domingo           verão  \n",
       "1        2  2012    1    1 2012-01-01 03:00:00        Domingo           verão  \n",
       "2        1  2012    1    1 2012-01-01 05:40:00        Domingo           verão  \n",
       "3        1  2012    1    1 2012-01-01 06:00:00        Domingo           verão  \n",
       "4        1  2012    1    1 2012-01-01 16:30:00        Domingo           verão  \n",
       "\n",
       "[5 rows x 27 columns]"
      ]
     },
     "execution_count": 46,
     "metadata": {},
     "output_type": "execute_result"
    }
   ],
   "source": [
    "#Verificar: faltou algumas datas\n",
    "\n",
    "def estaco_ano(data):\n",
    "   \n",
    "    dia = data.day\n",
    "    mes = data.month\n",
    "    estacao = ''\n",
    "    \n",
    "    if mes <= 3:\n",
    "        estacao = 'verão'\n",
    "        \n",
    "    if mes == 12 & dia >= 22:  \n",
    "        estacao = 'verão'\n",
    "        \n",
    "    if mes == 3 & dia >= 20:\n",
    "        estacao = 'outono'\n",
    "        \n",
    "    if mes <= 6 & mes > 3:\n",
    "        estacao = 'outono'\n",
    "        \n",
    "    if mes == 6 & dia >= 21:\n",
    "        estacao = 'inverno'\n",
    "    \n",
    "    if mes <= 9 & mes > 6:\n",
    "        estacao = 'inverno'\n",
    "    \n",
    "    if mes == 9 & dia >= 23:\n",
    "        estacao = 'primavera'\n",
    "        \n",
    "    if mes <= 12 & mes > 10:\n",
    "        estacao = 'primavera'\n",
    "      \n",
    "    return estacao\n",
    "\n",
    "df_2007_2018['estacao_do_ano'] = df_2007_2018['data'].apply(estaco_ano)\n",
    "df_2007_2018.head()"
   ]
  },
  {
   "cell_type": "code",
   "execution_count": 47,
   "metadata": {},
   "outputs": [
    {
     "data": {
      "text/html": [
       "<div>\n",
       "<style scoped>\n",
       "    .dataframe tbody tr th:only-of-type {\n",
       "        vertical-align: middle;\n",
       "    }\n",
       "\n",
       "    .dataframe tbody tr th {\n",
       "        vertical-align: top;\n",
       "    }\n",
       "\n",
       "    .dataframe thead th {\n",
       "        text-align: right;\n",
       "    }\n",
       "</style>\n",
       "<table border=\"1\" class=\"dataframe\">\n",
       "  <thead>\n",
       "    <tr style=\"text-align: right;\">\n",
       "      <th></th>\n",
       "      <th>id</th>\n",
       "      <th>horario</th>\n",
       "      <th>uf</th>\n",
       "      <th>br</th>\n",
       "      <th>km</th>\n",
       "      <th>municipio</th>\n",
       "      <th>causa_acidente</th>\n",
       "      <th>tipo_acidente</th>\n",
       "      <th>classificacao_acidente</th>\n",
       "      <th>fase_dia</th>\n",
       "      <th>...</th>\n",
       "      <th>feridos_graves</th>\n",
       "      <th>ilesos</th>\n",
       "      <th>feridos</th>\n",
       "      <th>veiculos</th>\n",
       "      <th>ano</th>\n",
       "      <th>mes</th>\n",
       "      <th>dia</th>\n",
       "      <th>data</th>\n",
       "      <th>dia_da_semana</th>\n",
       "      <th>estacao_do_ano</th>\n",
       "    </tr>\n",
       "  </thead>\n",
       "  <tbody>\n",
       "    <tr>\n",
       "      <th>1758274</th>\n",
       "      <td>83480933</td>\n",
       "      <td>16:00:00</td>\n",
       "      <td>SC</td>\n",
       "      <td>101</td>\n",
       "      <td>37</td>\n",
       "      <td>joinville</td>\n",
       "      <td>falta de atenção</td>\n",
       "      <td>queda de motocicleta / bicicleta / veículo</td>\n",
       "      <td>com vítimas feridas</td>\n",
       "      <td>pleno dia</td>\n",
       "      <td>...</td>\n",
       "      <td>0</td>\n",
       "      <td>2</td>\n",
       "      <td>1</td>\n",
       "      <td>2</td>\n",
       "      <td>2015</td>\n",
       "      <td>12</td>\n",
       "      <td>5</td>\n",
       "      <td>2015-12-05 16:00:00</td>\n",
       "      <td>Sábado</td>\n",
       "      <td>primavera</td>\n",
       "    </tr>\n",
       "    <tr>\n",
       "      <th>1758275</th>\n",
       "      <td>83480982</td>\n",
       "      <td>16:00:00</td>\n",
       "      <td>MT</td>\n",
       "      <td>163</td>\n",
       "      <td>512</td>\n",
       "      <td>diamantino</td>\n",
       "      <td>não guardar distância de segurança</td>\n",
       "      <td>colisão traseira</td>\n",
       "      <td>sem vítimas</td>\n",
       "      <td>pleno dia</td>\n",
       "      <td>...</td>\n",
       "      <td>0</td>\n",
       "      <td>2</td>\n",
       "      <td>0</td>\n",
       "      <td>2</td>\n",
       "      <td>2015</td>\n",
       "      <td>11</td>\n",
       "      <td>23</td>\n",
       "      <td>2015-11-23 16:00:00</td>\n",
       "      <td>Segunda-feira</td>\n",
       "      <td></td>\n",
       "    </tr>\n",
       "    <tr>\n",
       "      <th>1758276</th>\n",
       "      <td>83481192</td>\n",
       "      <td>16:30:00</td>\n",
       "      <td>DF</td>\n",
       "      <td>80</td>\n",
       "      <td>0.5</td>\n",
       "      <td>brasilia</td>\n",
       "      <td>falta de atenção</td>\n",
       "      <td>colisão lateral</td>\n",
       "      <td>com vítimas fatais</td>\n",
       "      <td>pleno dia</td>\n",
       "      <td>...</td>\n",
       "      <td>1</td>\n",
       "      <td>0</td>\n",
       "      <td>2</td>\n",
       "      <td>2</td>\n",
       "      <td>2015</td>\n",
       "      <td>12</td>\n",
       "      <td>24</td>\n",
       "      <td>2015-12-24 16:30:00</td>\n",
       "      <td>Quinta-Feira</td>\n",
       "      <td>primavera</td>\n",
       "    </tr>\n",
       "    <tr>\n",
       "      <th>1758277</th>\n",
       "      <td>83481253</td>\n",
       "      <td>14:30:00</td>\n",
       "      <td>AL</td>\n",
       "      <td>104</td>\n",
       "      <td>52.9</td>\n",
       "      <td>murici</td>\n",
       "      <td>outras</td>\n",
       "      <td>saída de pista</td>\n",
       "      <td>sem vítimas</td>\n",
       "      <td>pleno dia</td>\n",
       "      <td>...</td>\n",
       "      <td>0</td>\n",
       "      <td>2</td>\n",
       "      <td>0</td>\n",
       "      <td>1</td>\n",
       "      <td>2015</td>\n",
       "      <td>7</td>\n",
       "      <td>13</td>\n",
       "      <td>2015-07-13 14:30:00</td>\n",
       "      <td>Segunda-feira</td>\n",
       "      <td></td>\n",
       "    </tr>\n",
       "    <tr>\n",
       "      <th>1758278</th>\n",
       "      <td>83481326</td>\n",
       "      <td>20:50:00</td>\n",
       "      <td>RS</td>\n",
       "      <td>116</td>\n",
       "      <td>266</td>\n",
       "      <td>canoas</td>\n",
       "      <td>falta de atenção</td>\n",
       "      <td>saída de pista</td>\n",
       "      <td>sem vítimas</td>\n",
       "      <td>plena noite</td>\n",
       "      <td>...</td>\n",
       "      <td>0</td>\n",
       "      <td>1</td>\n",
       "      <td>0</td>\n",
       "      <td>1</td>\n",
       "      <td>2015</td>\n",
       "      <td>7</td>\n",
       "      <td>13</td>\n",
       "      <td>2015-07-13 20:50:00</td>\n",
       "      <td>Segunda-feira</td>\n",
       "      <td></td>\n",
       "    </tr>\n",
       "  </tbody>\n",
       "</table>\n",
       "<p>5 rows × 27 columns</p>\n",
       "</div>"
      ],
      "text/plain": [
       "               id   horario  uf   br    km   municipio  \\\n",
       "1758274  83480933  16:00:00  SC  101    37   joinville   \n",
       "1758275  83480982  16:00:00  MT  163   512  diamantino   \n",
       "1758276  83481192  16:30:00  DF   80   0.5    brasilia   \n",
       "1758277  83481253  14:30:00  AL  104  52.9      murici   \n",
       "1758278  83481326  20:50:00  RS  116   266      canoas   \n",
       "\n",
       "                             causa_acidente  \\\n",
       "1758274                    falta de atenção   \n",
       "1758275  não guardar distância de segurança   \n",
       "1758276                    falta de atenção   \n",
       "1758277                              outras   \n",
       "1758278                    falta de atenção   \n",
       "\n",
       "                                      tipo_acidente classificacao_acidente  \\\n",
       "1758274  queda de motocicleta / bicicleta / veículo    com vítimas feridas   \n",
       "1758275                            colisão traseira            sem vítimas   \n",
       "1758276                             colisão lateral     com vítimas fatais   \n",
       "1758277                              saída de pista            sem vítimas   \n",
       "1758278                              saída de pista            sem vítimas   \n",
       "\n",
       "            fase_dia  ... feridos_graves ilesos feridos veiculos   ano  mes  \\\n",
       "1758274    pleno dia  ...              0      2       1        2  2015   12   \n",
       "1758275    pleno dia  ...              0      2       0        2  2015   11   \n",
       "1758276    pleno dia  ...              1      0       2        2  2015   12   \n",
       "1758277    pleno dia  ...              0      2       0        1  2015    7   \n",
       "1758278  plena noite  ...              0      1       0        1  2015    7   \n",
       "\n",
       "         dia                data  dia_da_semana  estacao_do_ano  \n",
       "1758274    5 2015-12-05 16:00:00         Sábado       primavera  \n",
       "1758275   23 2015-11-23 16:00:00  Segunda-feira                  \n",
       "1758276   24 2015-12-24 16:30:00   Quinta-Feira       primavera  \n",
       "1758277   13 2015-07-13 14:30:00  Segunda-feira                  \n",
       "1758278   13 2015-07-13 20:50:00  Segunda-feira                  \n",
       "\n",
       "[5 rows x 27 columns]"
      ]
     },
     "execution_count": 47,
     "metadata": {},
     "output_type": "execute_result"
    }
   ],
   "source": [
    "DIAS = [\n",
    "    'Segunda-feira',\n",
    "    'Terça-feira',\n",
    "    'Quarta-feira',\n",
    "    'Quinta-Feira',\n",
    "    'Sexta-feira',\n",
    "    'Sábado',\n",
    "    'Domingo'\n",
    "]\n",
    "\n",
    "def dia_semana(data):\n",
    "   \n",
    "    data = date(year=data.year, month=data.month, day=data.day)\n",
    "    indice_da_semana = data.weekday()\n",
    "    dia_semana = DIAS[indice_da_semana]\n",
    "    \n",
    "    return dia_semana\n",
    "\n",
    "df_2007_2018['dia_da_semana'] = df_2007_2018['data'].apply(dia_semana)\n",
    "df_2007_2018.tail()"
   ]
  },
  {
   "cell_type": "code",
   "execution_count": 36,
   "metadata": {},
   "outputs": [
    {
     "data": {
      "text/plain": [
       "Text(0.5, 1.0, 'O dia da semana influencia na quantidade de ocorrências?')"
      ]
     },
     "execution_count": 36,
     "metadata": {},
     "output_type": "execute_result"
    },
    {
     "data": {
      "image/png": "[encoded data removed]",
      "text/plain": [
       "<Figure size 1080x360 with 1 Axes>"
      ]
     },
     "metadata": {
      "needs_background": "light"
     },
     "output_type": "display_data"
    }
   ],
   "source": [
    "round((df_2007_2018.groupby(['dia_da_semana'])['id'].count() * 100) / len(df_2007_2018), 2).sort_values(ascending=True).plot.bar()\n",
    "\n",
    "plt.rcParams['figure.figsize'] = [15, 5]\n",
    "plt.ylim(0, 30)\n",
    "\n",
    "plt.ylabel('Porcentagem de acidentes (%)')\n",
    "plt.xlabel('Dia da semana')\n",
    "plt.title('O dia da semana influencia na quantidade de ocorrências?')"
   ]
  },
  {
   "cell_type": "code",
   "execution_count": null,
   "metadata": {},
   "outputs": [],
   "source": []
  },
  {
   "cell_type": "code",
   "execution_count": null,
   "metadata": {},
   "outputs": [],
   "source": []
  },
  {
   "cell_type": "markdown",
   "metadata": {
    "colab_type": "text",
    "id": "r7LZUv3coyhV"
   },
   "source": [
    "#### 4.3) **(20%)** Análise 3 - Correlação entre variáveis\n",
    "\n",
    "O aluno deve apresentar 3 análises de correlação entre variáveis do conjunto de dados trabalhado. Exemplo: Em um conjunto de dados com as informações de temperatura e ocorrência de incêndios, eu gostaria de saber a incidência de correlação entre as duas variáveis.\n",
    "\n"
   ]
  },
  {
   "cell_type": "code",
   "execution_count": null,
   "metadata": {},
   "outputs": [],
   "source": [
    "df_corr = df_2007_2018.drop(['id', 'mes', 'ano','feridos_leves', 'feridos_graves'], axis=1)\n",
    "df_corr.corr().style.format('{:.2}').background_gradient(cmap=plt.get_cmap('coolwarm'), axis=1)"
   ]
  },
  {
   "cell_type": "code",
   "execution_count": null,
   "metadata": {
    "colab": {},
    "colab_type": "code",
    "id": "QR8NuvrtoyhW"
   },
   "outputs": [],
   "source": [
    "# Primeiro par de variáveis: Implemente sua análise aqui. Use mais blocos se achar que ficará mais organizado.\n",
    "#Qtde de mortos x veículos\n",
    "\n",
    "df_2007_2018['mortos'].corr(df_2007_2018['veiculos'])"
   ]
  },
  {
   "cell_type": "code",
   "execution_count": null,
   "metadata": {
    "colab": {},
    "colab_type": "code",
    "id": "_nJHX-_Qoyhb"
   },
   "outputs": [],
   "source": [
    "# Segundo par de variáveis: Implemente sua análise aqui. Use mais blocos se achar que ficará mais organizado."
   ]
  },
  {
   "cell_type": "markdown",
   "metadata": {
    "colab": {},
    "colab_type": "code",
    "id": "6kYfJ3xQoyhg"
   },
   "source": [
    "###### Terceiro par de variáveis: Implemente sua análise aqui. Use mais blocos se achar que ficará mais organizado."
   ]
  },
  {
   "cell_type": "markdown",
   "metadata": {
    "colab_type": "text",
    "id": "wt-dJLfJoyhi"
   },
   "source": [
    "### 5) Conclusões **15%**"
   ]
  },
  {
   "cell_type": "markdown",
   "metadata": {
    "colab_type": "text",
    "id": "0Ym94qEsoyhj"
   },
   "source": [
    "*O que é possível concluir com os dados que você analisou? Se fosse fazer uma apresentação, o que levaria como os maiores destaques e por que?*\n",
    "\n",
    "Podemos inferir, de acordo com os dados, que do total de acidentes compreendidos entre janeiro de 2007 e dezembro de 2018:\n",
    "\n",
    "- Aproximadamente, 55% dos acidentes foram classificados como sem vítimas.\n",
    "- Dentre os estados, Minas Gerais possui a maior % de acidentes (14,5%), provavelmente por possuir a maior malha rodoviária do país.\n",
    "- Em MG, a cidade em que ocorre mais acidentes é Betim (17.465).\n",
    "- A principal causa de acidentes é a falta de atenção, com um total de 507.431 ocorrências nesse período.\n",
    "- Minas Gerais possui a maior quantidade de mortes em acidentes nas rodovias com um total de 13.012 falecidos.\n",
    "- Houve um aumento gradativo das ocorrências de acidentes entre 2007 e 2011. Tivemos uma queda significativa em 2012 e após um aumento em 2013, os ocorrências voltaram a cair e mativeram esse padrão de queda até o ano 2018.\n",
    "- Em média, 57% dos acidentes ocorreram em pleno dia.\n",
    "- Cerca de 70% foram em pistas com traçado reto.\n",
    "- A maioria dos acidentes envolveram dois veículos (904.764).\n",
    "- Dezembro e Janeiro são os meses com maiores registros de ocorrências.\n",
    "- 48.79% dos acidentes ocorreram com o céu claro.\n",
    "\n",
    "Conforme análise de dependências de variáveis no ítem 4.2, pode-se perceber que:\n",
    "\n",
    "- O dia da semana não interfere na quntidade de acidentes, visto que temos uma distribuição equilibrada como demostra o gráfico.\n",
    "\n",
    "\n",
    "Esses são os dados que considero mais importante na análise, pois representam os pontos nos quais focar para o desenvolvimento de uma tratativa do problema."
   ]
  },
  {
   "cell_type": "markdown",
   "metadata": {
    "colab_type": "text",
    "id": "wZAl9jJboyhk"
   },
   "source": []
  }
 ],
 "metadata": {
  "colab": {
   "collapsed_sections": [],
   "name": "template.ipynb",
   "provenance": []
  },
  "file_extension": ".py",
  "kernelspec": {
   "display_name": "Python 3",
   "language": "python",
   "name": "python3"
  },
  "language_info": {
   "codemirror_mode": {
    "name": "ipython",
    "version": 3
   },
   "file_extension": ".py",
   "mimetype": "text/x-python",
   "name": "python",
   "nbconvert_exporter": "python",
   "pygments_lexer": "ipython3",
   "version": "3.7.3"
  },
  "mimetype": "text/x-python",
  "name": "python",
  "npconvert_exporter": "python",
  "pygments_lexer": "ipython3",
  "version": 3
 },
 "nbformat": 4,
 "nbformat_minor": 1
}
