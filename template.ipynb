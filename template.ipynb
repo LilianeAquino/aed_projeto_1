{
  "nbformat": 4,
  "nbformat_minor": 0,
  "metadata": {
    "file_extension": ".py",
    "kernelspec": {
      "display_name": "Python 3",
      "language": "python",
      "name": "python3"
    },
    "language_info": {
      "codemirror_mode": {
        "name": "ipython",
        "version": 3
      },
      "file_extension": ".py",
      "mimetype": "text/x-python",
      "name": "python",
      "nbconvert_exporter": "python",
      "pygments_lexer": "ipython3",
      "version": "3.7.3"
    },
    "mimetype": "text/x-python",
    "name": "python",
    "npconvert_exporter": "python",
    "pygments_lexer": "ipython3",
    "version": 3,
    "colab": {
      "name": "template.ipynb",
      "provenance": [],
      "collapsed_sections": []
    }
  },
  "cells": [
    {
      "cell_type": "markdown",
      "metadata": {
        "id": "CEtG6c4koygW",
        "colab_type": "text"
      },
      "source": [
        "# Projeto #1 - Análise Exploratória de Dados\n",
        "\n",
        "Antes de começar, leia as [Instruções](https://github.com/thvmm/pos-ds-ia/tree/master/projeto_1#instru%C3%A7%C3%B5es) e os [Critérios de Avaliação](https://github.com/thvmm/pos-ds-ia/tree/master/projeto_1#crit%C3%A9rios-de-avalia%C3%A7%C3%A3o)\n"
      ]
    },
    {
      "cell_type": "markdown",
      "metadata": {
        "id": "uA3cQkV2oygZ",
        "colab_type": "text"
      },
      "source": [
        "### 1) **(5%)** Qual a base escolhida e qual seu interesse nela?"
      ]
    },
    {
      "cell_type": "markdown",
      "metadata": {
        "id": "-B9UmVQNoyga",
        "colab_type": "text"
      },
      "source": [
        "*Indique o link da base no Kaggle e explique em um parágrafo curto por que essa base é interessante para você.*\n",
        "\n",
        "Link kagle: https://www.kaggle.com/equeiroz/acidentes-rodovias-federais-brasil-jan07-a-jul19\n",
        "\n",
        "Link do drive com os dados integrados: https://drive.google.com/drive/folders/1T5AcEd15lx59zlK-aHLN3Tdnq4PNbD7S?usp=sharing\n",
        "\n",
        "Essa base despertou meu interesse por se tratar de uma realidade brasileira. As causas de acidentes ocorrem pelas condições das estradas? Pelas imperícias dos motoristas? Essas são algumas das perguntas que passam na minha cabeça quando vejo uma notícia de acidente. Logo, é interessante ter essas respostas através da análise dos dados."
      ]
    },
    {
      "cell_type": "markdown",
      "metadata": {
        "id": "izDzhwpIoygb",
        "colab_type": "text"
      },
      "source": [
        "### 2) **(5%)** Descrição básica do conjunto de dados escolhido pelo aluno (1 parágrafo).\n",
        "- Identificação da variável a serem trabalhadas\n",
        "- Classificação das variáveis como: contínua ou discreta.\n"
      ]
    },
    {
      "cell_type": "markdown",
      "metadata": {
        "id": "i-GPuu6Toygc",
        "colab_type": "text"
      },
      "source": [
        "*Descrição da base e suas variáveis*\n",
        "\n",
        "Essa base é composta pelos dados da Polícia Rodoviária Federal sobre os registros de ocorrências de acidentes nas rodovias federais brasileiras no período de 01/2007 a 07/2019. Composto por 24 colunas e 1.758.765 registros.\n",
        "\n",
        "CATEGÓRICAS:\n",
        "\n",
        "- uf\n",
        "- municipio\n",
        "- causa_acidente\n",
        "- tipo_acidente\n",
        "- classificacao_acidente\n",
        "- fase_dia\n",
        "- sentido_via\n",
        "- condicao_metereologica\n",
        "- tipo_pista\n",
        "- tracado_via\n",
        "- uso_solo\n",
        "\n",
        "CONTÍNUAS:\n",
        "\n",
        "- id\n",
        "- data_inversa\n",
        "- horario\n",
        "- br\n",
        "\n",
        "DISCRETAS:\n",
        "\n",
        "- pessoas\n",
        "- mortos\n",
        "- feridos_leves\n",
        "- feridos_graves\n",
        "- ilesos\n",
        "- ignorados\n",
        "- feridos\n",
        "- veiculos"
      ]
    },
    {
      "cell_type": "markdown",
      "metadata": {
        "id": "OdQs-iNqoygd",
        "colab_type": "text"
      },
      "source": [
        "### 3) **(15%)** Faça uma avaliação descritiva da sua base. Quantas linhas ela possui? Quais os tipos de dados? Quantas e quais features possuem?\n",
        "\n",
        "Cada variável escolhida pelo aluno precisa passar por ao menos 1 pré-processamento. O pré-processamento pode ser (mas não está limitado a):\n",
        "- Checagem se os valores estão dentro de um limite permitido ou razoável.\n",
        "- Tratamento de valores ausentes por eliminação ou substituição.\n",
        "- Conversão do tipo de dados.\n"
      ]
    },
    {
      "cell_type": "code",
      "metadata": {
        "id": "4bG6r2Bwoyge",
        "colab_type": "code",
        "colab": {}
      },
      "source": [
        "# Implemente sua análise aqui. Use mais blocos se achar que ficará mais organizado.\n",
        "\n",
        "import pandas as pd\n",
        "import numpy as np\n",
        "import matplotlib.pyplot as plt\n",
        "\n",
        "plt.style.use('bmh')\n",
        "\n",
        "%matplotlib inline"
      ],
      "execution_count": 0,
      "outputs": []
    },
    {
      "cell_type": "code",
      "metadata": {
        "id": "H8Xxqiwcoygh",
        "colab_type": "code",
        "colab": {},
        "outputId": "eff81565-4230-4ba0-9ea0-e634e493df06"
      },
      "source": [
        "df = pd.read_csv('acidentes-rodovia-br.csv')\n",
        "df.drop(['Unnamed: 0'], axis=1, inplace=True)\n",
        "df.head(2)"
      ],
      "execution_count": 0,
      "outputs": [
        {
          "output_type": "stream",
          "text": [
            "/home/gustavo/anaconda3/lib/python3.7/site-packages/IPython/core/interactiveshell.py:3049: DtypeWarning: Columns (5,6) have mixed types. Specify dtype option on import or set low_memory=False.\n",
            "  interactivity=interactivity, compiler=compiler, result=result)\n"
          ],
          "name": "stderr"
        },
        {
          "output_type": "execute_result",
          "data": {
            "text/html": [
              "<div>\n",
              "<style scoped>\n",
              "    .dataframe tbody tr th:only-of-type {\n",
              "        vertical-align: middle;\n",
              "    }\n",
              "\n",
              "    .dataframe tbody tr th {\n",
              "        vertical-align: top;\n",
              "    }\n",
              "\n",
              "    .dataframe thead th {\n",
              "        text-align: right;\n",
              "    }\n",
              "</style>\n",
              "<table border=\"1\" class=\"dataframe\">\n",
              "  <thead>\n",
              "    <tr style=\"text-align: right;\">\n",
              "      <th></th>\n",
              "      <th>id</th>\n",
              "      <th>data_inversa</th>\n",
              "      <th>horario</th>\n",
              "      <th>uf</th>\n",
              "      <th>br</th>\n",
              "      <th>km</th>\n",
              "      <th>municipio</th>\n",
              "      <th>causa_acidente</th>\n",
              "      <th>tipo_acidente</th>\n",
              "      <th>classificacao_acidente</th>\n",
              "      <th>...</th>\n",
              "      <th>tracado_via</th>\n",
              "      <th>uso_solo</th>\n",
              "      <th>pessoas</th>\n",
              "      <th>mortos</th>\n",
              "      <th>feridos_leves</th>\n",
              "      <th>feridos_graves</th>\n",
              "      <th>ilesos</th>\n",
              "      <th>ignorados</th>\n",
              "      <th>feridos</th>\n",
              "      <th>veiculos</th>\n",
              "    </tr>\n",
              "  </thead>\n",
              "  <tbody>\n",
              "    <tr>\n",
              "      <th>0</th>\n",
              "      <td>1035523.0</td>\n",
              "      <td>2012-01-01</td>\n",
              "      <td>15:45:00</td>\n",
              "      <td>SC</td>\n",
              "      <td>282</td>\n",
              "      <td>513.7</td>\n",
              "      <td>XAXIM</td>\n",
              "      <td>Velocidade incompatível</td>\n",
              "      <td>Saída de Pista</td>\n",
              "      <td>Com Vítimas Feridas</td>\n",
              "      <td>...</td>\n",
              "      <td>Curva</td>\n",
              "      <td>Rural</td>\n",
              "      <td>2</td>\n",
              "      <td>0</td>\n",
              "      <td>1</td>\n",
              "      <td>0</td>\n",
              "      <td>1</td>\n",
              "      <td>0</td>\n",
              "      <td>1</td>\n",
              "      <td>1</td>\n",
              "    </tr>\n",
              "    <tr>\n",
              "      <th>1</th>\n",
              "      <td>1035527.0</td>\n",
              "      <td>2012-01-01</td>\n",
              "      <td>03:00:00</td>\n",
              "      <td>SC</td>\n",
              "      <td>280</td>\n",
              "      <td>188</td>\n",
              "      <td>MAFRA</td>\n",
              "      <td>Ingestão de álcool</td>\n",
              "      <td>Colisão lateral</td>\n",
              "      <td>Com Vítimas Feridas</td>\n",
              "      <td>...</td>\n",
              "      <td>Curva</td>\n",
              "      <td>Rural</td>\n",
              "      <td>3</td>\n",
              "      <td>0</td>\n",
              "      <td>1</td>\n",
              "      <td>0</td>\n",
              "      <td>2</td>\n",
              "      <td>0</td>\n",
              "      <td>1</td>\n",
              "      <td>2</td>\n",
              "    </tr>\n",
              "  </tbody>\n",
              "</table>\n",
              "<p>2 rows × 24 columns</p>\n",
              "</div>"
            ],
            "text/plain": [
              "          id data_inversa   horario  uf   br     km municipio  \\\n",
              "0  1035523.0   2012-01-01  15:45:00  SC  282  513.7     XAXIM   \n",
              "1  1035527.0   2012-01-01  03:00:00  SC  280    188     MAFRA   \n",
              "\n",
              "            causa_acidente    tipo_acidente classificacao_acidente  ...  \\\n",
              "0  Velocidade incompatível   Saída de Pista    Com Vítimas Feridas  ...   \n",
              "1       Ingestão de álcool  Colisão lateral    Com Vítimas Feridas  ...   \n",
              "\n",
              "  tracado_via uso_solo pessoas mortos feridos_leves feridos_graves  ilesos  \\\n",
              "0       Curva    Rural       2      0             1              0       1   \n",
              "1       Curva    Rural       3      0             1              0       2   \n",
              "\n",
              "   ignorados  feridos  veiculos  \n",
              "0          0        1         1  \n",
              "1          0        1         2  \n",
              "\n",
              "[2 rows x 24 columns]"
            ]
          },
          "metadata": {
            "tags": []
          },
          "execution_count": 2
        }
      ]
    },
    {
      "cell_type": "code",
      "metadata": {
        "id": "1T7-yJrRoygl",
        "colab_type": "code",
        "colab": {},
        "outputId": "09691e6c-6014-4819-cb6f-623de80b5483"
      },
      "source": [
        "df.drop(df[df.uf == '(null)'].index, inplace=True)\n",
        "df.drop(df[df.classificacao_acidente == '(null)'].index, inplace=True)\n",
        "\n",
        "print('Números de linhas:', df.shape[0])\n",
        "print('Números de colunas:', df.shape[1])\n",
        "print('Colunas presentes: ')\n",
        "print(df.columns)"
      ],
      "execution_count": 0,
      "outputs": [
        {
          "output_type": "stream",
          "text": [
            "Números de linhas: 1758728\n",
            "Números de colunas: 24\n",
            "Colunas presentes: \n",
            "Index(['id', 'data_inversa', 'horario', 'uf', 'br', 'km', 'municipio',\n",
            "       'causa_acidente', 'tipo_acidente', 'classificacao_acidente', 'fase_dia',\n",
            "       'sentido_via', 'condicao_metereologica', 'tipo_pista', 'tracado_via',\n",
            "       'uso_solo', 'pessoas', 'mortos', 'feridos_leves', 'feridos_graves',\n",
            "       'ilesos', 'ignorados', 'feridos', 'veiculos'],\n",
            "      dtype='object')\n"
          ],
          "name": "stdout"
        }
      ]
    },
    {
      "cell_type": "code",
      "metadata": {
        "id": "sPwP8Mr0oygp",
        "colab_type": "code",
        "colab": {},
        "outputId": "b5e42888-18c7-46b9-83a9-aec9e31c921f"
      },
      "source": [
        "df.dtypes"
      ],
      "execution_count": 0,
      "outputs": [
        {
          "output_type": "execute_result",
          "data": {
            "text/plain": [
              "id                        float64\n",
              "data_inversa               object\n",
              "horario                    object\n",
              "uf                         object\n",
              "br                         object\n",
              "km                         object\n",
              "municipio                  object\n",
              "causa_acidente             object\n",
              "tipo_acidente              object\n",
              "classificacao_acidente     object\n",
              "fase_dia                   object\n",
              "sentido_via                object\n",
              "condicao_metereologica     object\n",
              "tipo_pista                 object\n",
              "tracado_via                object\n",
              "uso_solo                   object\n",
              "pessoas                     int64\n",
              "mortos                      int64\n",
              "feridos_leves               int64\n",
              "feridos_graves              int64\n",
              "ilesos                      int64\n",
              "ignorados                   int64\n",
              "feridos                     int64\n",
              "veiculos                    int64\n",
              "dtype: object"
            ]
          },
          "metadata": {
            "tags": []
          },
          "execution_count": 4
        }
      ]
    },
    {
      "cell_type": "code",
      "metadata": {
        "id": "x1_IsStmoygs",
        "colab_type": "code",
        "colab": {},
        "outputId": "341832b4-abd9-4b7e-b4d3-38dfdfe15ee9"
      },
      "source": [
        "print('Porcentagem de dados ausentes:')\n",
        "\n",
        "valor_faltante = df.isnull().sum()\n",
        "celulas = np.product(df.shape)\n",
        "print((valor_faltante.sum()/celulas) * 100)"
      ],
      "execution_count": 0,
      "outputs": [
        {
          "output_type": "stream",
          "text": [
            "Quantidade de dados ausentes:\n"
          ],
          "name": "stdout"
        },
        {
          "output_type": "execute_result",
          "data": {
            "text/plain": [
              "id                          0\n",
              "data_inversa                0\n",
              "horario                     0\n",
              "uf                          0\n",
              "br                        320\n",
              "km                        320\n",
              "municipio                   0\n",
              "causa_acidente              0\n",
              "tipo_acidente               0\n",
              "classificacao_acidente      1\n",
              "fase_dia                    1\n",
              "sentido_via                 0\n",
              "condicao_metereologica      3\n",
              "tipo_pista                  0\n",
              "tracado_via                 0\n",
              "uso_solo                    0\n",
              "pessoas                     0\n",
              "mortos                      0\n",
              "feridos_leves               0\n",
              "feridos_graves              0\n",
              "ilesos                      0\n",
              "ignorados                   0\n",
              "feridos                     0\n",
              "veiculos                    0\n",
              "dtype: int64"
            ]
          },
          "metadata": {
            "tags": []
          },
          "execution_count": 5
        }
      ]
    },
    {
      "cell_type": "code",
      "metadata": {
        "id": "iIARGBtToygv",
        "colab_type": "code",
        "colab": {},
        "outputId": "429279c5-6f8a-41cb-d858-1eb6a5e8ec1a"
      },
      "source": [
        "df.dropna(inplace=True)"
      ],
      "execution_count": 0,
      "outputs": [
        {
          "output_type": "stream",
          "text": [
            "Quantidade de dados ausentes:\n"
          ],
          "name": "stdout"
        },
        {
          "output_type": "execute_result",
          "data": {
            "text/plain": [
              "id                        0\n",
              "data_inversa              0\n",
              "horario                   0\n",
              "uf                        0\n",
              "br                        0\n",
              "km                        0\n",
              "municipio                 0\n",
              "causa_acidente            0\n",
              "tipo_acidente             0\n",
              "classificacao_acidente    0\n",
              "fase_dia                  0\n",
              "sentido_via               0\n",
              "condicao_metereologica    0\n",
              "tipo_pista                0\n",
              "tracado_via               0\n",
              "uso_solo                  0\n",
              "pessoas                   0\n",
              "mortos                    0\n",
              "feridos_leves             0\n",
              "feridos_graves            0\n",
              "ilesos                    0\n",
              "ignorados                 0\n",
              "feridos                   0\n",
              "veiculos                  0\n",
              "dtype: int64"
            ]
          },
          "metadata": {
            "tags": []
          },
          "execution_count": 6
        }
      ]
    },
    {
      "cell_type": "code",
      "metadata": {
        "id": "UCILHJ1Foygy",
        "colab_type": "code",
        "colab": {},
        "outputId": "f5bec226-827d-4a84-b78f-dbef67df9919"
      },
      "source": [
        "print('Porcentagem de dados duplicados: ')\n",
        "valor_duplicado = df.duplicated().sum()\n",
        "print((valor_duplicado.sum()/celulas)*100)"
      ],
      "execution_count": 0,
      "outputs": [
        {
          "output_type": "stream",
          "text": [
            "Quantidade de dados duplicados:  0\n"
          ],
          "name": "stdout"
        }
      ]
    },
    {
      "cell_type": "code",
      "metadata": {
        "id": "QEi98pIQoyg1",
        "colab_type": "code",
        "colab": {},
        "outputId": "14f71ecd-a121-426c-8841-2dd7827129bb"
      },
      "source": [
        "df.id = df.id.astype('int32')\n",
        "df.pessoas = df.pessoas.astype('int16')\n",
        "df.mortos = df.mortos.astype('int16')\n",
        "df.feridos_leves = df.feridos_leves.astype('int16')\n",
        "df.feridos_graves = df.feridos_graves.astype('int16')\n",
        "\n",
        "df.ilesos = df.ilesos.astype('int16')\n",
        "df.ignorados = df.ignorados.astype('int16')\n",
        "df.feridos = df.feridos.astype('int16')\n",
        "df.veiculos = df.veiculos.astype('int16')\n",
        "\n",
        "df.km = df.km.astype('category')\n",
        "df.uf = df.uf.astype('category')\n",
        "df.br = df.br.astype('category')\n",
        "df.municipio = df.municipio.astype('category')\n",
        "\n",
        "df.causa_acidente = df.causa_acidente.astype('category')\n",
        "df.tipo_acidente = df.tipo_acidente.astype('category')\n",
        "df.data = df.classificacao_acidente.astype('category')\n",
        "df.fase_dia = df.fase_dia.astype('category')\n",
        "df.sentido_via = df.sentido_via.astype('category')\n",
        "\n",
        "df.condicao_metereologica = df.condicao_metereologica.astype('category')\n",
        "df.tipo_pista = df.tipo_pista.astype('category')\n",
        "df.tracado_via = df.tracado_via.astype('category')\n",
        "df.uso_solo = df.uso_solo.astype('category')\n",
        "df.classificacao_acidente = df.classificacao_acidente.astype('category')\n",
        "\n",
        "df.dtypes"
      ],
      "execution_count": 0,
      "outputs": [
        {
          "output_type": "stream",
          "text": [
            "/home/gustavo/anaconda3/lib/python3.7/site-packages/ipykernel_launcher.py:19: UserWarning: Pandas doesn't allow columns to be created via a new attribute name - see https://pandas.pydata.org/pandas-docs/stable/indexing.html#attribute-access\n"
          ],
          "name": "stderr"
        },
        {
          "output_type": "execute_result",
          "data": {
            "text/plain": [
              "id                           int32\n",
              "data_inversa                object\n",
              "horario                     object\n",
              "uf                        category\n",
              "br                        category\n",
              "km                        category\n",
              "municipio                 category\n",
              "causa_acidente            category\n",
              "tipo_acidente             category\n",
              "classificacao_acidente    category\n",
              "fase_dia                  category\n",
              "sentido_via               category\n",
              "condicao_metereologica    category\n",
              "tipo_pista                category\n",
              "tracado_via               category\n",
              "uso_solo                  category\n",
              "pessoas                      int16\n",
              "mortos                       int16\n",
              "feridos_leves                int16\n",
              "feridos_graves               int16\n",
              "ilesos                       int16\n",
              "ignorados                    int16\n",
              "feridos                      int16\n",
              "veiculos                     int16\n",
              "dtype: object"
            ]
          },
          "metadata": {
            "tags": []
          },
          "execution_count": 8
        }
      ]
    },
    {
      "cell_type": "code",
      "metadata": {
        "id": "p0jLB_BNoyg4",
        "colab_type": "code",
        "colab": {},
        "outputId": "bc8133e8-8119-46f2-bea9-e7aa29b05aa7"
      },
      "source": [
        "df['data'] = df.data_inversa.map(str) + ' ' + df.horario\n",
        "df.drop(['data_inversa', 'horario'], axis=1, inplace=True)\n",
        "df['data'] = pd.to_datetime(df['data'])\n",
        "\n",
        "df['ano'] = df['data'].dt.year\n",
        "df['mes'] = df['data'].dt.month\n",
        "df.head(2)"
      ],
      "execution_count": 0,
      "outputs": [
        {
          "output_type": "execute_result",
          "data": {
            "text/html": [
              "<div>\n",
              "<style scoped>\n",
              "    .dataframe tbody tr th:only-of-type {\n",
              "        vertical-align: middle;\n",
              "    }\n",
              "\n",
              "    .dataframe tbody tr th {\n",
              "        vertical-align: top;\n",
              "    }\n",
              "\n",
              "    .dataframe thead th {\n",
              "        text-align: right;\n",
              "    }\n",
              "</style>\n",
              "<table border=\"1\" class=\"dataframe\">\n",
              "  <thead>\n",
              "    <tr style=\"text-align: right;\">\n",
              "      <th></th>\n",
              "      <th>id</th>\n",
              "      <th>uf</th>\n",
              "      <th>br</th>\n",
              "      <th>km</th>\n",
              "      <th>municipio</th>\n",
              "      <th>causa_acidente</th>\n",
              "      <th>tipo_acidente</th>\n",
              "      <th>classificacao_acidente</th>\n",
              "      <th>fase_dia</th>\n",
              "      <th>sentido_via</th>\n",
              "      <th>...</th>\n",
              "      <th>mortos</th>\n",
              "      <th>feridos_leves</th>\n",
              "      <th>feridos_graves</th>\n",
              "      <th>ilesos</th>\n",
              "      <th>ignorados</th>\n",
              "      <th>feridos</th>\n",
              "      <th>veiculos</th>\n",
              "      <th>data</th>\n",
              "      <th>ano</th>\n",
              "      <th>mes</th>\n",
              "    </tr>\n",
              "  </thead>\n",
              "  <tbody>\n",
              "    <tr>\n",
              "      <th>0</th>\n",
              "      <td>1035523</td>\n",
              "      <td>SC</td>\n",
              "      <td>282</td>\n",
              "      <td>513.7</td>\n",
              "      <td>XAXIM</td>\n",
              "      <td>Velocidade incompatível</td>\n",
              "      <td>Saída de Pista</td>\n",
              "      <td>Com Vítimas Feridas</td>\n",
              "      <td>Pleno dia</td>\n",
              "      <td>Crescente</td>\n",
              "      <td>...</td>\n",
              "      <td>0</td>\n",
              "      <td>1</td>\n",
              "      <td>0</td>\n",
              "      <td>1</td>\n",
              "      <td>0</td>\n",
              "      <td>1</td>\n",
              "      <td>1</td>\n",
              "      <td>2012-01-01 15:45:00</td>\n",
              "      <td>2012</td>\n",
              "      <td>1</td>\n",
              "    </tr>\n",
              "    <tr>\n",
              "      <th>1</th>\n",
              "      <td>1035527</td>\n",
              "      <td>SC</td>\n",
              "      <td>280</td>\n",
              "      <td>188</td>\n",
              "      <td>MAFRA</td>\n",
              "      <td>Ingestão de álcool</td>\n",
              "      <td>Colisão lateral</td>\n",
              "      <td>Com Vítimas Feridas</td>\n",
              "      <td>Plena noite</td>\n",
              "      <td>Crescente</td>\n",
              "      <td>...</td>\n",
              "      <td>0</td>\n",
              "      <td>1</td>\n",
              "      <td>0</td>\n",
              "      <td>2</td>\n",
              "      <td>0</td>\n",
              "      <td>1</td>\n",
              "      <td>2</td>\n",
              "      <td>2012-01-01 03:00:00</td>\n",
              "      <td>2012</td>\n",
              "      <td>1</td>\n",
              "    </tr>\n",
              "  </tbody>\n",
              "</table>\n",
              "<p>2 rows × 25 columns</p>\n",
              "</div>"
            ],
            "text/plain": [
              "        id  uf   br     km municipio           causa_acidente  \\\n",
              "0  1035523  SC  282  513.7     XAXIM  Velocidade incompatível   \n",
              "1  1035527  SC  280    188     MAFRA       Ingestão de álcool   \n",
              "\n",
              "     tipo_acidente classificacao_acidente     fase_dia sentido_via  ...  \\\n",
              "0   Saída de Pista    Com Vítimas Feridas    Pleno dia   Crescente  ...   \n",
              "1  Colisão lateral    Com Vítimas Feridas  Plena noite   Crescente  ...   \n",
              "\n",
              "  mortos feridos_leves feridos_graves ilesos  ignorados  feridos  veiculos  \\\n",
              "0      0             1              0      1          0        1         1   \n",
              "1      0             1              0      2          0        1         2   \n",
              "\n",
              "                 data   ano  mes  \n",
              "0 2012-01-01 15:45:00  2012    1  \n",
              "1 2012-01-01 03:00:00  2012    1  \n",
              "\n",
              "[2 rows x 25 columns]"
            ]
          },
          "metadata": {
            "tags": []
          },
          "execution_count": 9
        }
      ]
    },
    {
      "cell_type": "code",
      "metadata": {
        "id": "kn5aE6eroyg7",
        "colab_type": "code",
        "colab": {},
        "outputId": "70cfe994-c03c-4644-8678-0a241c05aa8c"
      },
      "source": [
        "# Pra nivelamento da análise, considerarei apenas anos completos.\n",
        "df_2007_2018 = df[df['ano']!= 2019]\n",
        "df_2007_2018['ano'].unique()"
      ],
      "execution_count": 0,
      "outputs": [
        {
          "output_type": "execute_result",
          "data": {
            "text/plain": [
              "array([2012, 2013, 2018, 2008, 2016, 2009, 2014, 2010, 2007, 2017, 2011,\n",
              "       2015])"
            ]
          },
          "metadata": {
            "tags": []
          },
          "execution_count": 10
        }
      ]
    },
    {
      "cell_type": "markdown",
      "metadata": {
        "id": "HJVXWdnloyg-",
        "colab_type": "text"
      },
      "source": [
        "### 4) **(60%)** Nos blocos seguintes construa análises que vão justificar suas conclusões."
      ]
    },
    {
      "cell_type": "markdown",
      "metadata": {
        "id": "7xUj3kSdoyg_",
        "colab_type": "text"
      },
      "source": [
        "#### 4.1) **(20%)** Análise 1 -  Distribuição dos valores para cada uma das variáveis\n",
        "- Exemplo para variável contínua: se o conjunto de dados possui a variável \"idade\". Quantos % possui a idade entre 0 e 30 anos? 31 a 59? 60+?\n",
        "\n",
        "- Exemplo para variável discreta: se o conjunto de dados possui a variável \"gênero\", quantos % do conjunto de dados é do sexo feminino, quantos % é masculino? Inclua outros gêneros se houver.\n"
      ]
    },
    {
      "cell_type": "code",
      "metadata": {
        "id": "imPY_mPMoyhA",
        "colab_type": "code",
        "colab": {}
      },
      "source": [
        "# Implemente sua análise aqui. Use mais blocos se achar que ficará mais organizado."
      ],
      "execution_count": 0,
      "outputs": []
    },
    {
      "cell_type": "code",
      "metadata": {
        "id": "cbr12NG0oyhC",
        "colab_type": "code",
        "colab": {},
        "outputId": "6f7e7d00-7138-4cb7-de55-b54189f6d147"
      },
      "source": [
        "#classificacao_acidente = 55.39 sem vítimas\n",
        "\n",
        "round((pd.value_counts(df_2007_2018['classificacao_acidente']) *100) / len(df_2007_2018), 2) .plot.bar()\n",
        "\n",
        "plt.rcParams['figure.figsize'] = [15, 5]\n",
        "plt.ylim(0, 100)\n",
        "\n",
        "plt.ylabel('Total')\n",
        "plt.xlabel('Classificação dos acidentes')\n",
        "plt.title('Porcentagem da classificação dos acidentes')"
      ],
      "execution_count": 0,
      "outputs": [
        {
          "output_type": "execute_result",
          "data": {
            "text/plain": [
              "Text(0.5, 1.0, 'Porcentagem da classificação dos acidentes')"
            ]
          },
          "metadata": {
            "tags": []
          },
          "execution_count": 27
        },
        {
          "output_type": "display_data",
          "data": {
            "image/png": "[encoded data removed]",
            "text/plain": [
              "<Figure size 1080x360 with 1 Axes>"
            ]
          },
          "metadata": {
            "tags": [],
            "needs_background": "light"
          }
        }
      ]
    },
    {
      "cell_type": "code",
      "metadata": {
        "id": "m3uqZKMmoyhF",
        "colab_type": "code",
        "colab": {},
        "outputId": "7a4374ba-982b-4202-8077-1e439be66720"
      },
      "source": [
        "round((pd.value_counts(df_2007_2018['uf']) * 100) / len(df_2007_2018), 2).plot.bar()\n",
        "\n",
        "plt.rcParams['figure.figsize'] = [15, 5]\n",
        "plt.ylim(0, 100)\n",
        "\n",
        "plt.ylabel('% acidentes')\n",
        "plt.xlabel('UF')\n",
        "plt.title('Porcentagem de acidentes por estado')"
      ],
      "execution_count": 0,
      "outputs": [
        {
          "output_type": "execute_result",
          "data": {
            "text/plain": [
              "Text(0.5, 1.0, 'Porcentagem de acidentes por estado')"
            ]
          },
          "metadata": {
            "tags": []
          },
          "execution_count": 29
        },
        {
          "output_type": "display_data",
          "data": {
            "image/png": "[encoded data removed]",
            "text/plain": [
              "<Figure size 1080x360 with 1 Axes>"
            ]
          },
          "metadata": {
            "tags": [],
            "needs_background": "light"
          }
        }
      ]
    },
    {
      "cell_type": "code",
      "metadata": {
        "id": "X1ppMJxVoyhI",
        "colab_type": "code",
        "colab": {},
        "outputId": "a2b886d8-d3f0-421c-a18e-ead804b7be6f"
      },
      "source": [
        "pd.value_counts(df_2007_2018['causa_acidente']).head(10).plot.bar()\n",
        "\n",
        "plt.rcParams['figure.figsize'] = [15, 5]\n",
        "plt.ylim(0, 600000)\n",
        "\n",
        "plt.ylabel('Total')\n",
        "plt.xlabel('Causas de acidentes')\n",
        "plt.title('10 principais causas de acidentes')"
      ],
      "execution_count": 0,
      "outputs": [
        {
          "output_type": "execute_result",
          "data": {
            "text/plain": [
              "Text(0.5, 1.0, '10 principais causas de acidentes')"
            ]
          },
          "metadata": {
            "tags": []
          },
          "execution_count": 14
        },
        {
          "output_type": "display_data",
          "data": {
            "image/png": "[encoded data removed]",
            "text/plain": [
              "<Figure size 1080x360 with 1 Axes>"
            ]
          },
          "metadata": {
            "tags": [],
            "needs_background": "light"
          }
        }
      ]
    },
    {
      "cell_type": "code",
      "metadata": {
        "id": "Y0qAudiooyhL",
        "colab_type": "code",
        "colab": {},
        "outputId": "8cb121ce-f534-41a5-a38e-920b18ad9a33"
      },
      "source": [
        "df_2007_2018.groupby(['uf'])['mortos'].sum().sort_values(ascending=False).plot.bar()\n",
        "\n",
        "plt.rcParams['figure.figsize'] = [15, 5]\n",
        "plt.ylim(0, 14000)\n",
        "\n",
        "plt.ylabel('Total de mortos em acidentes')\n",
        "plt.xlabel('Estados')\n",
        "plt.title('Quantidade de mortos por UF')"
      ],
      "execution_count": 0,
      "outputs": [
        {
          "output_type": "execute_result",
          "data": {
            "text/plain": [
              "Text(0.5, 1.0, 'Quantidade de mortos por UF')"
            ]
          },
          "metadata": {
            "tags": []
          },
          "execution_count": 15
        },
        {
          "output_type": "display_data",
          "data": {
            "image/png": "[encoded data removed]",
            "text/plain": [
              "<Figure size 1080x360 with 1 Axes>"
            ]
          },
          "metadata": {
            "tags": [],
            "needs_background": "light"
          }
        }
      ]
    },
    {
      "cell_type": "code",
      "metadata": {
        "id": "viMweHProyhO",
        "colab_type": "code",
        "colab": {},
        "outputId": "4d24c401-1296-4d4a-a873-a4ebde62f63d"
      },
      "source": [
        "df_2007_2018.groupby(['ano'])['id'].count().plot.bar()\n",
        "\n",
        "plt.rcParams['figure.figsize'] = [15, 5]\n",
        "plt.ylim(0, 200000)\n",
        "\n",
        "plt.ylabel('Total de acidentes')\n",
        "plt.xlabel('Ano')\n",
        "plt.title('Quantidade de acidentes por ano')"
      ],
      "execution_count": 0,
      "outputs": [
        {
          "output_type": "execute_result",
          "data": {
            "text/plain": [
              "Text(0.5, 1.0, 'Quantidade de acidentes por ano')"
            ]
          },
          "metadata": {
            "tags": []
          },
          "execution_count": 16
        },
        {
          "output_type": "display_data",
          "data": {
            "image/png": "[encoded data removed]",
            "text/plain": [
              "<Figure size 1080x360 with 1 Axes>"
            ]
          },
          "metadata": {
            "tags": [],
            "needs_background": "light"
          }
        }
      ]
    },
    {
      "cell_type": "markdown",
      "metadata": {
        "id": "mVhSbD7voyhR",
        "colab_type": "text"
      },
      "source": [
        "#### 4.2) **(20%)** Análise 2 - Dependência entre variáveis\n",
        "O aluno deve apresentar as mesmas distribuições para cada valor da variável dependente. Exemplo: Em um conjunto de dados em que as variáveis independentes são idade e sexo, e a variável dependente é renda. O aluno pode dividir a renda em 3 \"grupos\", <1000 reais, entre 1000 e 10000 reais e >1000 reais. Para cada um desses grupos, é necessário apresentar a distribuição das variáveis \"idade\" e \"sexo\".\n"
      ]
    },
    {
      "cell_type": "code",
      "metadata": {
        "id": "FRZuuDOXoyhS",
        "colab_type": "code",
        "colab": {}
      },
      "source": [
        "# Implemente sua análise aqui. Use mais blocos se achar que ficará mais organizado."
      ],
      "execution_count": 0,
      "outputs": []
    },
    {
      "cell_type": "markdown",
      "metadata": {
        "id": "r7LZUv3coyhV",
        "colab_type": "text"
      },
      "source": [
        "#### 4.3) **(20%)** Análise 3 - Correlação entre variáveis\n",
        "\n",
        "O aluno deve apresentar 3 análises de correlação entre variáveis do conjunto de dados trabalhado. Exemplo: Em um conjunto de dados com as informações de temperatura e ocorrência de incêndios, eu gostaria de saber a incidência de correlação entre as duas variáveis.\n",
        "\n"
      ]
    },
    {
      "cell_type": "code",
      "metadata": {
        "id": "QR8NuvrtoyhW",
        "colab_type": "code",
        "colab": {}
      },
      "source": [
        "# Primeiro par de variáveis: Implemente sua análise aqui. Use mais blocos se achar que ficará mais organizado.\n",
        "\n",
        "#clima x acidentes , periodo do dia, tipo de pista"
      ],
      "execution_count": 0,
      "outputs": []
    },
    {
      "cell_type": "code",
      "metadata": {
        "id": "_nJHX-_Qoyhb",
        "colab_type": "code",
        "colab": {}
      },
      "source": [
        "# Segundo par de variáveis: Implemente sua análise aqui. Use mais blocos se achar que ficará mais organizado."
      ],
      "execution_count": 0,
      "outputs": []
    },
    {
      "cell_type": "code",
      "metadata": {
        "id": "6kYfJ3xQoyhg",
        "colab_type": "code",
        "colab": {}
      },
      "source": [
        "# Terceiro par de variáveis: Implemente sua análise aqui. Use mais blocos se achar que ficará mais organizado."
      ],
      "execution_count": 0,
      "outputs": []
    },
    {
      "cell_type": "markdown",
      "metadata": {
        "id": "wt-dJLfJoyhi",
        "colab_type": "text"
      },
      "source": [
        "### 5) Conclusões **15%**"
      ]
    },
    {
      "cell_type": "markdown",
      "metadata": {
        "id": "0Ym94qEsoyhj",
        "colab_type": "text"
      },
      "source": [
        "*O que é possível concluir com os dados que você analisou? Se fosse fazer uma apresentação, o que levaria como os maiores destaques e por que?*\n",
        "\n",
        "Por ter a maior malha rodoviária, MG, possui maior taxa de acidente (14%)."
      ]
    },
    {
      "cell_type": "markdown",
      "metadata": {
        "id": "wZAl9jJboyhk",
        "colab_type": "text"
      },
      "source": [
        ""
      ]
    }
  ]
}