{
 "cells": [
  {
   "cell_type": "markdown",
   "metadata": {
    "colab_type": "text",
    "id": "CEtG6c4koygW"
   },
   "source": [
    "# Projeto #1 - Análise Exploratória de Dados\n",
    "\n",
    "Antes de começar, leia as [Instruções](https://github.com/thvmm/pos-ds-ia/tree/master/projeto_1#instru%C3%A7%C3%B5es) e os [Critérios de Avaliação](https://github.com/thvmm/pos-ds-ia/tree/master/projeto_1#crit%C3%A9rios-de-avalia%C3%A7%C3%A3o)\n"
   ]
  },
  {
   "cell_type": "markdown",
   "metadata": {
    "colab_type": "text",
    "id": "uA3cQkV2oygZ"
   },
   "source": [
    "### 1) **(5%)** Qual a base escolhida e qual seu interesse nela?"
   ]
  },
  {
   "cell_type": "markdown",
   "metadata": {
    "colab_type": "text",
    "id": "-B9UmVQNoyga"
   },
   "source": [
    "*Indique o link da base no Kaggle e explique em um parágrafo curto por que essa base é interessante para você.*\n",
    "\n",
    "Link kagle: https://www.kaggle.com/equeiroz/acidentes-rodovias-federais-brasil-jan07-a-jul19\n",
    "\n",
    "Link do drive com os dados integrados: https://drive.google.com/drive/folders/1T5AcEd15lx59zlK-aHLN3Tdnq4PNbD7S?usp=sharing\n",
    "\n",
    "Essa base despertou meu interesse por se tratar de uma realidade brasileira. As causas de acidentes ocorrem pelas condições das estradas? Pelas imperícias dos motoristas? Essas são algumas das perguntas que passam na minha cabeça quando vejo uma notícia de acidente. Logo, é interessante ter essas respostas através da análise dos dados."
   ]
  },
  {
   "cell_type": "markdown",
   "metadata": {
    "colab_type": "text",
    "id": "izDzhwpIoygb"
   },
   "source": [
    "### 2) **(5%)** Descrição básica do conjunto de dados escolhido pelo aluno (1 parágrafo).\n",
    "- Identificação da variável a serem trabalhadas\n",
    "- Classificação das variáveis como: contínua ou discreta.\n"
   ]
  },
  {
   "cell_type": "markdown",
   "metadata": {
    "colab_type": "text",
    "id": "i-GPuu6Toygc"
   },
   "source": [
    "*Descrição da base e suas variáveis*\n",
    "\n",
    "Essa base é composta pelos dados da Polícia Rodoviária Federal sobre os registros de ocorrências de acidentes nas rodovias federais brasileiras no período de 01/2007 a 07/2019. Possui 24 colunas e 1.758.765 registros.\n",
    "\n",
    "CATEGÓRICAS:\n",
    "\n",
    "- uf\n",
    "- municipio\n",
    "- causa_acidente\n",
    "- tipo_acidente\n",
    "- classificacao_acidente\n",
    "- fase_dia\n",
    "- sentido_via\n",
    "- condicao_metereologica\n",
    "- tipo_pista\n",
    "- tracado_via\n",
    "- uso_solo\n",
    "\n",
    "CONTÍNUAS:\n",
    "\n",
    "- id\n",
    "- data_inversa\n",
    "- horario\n",
    "- br\n",
    "\n",
    "DISCRETAS:\n",
    "\n",
    "- pessoas\n",
    "- mortos\n",
    "- feridos_leves\n",
    "- feridos_graves\n",
    "- ilesos\n",
    "- ignorados\n",
    "- feridos\n",
    "- veiculos"
   ]
  },
  {
   "cell_type": "markdown",
   "metadata": {
    "colab_type": "text",
    "id": "OdQs-iNqoygd"
   },
   "source": [
    "### 3) **(15%)** Faça uma avaliação descritiva da sua base. Quantas linhas ela possui? Quais os tipos de dados? Quantas e quais features possuem?\n",
    "\n",
    "Cada variável escolhida pelo aluno precisa passar por ao menos 1 pré-processamento. O pré-processamento pode ser (mas não está limitado a):\n",
    "- Checagem se os valores estão dentro de um limite permitido ou razoável.\n",
    "- Tratamento de valores ausentes por eliminação ou substituição.\n",
    "- Conversão do tipo de dados.\n"
   ]
  },
  {
   "cell_type": "code",
   "execution_count": 1,
   "metadata": {
    "colab": {},
    "colab_type": "code",
    "id": "4bG6r2Bwoyge"
   },
   "outputs": [
    {
     "name": "stdout",
     "output_type": "stream",
     "text": [
      "Numpy:  1.14.3\n",
      "Pandas:  0.24.2\n"
     ]
    }
   ],
   "source": [
    "# Implemente sua análise aqui. Use mais blocos se achar que ficará mais organizado.\n",
    "import numpy as np\n",
    "import pandas as pd\n",
    "import matplotlib.pyplot as plt\n",
    "\n",
    "plt.style.use('ggplot')\n",
    "%matplotlib inline\n",
    "\n",
    "print('Numpy: ', np.__version__)\n",
    "print('Pandas: ',pd.__version__)"
   ]
  },
  {
   "cell_type": "code",
   "execution_count": 2,
   "metadata": {
    "colab": {},
    "colab_type": "code",
    "id": "H8Xxqiwcoygh",
    "outputId": "eff81565-4230-4ba0-9ea0-e634e493df06"
   },
   "outputs": [
    {
     "data": {
      "text/html": [
       "<div>\n",
       "<style scoped>\n",
       "    .dataframe tbody tr th:only-of-type {\n",
       "        vertical-align: middle;\n",
       "    }\n",
       "\n",
       "    .dataframe tbody tr th {\n",
       "        vertical-align: top;\n",
       "    }\n",
       "\n",
       "    .dataframe thead th {\n",
       "        text-align: right;\n",
       "    }\n",
       "</style>\n",
       "<table border=\"1\" class=\"dataframe\">\n",
       "  <thead>\n",
       "    <tr style=\"text-align: right;\">\n",
       "      <th></th>\n",
       "      <th>id</th>\n",
       "      <th>data_inversa</th>\n",
       "      <th>horario</th>\n",
       "      <th>uf</th>\n",
       "      <th>br</th>\n",
       "      <th>km</th>\n",
       "      <th>municipio</th>\n",
       "      <th>causa_acidente</th>\n",
       "      <th>tipo_acidente</th>\n",
       "      <th>classificacao_acidente</th>\n",
       "      <th>...</th>\n",
       "      <th>tracado_via</th>\n",
       "      <th>uso_solo</th>\n",
       "      <th>pessoas</th>\n",
       "      <th>mortos</th>\n",
       "      <th>feridos_leves</th>\n",
       "      <th>feridos_graves</th>\n",
       "      <th>ilesos</th>\n",
       "      <th>ignorados</th>\n",
       "      <th>feridos</th>\n",
       "      <th>veiculos</th>\n",
       "    </tr>\n",
       "  </thead>\n",
       "  <tbody>\n",
       "    <tr>\n",
       "      <th>0</th>\n",
       "      <td>1035523.0</td>\n",
       "      <td>2012-01-01</td>\n",
       "      <td>15:45:00</td>\n",
       "      <td>SC</td>\n",
       "      <td>282</td>\n",
       "      <td>513.7</td>\n",
       "      <td>XAXIM</td>\n",
       "      <td>Velocidade incompatível</td>\n",
       "      <td>Saída de Pista</td>\n",
       "      <td>Com Vítimas Feridas</td>\n",
       "      <td>...</td>\n",
       "      <td>Curva</td>\n",
       "      <td>Rural</td>\n",
       "      <td>2</td>\n",
       "      <td>0</td>\n",
       "      <td>1</td>\n",
       "      <td>0</td>\n",
       "      <td>1</td>\n",
       "      <td>0</td>\n",
       "      <td>1</td>\n",
       "      <td>1</td>\n",
       "    </tr>\n",
       "    <tr>\n",
       "      <th>1</th>\n",
       "      <td>1035527.0</td>\n",
       "      <td>2012-01-01</td>\n",
       "      <td>03:00:00</td>\n",
       "      <td>SC</td>\n",
       "      <td>280</td>\n",
       "      <td>188</td>\n",
       "      <td>MAFRA</td>\n",
       "      <td>Ingestão de álcool</td>\n",
       "      <td>Colisão lateral</td>\n",
       "      <td>Com Vítimas Feridas</td>\n",
       "      <td>...</td>\n",
       "      <td>Curva</td>\n",
       "      <td>Rural</td>\n",
       "      <td>3</td>\n",
       "      <td>0</td>\n",
       "      <td>1</td>\n",
       "      <td>0</td>\n",
       "      <td>2</td>\n",
       "      <td>0</td>\n",
       "      <td>1</td>\n",
       "      <td>2</td>\n",
       "    </tr>\n",
       "  </tbody>\n",
       "</table>\n",
       "<p>2 rows × 24 columns</p>\n",
       "</div>"
      ],
      "text/plain": [
       "          id data_inversa   horario  uf   br     km municipio  \\\n",
       "0  1035523.0   2012-01-01  15:45:00  SC  282  513.7     XAXIM   \n",
       "1  1035527.0   2012-01-01  03:00:00  SC  280    188     MAFRA   \n",
       "\n",
       "            causa_acidente    tipo_acidente classificacao_acidente  ...  \\\n",
       "0  Velocidade incompatível   Saída de Pista    Com Vítimas Feridas  ...   \n",
       "1       Ingestão de álcool  Colisão lateral    Com Vítimas Feridas  ...   \n",
       "\n",
       "  tracado_via uso_solo pessoas mortos feridos_leves feridos_graves  ilesos  \\\n",
       "0       Curva    Rural       2      0             1              0       1   \n",
       "1       Curva    Rural       3      0             1              0       2   \n",
       "\n",
       "   ignorados  feridos  veiculos  \n",
       "0          0        1         1  \n",
       "1          0        1         2  \n",
       "\n",
       "[2 rows x 24 columns]"
      ]
     },
     "execution_count": 2,
     "metadata": {},
     "output_type": "execute_result"
    }
   ],
   "source": [
    "df = pd.read_csv('acidentes-rodovia-br.csv', low_memory=False)\n",
    "df.drop(['Unnamed: 0'], axis=1, inplace=True)\n",
    "df.head(2)"
   ]
  },
  {
   "cell_type": "code",
   "execution_count": 3,
   "metadata": {
    "colab": {},
    "colab_type": "code",
    "id": "1T7-yJrRoygl",
    "outputId": "09691e6c-6014-4819-cb6f-623de80b5483"
   },
   "outputs": [],
   "source": [
    "df.drop(df[df['uf'] == '(null)'].index, inplace=True)\n",
    "df.drop(df[df['causa_acidente'] == '(null)'].index, inplace=True)\n",
    "df.drop(df[df['tipo_acidente'] == '(null)'].index, inplace=True)\n",
    "df.drop(df[df['classificacao_acidente'] == '(null)'].index, inplace=True)\n",
    "df.drop(df[df['fase_dia'] == '(null)'].index, inplace=True)\n",
    "df.drop(df[df['sentido_via'] == '(null)'].index, inplace=True)\n",
    "df.drop(df[df['condicao_metereologica'] == '(null)'].index, inplace=True)\n",
    "df.drop(df[df['tipo_pista'] == '(null)'].index, inplace=True)\n",
    "df.drop(df[df['tracado_via'] == '(null)'].index, inplace=True)\n",
    "df.drop(df[df['uso_solo'] == '(null)'].index, inplace=True)"
   ]
  },
  {
   "cell_type": "code",
   "execution_count": 4,
   "metadata": {},
   "outputs": [
    {
     "name": "stdout",
     "output_type": "stream",
     "text": [
      "Números de linhas: 1758604\n",
      "Números de colunas: 24\n",
      "Colunas presentes: \n",
      "Index(['id', 'data_inversa', 'horario', 'uf', 'br', 'km', 'municipio',\n",
      "       'causa_acidente', 'tipo_acidente', 'classificacao_acidente', 'fase_dia',\n",
      "       'sentido_via', 'condicao_metereologica', 'tipo_pista', 'tracado_via',\n",
      "       'uso_solo', 'pessoas', 'mortos', 'feridos_leves', 'feridos_graves',\n",
      "       'ilesos', 'ignorados', 'feridos', 'veiculos'],\n",
      "      dtype='object')\n"
     ]
    }
   ],
   "source": [
    "print('Números de linhas:', df.shape[0])\n",
    "print('Números de colunas:', df.shape[1])\n",
    "print('Colunas presentes: ')\n",
    "print(df.columns)"
   ]
  },
  {
   "cell_type": "code",
   "execution_count": 5,
   "metadata": {
    "colab": {},
    "colab_type": "code",
    "id": "x1_IsStmoygs",
    "outputId": "341832b4-abd9-4b7e-b4d3-38dfdfe15ee9"
   },
   "outputs": [
    {
     "name": "stdout",
     "output_type": "stream",
     "text": [
      "Porcentagem de dados ausentes:\n",
      "0.002 %\n"
     ]
    }
   ],
   "source": [
    "print('Porcentagem de dados ausentes:')\n",
    "\n",
    "valor_faltante = df.isnull().sum()\n",
    "celulas = np.product(df.shape)\n",
    "print(round((valor_faltante.sum()/celulas) * 100, 3), '%')"
   ]
  },
  {
   "cell_type": "code",
   "execution_count": 6,
   "metadata": {
    "colab": {},
    "colab_type": "code",
    "id": "iIARGBtToygv",
    "outputId": "429279c5-6f8a-41cb-d858-1eb6a5e8ec1a"
   },
   "outputs": [],
   "source": [
    "df.dropna(inplace=True)"
   ]
  },
  {
   "cell_type": "code",
   "execution_count": 7,
   "metadata": {
    "colab": {},
    "colab_type": "code",
    "id": "UCILHJ1Foygy",
    "outputId": "f5bec226-827d-4a84-b78f-dbef67df9919"
   },
   "outputs": [
    {
     "name": "stdout",
     "output_type": "stream",
     "text": [
      "Porcentagem de dados duplicados: \n",
      "0.0 %\n"
     ]
    }
   ],
   "source": [
    "print('Porcentagem de dados duplicados: ')\n",
    "valor_duplicado = df.duplicated().sum()\n",
    "print(round((valor_duplicado.sum()/celulas) * 100, 3), '%')"
   ]
  },
  {
   "cell_type": "code",
   "execution_count": 8,
   "metadata": {},
   "outputs": [],
   "source": [
    "def cleanText(text):\n",
    "    text = text.lower()\n",
    "    text = text.strip()\n",
    "    return text"
   ]
  },
  {
   "cell_type": "code",
   "execution_count": 9,
   "metadata": {},
   "outputs": [],
   "source": [
    "df['municipio'] = df['municipio'].apply(cleanText)\n",
    "df['causa_acidente'] = df['causa_acidente'].apply(cleanText)\n",
    "df['tipo_acidente'] = df['tipo_acidente'].apply(cleanText)\n",
    "df['classificacao_acidente'] = df['classificacao_acidente'].apply(cleanText)\n",
    "df['fase_dia'] = df['fase_dia'].apply(cleanText)\n",
    "df['sentido_via'] = df['sentido_via'].apply(cleanText)\n",
    "df['condicao_metereologica'] = df['condicao_metereologica'].apply(cleanText)\n",
    "df['tipo_pista'] = df['tipo_pista'].apply(cleanText)\n",
    "df['tracado_via'] = df['tracado_via'].apply(cleanText)\n",
    "df['uso_solo'] = df['uso_solo'].apply(cleanText)"
   ]
  },
  {
   "cell_type": "code",
   "execution_count": 10,
   "metadata": {
    "colab": {},
    "colab_type": "code",
    "id": "QEi98pIQoyg1",
    "outputId": "14f71ecd-a121-426c-8841-2dd7827129bb"
   },
   "outputs": [],
   "source": [
    "df['id'] = df['id'].astype('int32')\n",
    "df['mortos'] = df['mortos'].astype('int16')\n",
    "df['ilesos'] = df['ilesos'].astype('int16')\n",
    "df['pessoas'] = df['pessoas'].astype('int16')\n",
    "df['feridos'] = df['feridos'].astype('int16')\n",
    "df['veiculos'] = df['veiculos'].astype('int16')\n",
    "df['ignorados'] = df['ignorados'].astype('int16')\n",
    "df['feridos_leves'] = df['feridos_leves'].astype('int16')\n",
    "df['feridos_graves'] = df['feridos_graves'].astype('int16')"
   ]
  },
  {
   "cell_type": "code",
   "execution_count": 11,
   "metadata": {
    "colab": {},
    "colab_type": "code",
    "id": "p0jLB_BNoyg4",
    "outputId": "bc8133e8-8119-46f2-bea9-e7aa29b05aa7"
   },
   "outputs": [
    {
     "data": {
      "text/html": [
       "<div>\n",
       "<style scoped>\n",
       "    .dataframe tbody tr th:only-of-type {\n",
       "        vertical-align: middle;\n",
       "    }\n",
       "\n",
       "    .dataframe tbody tr th {\n",
       "        vertical-align: top;\n",
       "    }\n",
       "\n",
       "    .dataframe thead th {\n",
       "        text-align: right;\n",
       "    }\n",
       "</style>\n",
       "<table border=\"1\" class=\"dataframe\">\n",
       "  <thead>\n",
       "    <tr style=\"text-align: right;\">\n",
       "      <th></th>\n",
       "      <th>id</th>\n",
       "      <th>uf</th>\n",
       "      <th>br</th>\n",
       "      <th>km</th>\n",
       "      <th>municipio</th>\n",
       "      <th>causa_acidente</th>\n",
       "      <th>tipo_acidente</th>\n",
       "      <th>classificacao_acidente</th>\n",
       "      <th>fase_dia</th>\n",
       "      <th>sentido_via</th>\n",
       "      <th>...</th>\n",
       "      <th>mortos</th>\n",
       "      <th>feridos_leves</th>\n",
       "      <th>feridos_graves</th>\n",
       "      <th>ilesos</th>\n",
       "      <th>ignorados</th>\n",
       "      <th>feridos</th>\n",
       "      <th>veiculos</th>\n",
       "      <th>data</th>\n",
       "      <th>ano</th>\n",
       "      <th>mes</th>\n",
       "    </tr>\n",
       "  </thead>\n",
       "  <tbody>\n",
       "    <tr>\n",
       "      <th>0</th>\n",
       "      <td>1035523</td>\n",
       "      <td>SC</td>\n",
       "      <td>282</td>\n",
       "      <td>513.7</td>\n",
       "      <td>xaxim</td>\n",
       "      <td>velocidade incompatível</td>\n",
       "      <td>saída de pista</td>\n",
       "      <td>com vítimas feridas</td>\n",
       "      <td>pleno dia</td>\n",
       "      <td>crescente</td>\n",
       "      <td>...</td>\n",
       "      <td>0</td>\n",
       "      <td>1</td>\n",
       "      <td>0</td>\n",
       "      <td>1</td>\n",
       "      <td>0</td>\n",
       "      <td>1</td>\n",
       "      <td>1</td>\n",
       "      <td>2012-01-01 15:45:00</td>\n",
       "      <td>2012</td>\n",
       "      <td>1</td>\n",
       "    </tr>\n",
       "  </tbody>\n",
       "</table>\n",
       "<p>1 rows × 25 columns</p>\n",
       "</div>"
      ],
      "text/plain": [
       "        id  uf   br     km municipio           causa_acidente   tipo_acidente  \\\n",
       "0  1035523  SC  282  513.7     xaxim  velocidade incompatível  saída de pista   \n",
       "\n",
       "  classificacao_acidente   fase_dia sentido_via  ... mortos feridos_leves  \\\n",
       "0    com vítimas feridas  pleno dia   crescente  ...      0             1   \n",
       "\n",
       "  feridos_graves ilesos  ignorados  feridos  veiculos                data  \\\n",
       "0              0      1          0        1         1 2012-01-01 15:45:00   \n",
       "\n",
       "    ano  mes  \n",
       "0  2012    1  \n",
       "\n",
       "[1 rows x 25 columns]"
      ]
     },
     "execution_count": 11,
     "metadata": {},
     "output_type": "execute_result"
    }
   ],
   "source": [
    "df['data'] = df.data_inversa.map(str) + ' ' + df.horario\n",
    "\n",
    "df.drop(['data_inversa', 'horario'], axis=1, inplace=True)\n",
    "\n",
    "df['data'] = pd.to_datetime(df['data'])\n",
    "\n",
    "df['ano'] = df['data'].dt.year\n",
    "df['mes'] = df['data'].dt.month\n",
    "df.head(1)"
   ]
  },
  {
   "cell_type": "code",
   "execution_count": 12,
   "metadata": {
    "colab": {},
    "colab_type": "code",
    "id": "kn5aE6eroyg7",
    "outputId": "70cfe994-c03c-4644-8678-0a241c05aa8c"
   },
   "outputs": [
    {
     "data": {
      "text/plain": [
       "array([2012, 2013, 2018, 2008, 2016, 2009, 2014, 2010, 2007, 2017, 2011,\n",
       "       2015])"
      ]
     },
     "execution_count": 12,
     "metadata": {},
     "output_type": "execute_result"
    }
   ],
   "source": [
    "# Balanceamento dos dados.\n",
    "df_2007_2018 = df[df['ano']!= 2019]\n",
    "df_2007_2018['ano'].unique()"
   ]
  },
  {
   "cell_type": "markdown",
   "metadata": {
    "colab_type": "text",
    "id": "HJVXWdnloyg-"
   },
   "source": [
    "### 4) **(60%)** Nos blocos seguintes construa análises que vão justificar suas conclusões."
   ]
  },
  {
   "cell_type": "markdown",
   "metadata": {
    "colab_type": "text",
    "id": "7xUj3kSdoyg_"
   },
   "source": [
    "#### 4.1) **(20%)** Análise 1 -  Distribuição dos valores para cada uma das variáveis\n",
    "- Exemplo para variável contínua: se o conjunto de dados possui a variável \"idade\". Quantos % possui a idade entre 0 e 30 anos? 31 a 59? 60+?\n",
    "\n",
    "- Exemplo para variável discreta: se o conjunto de dados possui a variável \"gênero\", quantos % do conjunto de dados é do sexo feminino, quantos % é masculino? Inclua outros gêneros se houver.\n"
   ]
  },
  {
   "cell_type": "code",
   "execution_count": 13,
   "metadata": {
    "colab": {},
    "colab_type": "code",
    "id": "imPY_mPMoyhA"
   },
   "outputs": [],
   "source": [
    "# Implemente sua análise aqui. Use mais blocos se achar que ficará mais organizado."
   ]
  },
  {
   "cell_type": "code",
   "execution_count": 30,
   "metadata": {
    "colab": {},
    "colab_type": "code",
    "id": "cbr12NG0oyhC",
    "outputId": "6f7e7d00-7138-4cb7-de55-b54189f6d147"
   },
   "outputs": [
    {
     "data": {
      "text/plain": [
       "Text(0.5, 1.0, 'Porcentagem da classificação dos acidentes')"
      ]
     },
     "execution_count": 30,
     "metadata": {},
     "output_type": "execute_result"
    },
    {
     "data": {
      "image/png": "[encoded data removed]",
      "text/plain": [
       "<Figure size 1080x360 with 1 Axes>"
      ]
     },
     "metadata": {
      "needs_background": "light"
     },
     "output_type": "display_data"
    }
   ],
   "source": [
    "round((pd.value_counts(df_2007_2018['classificacao_acidente']) *100) / len(df_2007_2018), 2) .plot.bar()\n",
    "\n",
    "plt.rcParams['figure.figsize'] = [15, 5]\n",
    "plt.ylim(0, 100)\n",
    "\n",
    "plt.ylabel('Porcentagem classificação (%)')\n",
    "plt.xlabel('Classificação dos acidentes')\n",
    "plt.title('Porcentagem da classificação dos acidentes')"
   ]
  },
  {
   "cell_type": "code",
   "execution_count": 15,
   "metadata": {
    "colab": {},
    "colab_type": "code",
    "id": "m3uqZKMmoyhF",
    "outputId": "7a4374ba-982b-4202-8077-1e439be66720"
   },
   "outputs": [
    {
     "data": {
      "text/plain": [
       "Text(0.5, 1.0, 'Porcentagem de acidentes por estado')"
      ]
     },
     "execution_count": 15,
     "metadata": {},
     "output_type": "execute_result"
    },
    {
     "data": {
      "image/png": "[encoded data removed]",
      "text/plain": [
       "<Figure size 1080x360 with 1 Axes>"
      ]
     },
     "metadata": {
      "needs_background": "light"
     },
     "output_type": "display_data"
    }
   ],
   "source": [
    "round((pd.value_counts(df_2007_2018['uf']) * 100) / len(df_2007_2018), 2).plot.bar()\n",
    "\n",
    "plt.rcParams['figure.figsize'] = [15, 5]\n",
    "plt.ylim(0, 100)\n",
    "\n",
    "plt.ylabel('Porcentagem acidentes (%)')\n",
    "plt.xlabel('Sigla Estados (UF)')\n",
    "plt.title('Porcentagem de acidentes por estado')"
   ]
  },
  {
   "cell_type": "code",
   "execution_count": 16,
   "metadata": {},
   "outputs": [
    {
     "data": {
      "text/plain": [
       "Text(0.5, 1.0, '10 cidades de Minas Gerais com maior ocorrência de acidentes')"
      ]
     },
     "execution_count": 16,
     "metadata": {},
     "output_type": "execute_result"
    },
    {
     "data": {
      "image/png": "[encoded data removed]",
      "text/plain": [
       "<Figure size 1080x360 with 1 Axes>"
      ]
     },
     "metadata": {
      "needs_background": "light"
     },
     "output_type": "display_data"
    }
   ],
   "source": [
    "municipios = df_2007_2018[df_2007_2018['uf'] == 'MG']\n",
    "pd.value_counts(municipios['municipio']).sort_values(ascending=False).head(10).plot.bar()\n",
    "\n",
    "plt.rcParams['figure.figsize'] = [15, 5]\n",
    "plt.ylim(0, 20000)\n",
    "\n",
    "plt.ylabel('Total de acidentes')\n",
    "plt.xlabel('Cidades')\n",
    "plt.title('10 cidades de Minas Gerais com maior ocorrência de acidentes')"
   ]
  },
  {
   "cell_type": "code",
   "execution_count": 17,
   "metadata": {
    "colab": {},
    "colab_type": "code",
    "id": "X1ppMJxVoyhI",
    "outputId": "a2b886d8-d3f0-421c-a18e-ead804b7be6f"
   },
   "outputs": [
    {
     "data": {
      "text/plain": [
       "Text(0.5, 1.0, '10 principais causas de acidentes')"
      ]
     },
     "execution_count": 17,
     "metadata": {},
     "output_type": "execute_result"
    },
    {
     "data": {
      "image/png": "[encoded data removed]",
      "text/plain": [
       "<Figure size 1080x360 with 1 Axes>"
      ]
     },
     "metadata": {
      "needs_background": "light"
     },
     "output_type": "display_data"
    }
   ],
   "source": [
    "pd.value_counts(df_2007_2018['causa_acidente']).head(10).plot.bar()\n",
    "\n",
    "plt.rcParams['figure.figsize'] = [15, 5]\n",
    "plt.ylim(0, 600000)\n",
    "\n",
    "plt.ylabel('Total de acidentes')\n",
    "plt.xlabel('Principais causas de acidentes')\n",
    "plt.title('10 principais causas de acidentes')"
   ]
  },
  {
   "cell_type": "code",
   "execution_count": 18,
   "metadata": {
    "colab": {},
    "colab_type": "code",
    "id": "Y0qAudiooyhL",
    "outputId": "8cb121ce-f534-41a5-a38e-920b18ad9a33"
   },
   "outputs": [
    {
     "data": {
      "text/plain": [
       "Text(0.5, 1.0, 'Quantidade de mortos por UF entre 2007 e 2018')"
      ]
     },
     "execution_count": 18,
     "metadata": {},
     "output_type": "execute_result"
    },
    {
     "data": {
      "image/png": "[encoded data removed]",
      "text/plain": [
       "<Figure size 1080x360 with 1 Axes>"
      ]
     },
     "metadata": {
      "needs_background": "light"
     },
     "output_type": "display_data"
    }
   ],
   "source": [
    "df_2007_2018.groupby(['uf'])['mortos'].sum().sort_values(ascending=False).plot.bar()\n",
    "\n",
    "plt.rcParams['figure.figsize'] = [15, 5]\n",
    "plt.ylim(0, 14000)\n",
    "\n",
    "plt.ylabel('Total de mortos em acidentes')\n",
    "plt.xlabel('Sigla Estados (UF)')\n",
    "plt.title('Quantidade de mortos por UF entre 2007 e 2018')"
   ]
  },
  {
   "cell_type": "code",
   "execution_count": 19,
   "metadata": {
    "colab": {},
    "colab_type": "code",
    "id": "viMweHProyhO",
    "outputId": "4d24c401-1296-4d4a-a873-a4ebde62f63d"
   },
   "outputs": [
    {
     "data": {
      "text/plain": [
       "Text(0.5, 1.0, 'Quantidade de acidentes por ano (2007-2018)')"
      ]
     },
     "execution_count": 19,
     "metadata": {},
     "output_type": "execute_result"
    },
    {
     "data": {
      "image/png": "[encoded data removed]",
      "text/plain": [
       "<Figure size 1080x360 with 1 Axes>"
      ]
     },
     "metadata": {
      "needs_background": "light"
     },
     "output_type": "display_data"
    }
   ],
   "source": [
    "df_2007_2018.groupby(['ano'])['id'].count().plot.bar()\n",
    "\n",
    "plt.rcParams['figure.figsize'] = [15, 5]\n",
    "plt.ylim(0, 200000)\n",
    "\n",
    "plt.ylabel('Total de acidentes')\n",
    "plt.xlabel('Ano das ocorrências')\n",
    "plt.title('Quantidade de acidentes por ano (2007-2018)')"
   ]
  },
  {
   "cell_type": "code",
   "execution_count": 20,
   "metadata": {},
   "outputs": [
    {
     "data": {
      "text/plain": [
       "Text(0.5, 1.0, 'Quantidade de acidentes por mês (2007-2018)')"
      ]
     },
     "execution_count": 20,
     "metadata": {},
     "output_type": "execute_result"
    },
    {
     "data": {
      "image/png": "[encoded data removed]",
      "text/plain": [
       "<Figure size 1080x360 with 1 Axes>"
      ]
     },
     "metadata": {
      "needs_background": "light"
     },
     "output_type": "display_data"
    }
   ],
   "source": [
    "df_2007_2018.groupby(['mes'])['id'].count().plot.bar()\n",
    "\n",
    "plt.rcParams['figure.figsize'] = [15, 5]\n",
    "plt.ylim(0, 200000)\n",
    "\n",
    "plt.ylabel('Total de acidentes')\n",
    "plt.xlabel('Mês das ocorrências')\n",
    "plt.title('Quantidade de acidentes por mês (2007-2018)')"
   ]
  },
  {
   "cell_type": "code",
   "execution_count": 21,
   "metadata": {},
   "outputs": [
    {
     "data": {
      "text/plain": [
       "Text(0.5, 1.0, 'Fase do dia em que ocorreram os acidentes')"
      ]
     },
     "execution_count": 21,
     "metadata": {},
     "output_type": "execute_result"
    },
    {
     "data": {
      "image/png": "[encoded data removed]",
      "text/plain": [
       "<Figure size 1080x360 with 1 Axes>"
      ]
     },
     "metadata": {
      "needs_background": "light"
     },
     "output_type": "display_data"
    }
   ],
   "source": [
    "round((pd.value_counts(df_2007_2018['fase_dia'])*100)/len(df_2007_2018), 2).plot.bar()\n",
    "\n",
    "plt.rcParams['figure.figsize'] = [15, 5]\n",
    "plt.ylim(0, 100)\n",
    "\n",
    "plt.ylabel('Porcentagem de acidentes (%)')\n",
    "plt.xlabel('Fase do dia')\n",
    "plt.title('Fase do dia em que ocorreram os acidentes')"
   ]
  },
  {
   "cell_type": "code",
   "execution_count": 22,
   "metadata": {},
   "outputs": [
    {
     "data": {
      "text/plain": [
       "Text(0.5, 1.0, 'Traçado das vias onde ocorreram os acidentes')"
      ]
     },
     "execution_count": 22,
     "metadata": {},
     "output_type": "execute_result"
    },
    {
     "data": {
      "image/png": "[encoded data removed]",
      "text/plain": [
       "<Figure size 1080x360 with 1 Axes>"
      ]
     },
     "metadata": {
      "needs_background": "light"
     },
     "output_type": "display_data"
    }
   ],
   "source": [
    "round((pd.value_counts(df_2007_2018['tracado_via'])*100)/len(df_2007_2018), 2).plot.bar()\n",
    "\n",
    "plt.rcParams['figure.figsize'] = [15, 5]\n",
    "plt.ylim(0, 100)\n",
    "\n",
    "plt.ylabel('Porcentagem de acidentes (%)')\n",
    "plt.xlabel('Traçado das vias')\n",
    "plt.title('Traçado das vias onde ocorreram os acidentes')"
   ]
  },
  {
   "cell_type": "code",
   "execution_count": 29,
   "metadata": {},
   "outputs": [
    {
     "data": {
      "text/plain": [
       "Text(0.5, 1.0, 'Quantidade de veículos envolvidos na ocorrẽncia')"
      ]
     },
     "execution_count": 29,
     "metadata": {},
     "output_type": "execute_result"
    },
    {
     "data": {
      "image/png": "[encoded data removed]",
      "text/plain": [
       "<Figure size 1080x360 with 1 Axes>"
      ]
     },
     "metadata": {
      "needs_background": "light"
     },
     "output_type": "display_data"
    }
   ],
   "source": [
    "round((df_2007_2018.groupby(['veiculos'])['id'].count() * 100)/len(df_2007_2018), 2).plot.bar()\n",
    "\n",
    "plt.rcParams['figure.figsize'] = [15, 5]\n",
    "plt.ylim(0, 100)\n",
    "\n",
    "plt.ylabel('Porcentagem(%)')\n",
    "plt.xlabel('Quantidade de veículos')\n",
    "plt.title('Quantidade de veículos envolvidos na ocorrência')"
   ]
  },
  {
   "cell_type": "markdown",
   "metadata": {
    "colab_type": "text",
    "id": "mVhSbD7voyhR"
   },
   "source": [
    "#### 4.2) **(20%)** Análise 2 - Dependência entre variáveis\n",
    "O aluno deve apresentar as mesmas distribuições para cada valor da variável dependente. Exemplo: Em um conjunto de dados em que as variáveis independentes são idade e sexo, e a variável dependente é renda. O aluno pode dividir a renda em 3 \"grupos\", <1000 reais, entre 1000 e 10000 reais e >10000 reais. Para cada um desses grupos, é necessário apresentar a distribuição das variáveis \"idade\" e \"sexo\".\n"
   ]
  },
  {
   "cell_type": "code",
   "execution_count": 40,
   "metadata": {
    "colab": {},
    "colab_type": "code",
    "id": "FRZuuDOXoyhS"
   },
   "outputs": [
    {
     "data": {
      "text/html": [
       "<div>\n",
       "<style scoped>\n",
       "    .dataframe tbody tr th:only-of-type {\n",
       "        vertical-align: middle;\n",
       "    }\n",
       "\n",
       "    .dataframe tbody tr th {\n",
       "        vertical-align: top;\n",
       "    }\n",
       "\n",
       "    .dataframe thead th {\n",
       "        text-align: right;\n",
       "    }\n",
       "</style>\n",
       "<table border=\"1\" class=\"dataframe\">\n",
       "  <thead>\n",
       "    <tr style=\"text-align: right;\">\n",
       "      <th></th>\n",
       "      <th>pessoas</th>\n",
       "      <th>mortos</th>\n",
       "      <th>feridos_leves</th>\n",
       "      <th>feridos_graves</th>\n",
       "      <th>ilesos</th>\n",
       "      <th>ignorados</th>\n",
       "      <th>veiculos</th>\n",
       "    </tr>\n",
       "  </thead>\n",
       "  <tbody>\n",
       "    <tr>\n",
       "      <th>pessoas</th>\n",
       "      <td>2.535330</td>\n",
       "      <td>0.100739</td>\n",
       "      <td>0.845434</td>\n",
       "      <td>0.314101</td>\n",
       "      <td>1.158794</td>\n",
       "      <td>0.116213</td>\n",
       "      <td>0.528268</td>\n",
       "    </tr>\n",
       "    <tr>\n",
       "      <th>mortos</th>\n",
       "      <td>0.100739</td>\n",
       "      <td>0.080901</td>\n",
       "      <td>0.015360</td>\n",
       "      <td>0.027722</td>\n",
       "      <td>-0.028729</td>\n",
       "      <td>0.005484</td>\n",
       "      <td>0.003576</td>\n",
       "    </tr>\n",
       "    <tr>\n",
       "      <th>feridos_leves</th>\n",
       "      <td>0.845434</td>\n",
       "      <td>0.015360</td>\n",
       "      <td>0.986150</td>\n",
       "      <td>0.066168</td>\n",
       "      <td>-0.223724</td>\n",
       "      <td>0.001475</td>\n",
       "      <td>-0.008368</td>\n",
       "    </tr>\n",
       "    <tr>\n",
       "      <th>feridos_graves</th>\n",
       "      <td>0.314101</td>\n",
       "      <td>0.027722</td>\n",
       "      <td>0.066168</td>\n",
       "      <td>0.318967</td>\n",
       "      <td>-0.104188</td>\n",
       "      <td>0.005431</td>\n",
       "      <td>0.003591</td>\n",
       "    </tr>\n",
       "    <tr>\n",
       "      <th>ilesos</th>\n",
       "      <td>1.158794</td>\n",
       "      <td>-0.028729</td>\n",
       "      <td>-0.223724</td>\n",
       "      <td>-0.104188</td>\n",
       "      <td>1.560164</td>\n",
       "      <td>-0.044725</td>\n",
       "      <td>0.492680</td>\n",
       "    </tr>\n",
       "    <tr>\n",
       "      <th>ignorados</th>\n",
       "      <td>0.116213</td>\n",
       "      <td>0.005484</td>\n",
       "      <td>0.001475</td>\n",
       "      <td>0.005431</td>\n",
       "      <td>-0.044725</td>\n",
       "      <td>0.148551</td>\n",
       "      <td>0.036769</td>\n",
       "    </tr>\n",
       "    <tr>\n",
       "      <th>veiculos</th>\n",
       "      <td>0.528268</td>\n",
       "      <td>0.003576</td>\n",
       "      <td>-0.008368</td>\n",
       "      <td>0.003591</td>\n",
       "      <td>0.492680</td>\n",
       "      <td>0.036769</td>\n",
       "      <td>0.527863</td>\n",
       "    </tr>\n",
       "  </tbody>\n",
       "</table>\n",
       "</div>"
      ],
      "text/plain": [
       "                 pessoas    mortos  feridos_leves  feridos_graves    ilesos  \\\n",
       "pessoas         2.535330  0.100739       0.845434        0.314101  1.158794   \n",
       "mortos          0.100739  0.080901       0.015360        0.027722 -0.028729   \n",
       "feridos_leves   0.845434  0.015360       0.986150        0.066168 -0.223724   \n",
       "feridos_graves  0.314101  0.027722       0.066168        0.318967 -0.104188   \n",
       "ilesos          1.158794 -0.028729      -0.223724       -0.104188  1.560164   \n",
       "ignorados       0.116213  0.005484       0.001475        0.005431 -0.044725   \n",
       "veiculos        0.528268  0.003576      -0.008368        0.003591  0.492680   \n",
       "\n",
       "                ignorados  veiculos  \n",
       "pessoas          0.116213  0.528268  \n",
       "mortos           0.005484  0.003576  \n",
       "feridos_leves    0.001475 -0.008368  \n",
       "feridos_graves   0.005431  0.003591  \n",
       "ilesos          -0.044725  0.492680  \n",
       "ignorados        0.148551  0.036769  \n",
       "veiculos         0.036769  0.527863  "
      ]
     },
     "execution_count": 40,
     "metadata": {},
     "output_type": "execute_result"
    }
   ],
   "source": [
    "# Implemente sua análise aqui. Use mais blocos se achar que ficará mais organizado.\n",
    "\n",
    "#Pessoas e veículos: independente. Mortos: dependente. Quantidade de mortos depende o núm. de veículos\n",
    "#envolvidos e da quantidade de pessoas.\n",
    "\n",
    "analise = df_2007_2018.drop(['id', 'feridos', 'ano', 'mes'], axis=1)\n",
    "analise.cov()"
   ]
  },
  {
   "cell_type": "markdown",
   "metadata": {
    "colab_type": "text",
    "id": "r7LZUv3coyhV"
   },
   "source": [
    "#### 4.3) **(20%)** Análise 3 - Correlação entre variáveis\n",
    "\n",
    "O aluno deve apresentar 3 análises de correlação entre variáveis do conjunto de dados trabalhado. Exemplo: Em um conjunto de dados com as informações de temperatura e ocorrência de incêndios, eu gostaria de saber a incidência de correlação entre as duas variáveis.\n",
    "\n"
   ]
  },
  {
   "cell_type": "code",
   "execution_count": 41,
   "metadata": {},
   "outputs": [
    {
     "data": {
      "text/html": [
       "<div>\n",
       "<style scoped>\n",
       "    .dataframe tbody tr th:only-of-type {\n",
       "        vertical-align: middle;\n",
       "    }\n",
       "\n",
       "    .dataframe tbody tr th {\n",
       "        vertical-align: top;\n",
       "    }\n",
       "\n",
       "    .dataframe thead th {\n",
       "        text-align: right;\n",
       "    }\n",
       "</style>\n",
       "<table border=\"1\" class=\"dataframe\">\n",
       "  <thead>\n",
       "    <tr style=\"text-align: right;\">\n",
       "      <th></th>\n",
       "      <th>pessoas</th>\n",
       "      <th>mortos</th>\n",
       "      <th>feridos_leves</th>\n",
       "      <th>feridos_graves</th>\n",
       "      <th>ilesos</th>\n",
       "      <th>ignorados</th>\n",
       "      <th>veiculos</th>\n",
       "    </tr>\n",
       "  </thead>\n",
       "  <tbody>\n",
       "    <tr>\n",
       "      <th>pessoas</th>\n",
       "      <td>1.000000</td>\n",
       "      <td>0.222435</td>\n",
       "      <td>0.534676</td>\n",
       "      <td>0.349285</td>\n",
       "      <td>0.582645</td>\n",
       "      <td>0.189366</td>\n",
       "      <td>0.456643</td>\n",
       "    </tr>\n",
       "    <tr>\n",
       "      <th>mortos</th>\n",
       "      <td>0.222435</td>\n",
       "      <td>1.000000</td>\n",
       "      <td>0.054381</td>\n",
       "      <td>0.172575</td>\n",
       "      <td>-0.080866</td>\n",
       "      <td>0.050023</td>\n",
       "      <td>0.017305</td>\n",
       "    </tr>\n",
       "    <tr>\n",
       "      <th>feridos_leves</th>\n",
       "      <td>0.534676</td>\n",
       "      <td>0.054381</td>\n",
       "      <td>1.000000</td>\n",
       "      <td>0.117978</td>\n",
       "      <td>-0.180366</td>\n",
       "      <td>0.003854</td>\n",
       "      <td>-0.011599</td>\n",
       "    </tr>\n",
       "    <tr>\n",
       "      <th>feridos_graves</th>\n",
       "      <td>0.349285</td>\n",
       "      <td>0.172575</td>\n",
       "      <td>0.117978</td>\n",
       "      <td>1.000000</td>\n",
       "      <td>-0.147693</td>\n",
       "      <td>0.024950</td>\n",
       "      <td>0.008751</td>\n",
       "    </tr>\n",
       "    <tr>\n",
       "      <th>ilesos</th>\n",
       "      <td>0.582645</td>\n",
       "      <td>-0.080866</td>\n",
       "      <td>-0.180366</td>\n",
       "      <td>-0.147693</td>\n",
       "      <td>1.000000</td>\n",
       "      <td>-0.092902</td>\n",
       "      <td>0.542899</td>\n",
       "    </tr>\n",
       "    <tr>\n",
       "      <th>ignorados</th>\n",
       "      <td>0.189366</td>\n",
       "      <td>0.050023</td>\n",
       "      <td>0.003854</td>\n",
       "      <td>0.024950</td>\n",
       "      <td>-0.092902</td>\n",
       "      <td>1.000000</td>\n",
       "      <td>0.131305</td>\n",
       "    </tr>\n",
       "    <tr>\n",
       "      <th>veiculos</th>\n",
       "      <td>0.456643</td>\n",
       "      <td>0.017305</td>\n",
       "      <td>-0.011599</td>\n",
       "      <td>0.008751</td>\n",
       "      <td>0.542899</td>\n",
       "      <td>0.131305</td>\n",
       "      <td>1.000000</td>\n",
       "    </tr>\n",
       "  </tbody>\n",
       "</table>\n",
       "</div>"
      ],
      "text/plain": [
       "                 pessoas    mortos  feridos_leves  feridos_graves    ilesos  \\\n",
       "pessoas         1.000000  0.222435       0.534676        0.349285  0.582645   \n",
       "mortos          0.222435  1.000000       0.054381        0.172575 -0.080866   \n",
       "feridos_leves   0.534676  0.054381       1.000000        0.117978 -0.180366   \n",
       "feridos_graves  0.349285  0.172575       0.117978        1.000000 -0.147693   \n",
       "ilesos          0.582645 -0.080866      -0.180366       -0.147693  1.000000   \n",
       "ignorados       0.189366  0.050023       0.003854        0.024950 -0.092902   \n",
       "veiculos        0.456643  0.017305      -0.011599        0.008751  0.542899   \n",
       "\n",
       "                ignorados  veiculos  \n",
       "pessoas          0.189366  0.456643  \n",
       "mortos           0.050023  0.017305  \n",
       "feridos_leves    0.003854 -0.011599  \n",
       "feridos_graves   0.024950  0.008751  \n",
       "ilesos          -0.092902  0.542899  \n",
       "ignorados        1.000000  0.131305  \n",
       "veiculos         0.131305  1.000000  "
      ]
     },
     "execution_count": 41,
     "metadata": {},
     "output_type": "execute_result"
    }
   ],
   "source": [
    "analise.corr()"
   ]
  },
  {
   "cell_type": "code",
   "execution_count": 25,
   "metadata": {
    "colab": {},
    "colab_type": "code",
    "id": "QR8NuvrtoyhW"
   },
   "outputs": [],
   "source": [
    "# Primeiro par de variáveis: Implemente sua análise aqui. Use mais blocos se achar que ficará mais organizado."
   ]
  },
  {
   "cell_type": "code",
   "execution_count": 26,
   "metadata": {
    "colab": {},
    "colab_type": "code",
    "id": "_nJHX-_Qoyhb"
   },
   "outputs": [],
   "source": [
    "# Segundo par de variáveis: Implemente sua análise aqui. Use mais blocos se achar que ficará mais organizado."
   ]
  },
  {
   "cell_type": "code",
   "execution_count": 27,
   "metadata": {
    "colab": {},
    "colab_type": "code",
    "id": "6kYfJ3xQoyhg"
   },
   "outputs": [],
   "source": [
    "# Terceiro par de variáveis: Implemente sua análise aqui. Use mais blocos se achar que ficará mais organizado."
   ]
  },
  {
   "cell_type": "markdown",
   "metadata": {
    "colab_type": "text",
    "id": "wt-dJLfJoyhi"
   },
   "source": [
    "### 5) Conclusões **15%**"
   ]
  },
  {
   "cell_type": "markdown",
   "metadata": {
    "colab_type": "text",
    "id": "0Ym94qEsoyhj"
   },
   "source": [
    "*O que é possível concluir com os dados que você analisou? Se fosse fazer uma apresentação, o que levaria como os maiores destaques e por que?*\n",
    "\n",
    "Podemos inferir, de acordo com os dados, que do total de acidentes compreendidos entre janeiro de 2007 e dezembro de 2018:\n",
    "\n",
    "- Aproximadamente, 55% dos acidentes foram classificados como sem vítimas.\n",
    "- Dentre os estados, Minas Gerais possui a maior % de acidentes (14,5%), provavelmente por possuir a maior malha rodoviária do país.\n",
    "- Em MG, a cidade em que ocorre mais acidentes é Betim (17.465).\n",
    "- A principal causa de acidentes é a falta de atenção, com um total de 507.431 ocorrências nesse período.\n",
    "- Minas Gerais possui a maior quantidade de mortes em acidentes nas rodovias com um total de 13.012 falecidos.\n",
    "- Houve um aumento gradativo das ocorrências de acidentes entre 2007 e 2011. Tivemos uma queda significativa em 2012 e após um aumento em 2013, os ocorrências voltaram a cair e mativeram esse padrão de queda até o ano 2018.\n",
    "- Em média, 57% dos acidentes ocorreram em pleno dia.\n",
    "- Cerca de 70% foram em pistas com traçado reto.\n",
    "- A maioria dos acidentes envolveram dois veículos (52%).\n",
    "- Dezembro e Janeiro são os meses com maiores registros de ocorrências.\n",
    "\n",
    "\n",
    "Esses são os dados que considero mais inportante na análise, pois representam os pontos nos quais focar para o desenvolvimento de uma tratativa do problema."
   ]
  },
  {
   "cell_type": "markdown",
   "metadata": {
    "colab_type": "text",
    "id": "wZAl9jJboyhk"
   },
   "source": []
  }
 ],
 "metadata": {
  "colab": {
   "collapsed_sections": [],
   "name": "template.ipynb",
   "provenance": []
  },
  "file_extension": ".py",
  "kernelspec": {
   "display_name": "Python 3",
   "language": "python",
   "name": "python3"
  },
  "language_info": {
   "codemirror_mode": {
    "name": "ipython",
    "version": 3
   },
   "file_extension": ".py",
   "mimetype": "text/x-python",
   "name": "python",
   "nbconvert_exporter": "python",
   "pygments_lexer": "ipython3",
   "version": "3.7.3"
  },
  "mimetype": "text/x-python",
  "name": "python",
  "npconvert_exporter": "python",
  "pygments_lexer": "ipython3",
  "version": 3
 },
 "nbformat": 4,
 "nbformat_minor": 1
}
