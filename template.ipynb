{
 "cells": [
  {
   "cell_type": "markdown",
   "metadata": {
    "colab_type": "text",
    "id": "CEtG6c4koygW"
   },
   "source": [
    "# Projeto #1 - Análise Exploratória de Dados\n",
    "\n",
    "Antes de começar, leia as [Instruções](https://github.com/thvmm/pos-ds-ia/tree/master/projeto_1#instru%C3%A7%C3%B5es) e os [Critérios de Avaliação](https://github.com/thvmm/pos-ds-ia/tree/master/projeto_1#crit%C3%A9rios-de-avalia%C3%A7%C3%A3o)\n"
   ]
  },
  {
   "cell_type": "markdown",
   "metadata": {
    "colab_type": "text",
    "id": "uA3cQkV2oygZ"
   },
   "source": [
    "### 1) **(5%)** Qual a base escolhida e qual seu interesse nela?"
   ]
  },
  {
   "cell_type": "markdown",
   "metadata": {
    "colab_type": "text",
    "id": "-B9UmVQNoyga"
   },
   "source": [
    "*Indique o link da base no Kaggle e explique em um parágrafo curto por que essa base é interessante para você.*\n",
    "\n",
    "Link kagle: https://www.kaggle.com/equeiroz/acidentes-rodovias-federais-brasil-jan07-a-jul19\n",
    "\n",
    "Link do drive com os dados integrados: https://drive.google.com/drive/folders/1T5AcEd15lx59zlK-aHLN3Tdnq4PNbD7S?usp=sharing\n",
    "\n",
    "Essa base despertou meu interesse por se tratar de uma realidade brasileira. As causas de acidentes ocorrem pelas condições das estradas? Pelas imperícias dos motoristas? Essas são algumas das perguntas que passam na minha cabeça quando vejo uma notícia de acidente. Logo, é interessante ter essas respostas através da análise dos dados."
   ]
  },
  {
   "cell_type": "markdown",
   "metadata": {
    "colab_type": "text",
    "id": "izDzhwpIoygb"
   },
   "source": [
    "### 2) **(5%)** Descrição básica do conjunto de dados escolhido pelo aluno (1 parágrafo).\n",
    "- Identificação da variável a serem trabalhadas\n",
    "- Classificação das variáveis como: contínua ou discreta.\n"
   ]
  },
  {
   "cell_type": "markdown",
   "metadata": {
    "colab_type": "text",
    "id": "i-GPuu6Toygc"
   },
   "source": [
    "*Descrição da base e suas variáveis*\n",
    "\n",
    "Essa base é composta pelos dados da Polícia Rodoviária Federal sobre os registros de ocorrências de acidentes nas rodovias federais brasileiras no período de 01/2007 a 07/2019. Possui 24 colunas e 1.758.765 registros.\n",
    "\n",
    "CATEGÓRICAS:\n",
    "\n",
    "- uf\n",
    "- municipio\n",
    "- causa_acidente\n",
    "- tipo_acidente\n",
    "- classificacao_acidente\n",
    "- fase_dia\n",
    "- sentido_via\n",
    "- condicao_metereologica\n",
    "- tipo_pista\n",
    "- tracado_via\n",
    "- uso_solo\n",
    "\n",
    "CONTÍNUAS:\n",
    "\n",
    "- id\n",
    "- data_inversa\n",
    "- horario\n",
    "- br\n",
    "\n",
    "DISCRETAS:\n",
    "\n",
    "- pessoas\n",
    "- mortos\n",
    "- feridos_leves\n",
    "- feridos_graves\n",
    "- ilesos\n",
    "- ignorados\n",
    "- feridos\n",
    "- veiculos"
   ]
  },
  {
   "cell_type": "markdown",
   "metadata": {
    "colab_type": "text",
    "id": "OdQs-iNqoygd"
   },
   "source": [
    "### 3) **(15%)** Faça uma avaliação descritiva da sua base. Quantas linhas ela possui? Quais os tipos de dados? Quantas e quais features possuem?\n",
    "\n",
    "Cada variável escolhida pelo aluno precisa passar por ao menos 1 pré-processamento. O pré-processamento pode ser (mas não está limitado a):\n",
    "- Checagem se os valores estão dentro de um limite permitido ou razoável.\n",
    "- Tratamento de valores ausentes por eliminação ou substituição.\n",
    "- Conversão do tipo de dados.\n"
   ]
  },
  {
   "cell_type": "code",
   "execution_count": 1,
   "metadata": {
    "colab": {},
    "colab_type": "code",
    "id": "4bG6r2Bwoyge"
   },
   "outputs": [],
   "source": [
    "# Implemente sua análise aqui. Use mais blocos se achar que ficará mais organizado.\n",
    "import numpy as np\n",
    "import pandas as pd\n",
    "import matplotlib.pyplot as plt\n",
    "\n",
    "plt.style.use('ggplot')\n",
    "%matplotlib inline"
   ]
  },
  {
   "cell_type": "code",
   "execution_count": 2,
   "metadata": {
    "colab": {},
    "colab_type": "code",
    "id": "H8Xxqiwcoygh",
    "outputId": "eff81565-4230-4ba0-9ea0-e634e493df06"
   },
   "outputs": [
    {
     "data": {
      "text/html": [
       "<div>\n",
       "<style scoped>\n",
       "    .dataframe tbody tr th:only-of-type {\n",
       "        vertical-align: middle;\n",
       "    }\n",
       "\n",
       "    .dataframe tbody tr th {\n",
       "        vertical-align: top;\n",
       "    }\n",
       "\n",
       "    .dataframe thead th {\n",
       "        text-align: right;\n",
       "    }\n",
       "</style>\n",
       "<table border=\"1\" class=\"dataframe\">\n",
       "  <thead>\n",
       "    <tr style=\"text-align: right;\">\n",
       "      <th></th>\n",
       "      <th>id</th>\n",
       "      <th>data_inversa</th>\n",
       "      <th>horario</th>\n",
       "      <th>uf</th>\n",
       "      <th>br</th>\n",
       "      <th>km</th>\n",
       "      <th>municipio</th>\n",
       "      <th>causa_acidente</th>\n",
       "      <th>tipo_acidente</th>\n",
       "      <th>classificacao_acidente</th>\n",
       "      <th>...</th>\n",
       "      <th>tipo_pista</th>\n",
       "      <th>tracado_via</th>\n",
       "      <th>pessoas</th>\n",
       "      <th>mortos</th>\n",
       "      <th>feridos_leves</th>\n",
       "      <th>feridos_graves</th>\n",
       "      <th>ilesos</th>\n",
       "      <th>ignorados</th>\n",
       "      <th>feridos</th>\n",
       "      <th>veiculos</th>\n",
       "    </tr>\n",
       "  </thead>\n",
       "  <tbody>\n",
       "    <tr>\n",
       "      <td>0</td>\n",
       "      <td>1035523.0</td>\n",
       "      <td>2012-01-01</td>\n",
       "      <td>15:45:00</td>\n",
       "      <td>SC</td>\n",
       "      <td>282</td>\n",
       "      <td>513.7</td>\n",
       "      <td>XAXIM</td>\n",
       "      <td>Velocidade incompatível</td>\n",
       "      <td>Saída de Pista</td>\n",
       "      <td>Com Vítimas Feridas</td>\n",
       "      <td>...</td>\n",
       "      <td>Simples</td>\n",
       "      <td>Curva</td>\n",
       "      <td>2</td>\n",
       "      <td>0</td>\n",
       "      <td>1</td>\n",
       "      <td>0</td>\n",
       "      <td>1</td>\n",
       "      <td>0</td>\n",
       "      <td>1</td>\n",
       "      <td>1</td>\n",
       "    </tr>\n",
       "    <tr>\n",
       "      <td>1</td>\n",
       "      <td>1035527.0</td>\n",
       "      <td>2012-01-01</td>\n",
       "      <td>03:00:00</td>\n",
       "      <td>SC</td>\n",
       "      <td>280</td>\n",
       "      <td>188</td>\n",
       "      <td>MAFRA</td>\n",
       "      <td>Ingestão de álcool</td>\n",
       "      <td>Colisão lateral</td>\n",
       "      <td>Com Vítimas Feridas</td>\n",
       "      <td>...</td>\n",
       "      <td>Simples</td>\n",
       "      <td>Curva</td>\n",
       "      <td>3</td>\n",
       "      <td>0</td>\n",
       "      <td>1</td>\n",
       "      <td>0</td>\n",
       "      <td>2</td>\n",
       "      <td>0</td>\n",
       "      <td>1</td>\n",
       "      <td>2</td>\n",
       "    </tr>\n",
       "    <tr>\n",
       "      <td>2</td>\n",
       "      <td>1035528.0</td>\n",
       "      <td>2012-01-01</td>\n",
       "      <td>05:40:00</td>\n",
       "      <td>SC</td>\n",
       "      <td>116</td>\n",
       "      <td>1.5</td>\n",
       "      <td>MAFRA</td>\n",
       "      <td>Velocidade incompatível</td>\n",
       "      <td>Colisão com objeto fixo</td>\n",
       "      <td>Sem Vítimas</td>\n",
       "      <td>...</td>\n",
       "      <td>Simples</td>\n",
       "      <td>Cruzamento</td>\n",
       "      <td>1</td>\n",
       "      <td>0</td>\n",
       "      <td>0</td>\n",
       "      <td>0</td>\n",
       "      <td>1</td>\n",
       "      <td>0</td>\n",
       "      <td>0</td>\n",
       "      <td>1</td>\n",
       "    </tr>\n",
       "    <tr>\n",
       "      <td>3</td>\n",
       "      <td>1035530.0</td>\n",
       "      <td>2012-01-01</td>\n",
       "      <td>06:00:00</td>\n",
       "      <td>RO</td>\n",
       "      <td>364</td>\n",
       "      <td>616.5</td>\n",
       "      <td>ITAPUÃ DO OESTE</td>\n",
       "      <td>Outras</td>\n",
       "      <td>Saída de Pista</td>\n",
       "      <td>Com Vítimas Feridas</td>\n",
       "      <td>...</td>\n",
       "      <td>Simples</td>\n",
       "      <td>Reta</td>\n",
       "      <td>1</td>\n",
       "      <td>0</td>\n",
       "      <td>1</td>\n",
       "      <td>0</td>\n",
       "      <td>0</td>\n",
       "      <td>0</td>\n",
       "      <td>1</td>\n",
       "      <td>1</td>\n",
       "    </tr>\n",
       "    <tr>\n",
       "      <td>4</td>\n",
       "      <td>1035533.0</td>\n",
       "      <td>2012-01-01</td>\n",
       "      <td>16:30:00</td>\n",
       "      <td>RJ</td>\n",
       "      <td>101</td>\n",
       "      <td>47</td>\n",
       "      <td>CAMPOS DOS GOYTACAZES</td>\n",
       "      <td>Ingestão de álcool</td>\n",
       "      <td>Queda de motocicleta / bicicleta / veículo</td>\n",
       "      <td>Com Vítimas Feridas</td>\n",
       "      <td>...</td>\n",
       "      <td>Simples</td>\n",
       "      <td>Reta</td>\n",
       "      <td>1</td>\n",
       "      <td>0</td>\n",
       "      <td>1</td>\n",
       "      <td>0</td>\n",
       "      <td>0</td>\n",
       "      <td>0</td>\n",
       "      <td>1</td>\n",
       "      <td>1</td>\n",
       "    </tr>\n",
       "  </tbody>\n",
       "</table>\n",
       "<p>5 rows × 23 columns</p>\n",
       "</div>"
      ],
      "text/plain": [
       "          id data_inversa   horario  uf   br     km              municipio  \\\n",
       "0  1035523.0   2012-01-01  15:45:00  SC  282  513.7                  XAXIM   \n",
       "1  1035527.0   2012-01-01  03:00:00  SC  280    188                  MAFRA   \n",
       "2  1035528.0   2012-01-01  05:40:00  SC  116    1.5                  MAFRA   \n",
       "3  1035530.0   2012-01-01  06:00:00  RO  364  616.5        ITAPUÃ DO OESTE   \n",
       "4  1035533.0   2012-01-01  16:30:00  RJ  101     47  CAMPOS DOS GOYTACAZES   \n",
       "\n",
       "            causa_acidente                               tipo_acidente  \\\n",
       "0  Velocidade incompatível                              Saída de Pista   \n",
       "1       Ingestão de álcool                             Colisão lateral   \n",
       "2  Velocidade incompatível                     Colisão com objeto fixo   \n",
       "3                   Outras                              Saída de Pista   \n",
       "4       Ingestão de álcool  Queda de motocicleta / bicicleta / veículo   \n",
       "\n",
       "  classificacao_acidente  ... tipo_pista tracado_via pessoas mortos  \\\n",
       "0    Com Vítimas Feridas  ...    Simples       Curva       2      0   \n",
       "1    Com Vítimas Feridas  ...    Simples       Curva       3      0   \n",
       "2            Sem Vítimas  ...    Simples  Cruzamento       1      0   \n",
       "3    Com Vítimas Feridas  ...    Simples        Reta       1      0   \n",
       "4    Com Vítimas Feridas  ...    Simples        Reta       1      0   \n",
       "\n",
       "  feridos_leves  feridos_graves  ilesos  ignorados  feridos  veiculos  \n",
       "0             1               0       1          0        1         1  \n",
       "1             1               0       2          0        1         2  \n",
       "2             0               0       1          0        0         1  \n",
       "3             1               0       0          0        1         1  \n",
       "4             1               0       0          0        1         1  \n",
       "\n",
       "[5 rows x 23 columns]"
      ]
     },
     "execution_count": 2,
     "metadata": {},
     "output_type": "execute_result"
    }
   ],
   "source": [
    "df = pd.read_csv('acidentes-rodovia-br.csv', low_memory=False)\n",
    "df.drop(['Unnamed: 0', 'uso_solo'], axis=1, inplace=True)\n",
    "df.head(5)"
   ]
  },
  {
   "cell_type": "code",
   "execution_count": 5,
   "metadata": {
    "colab": {},
    "colab_type": "code",
    "id": "1T7-yJrRoygl",
    "outputId": "09691e6c-6014-4819-cb6f-623de80b5483"
   },
   "outputs": [],
   "source": [
    "df.drop(df[df['uf'] == '(null)'].index, inplace=True)\n",
    "df.drop(df[df['causa_acidente'] == '(null)'].index, inplace=True)\n",
    "df.drop(df[df['tipo_acidente'] == '(null)'].index, inplace=True)\n",
    "df.drop(df[df['classificacao_acidente'] == '(null)'].index, inplace=True)\n",
    "df.drop(df[df['fase_dia'] == '(null)'].index, inplace=True)\n",
    "df.drop(df[df['sentido_via'] == '(null)'].index, inplace=True)\n",
    "df.drop(df[df['condicao_metereologica'] == '(null)'].index, inplace=True)\n",
    "df.drop(df[df['tipo_pista'] == '(null)'].index, inplace=True)\n",
    "df.drop(df[df['tracado_via'] == '(null)'].index, inplace=True)"
   ]
  },
  {
   "cell_type": "code",
   "execution_count": 6,
   "metadata": {},
   "outputs": [
    {
     "name": "stdout",
     "output_type": "stream",
     "text": [
      "Números de linhas: 1758604\n",
      "Números de colunas: 23\n",
      "Colunas presentes: \n",
      "Index(['id', 'data_inversa', 'horario', 'uf', 'br', 'km', 'municipio',\n",
      "       'causa_acidente', 'tipo_acidente', 'classificacao_acidente', 'fase_dia',\n",
      "       'sentido_via', 'condicao_metereologica', 'tipo_pista', 'tracado_via',\n",
      "       'pessoas', 'mortos', 'feridos_leves', 'feridos_graves', 'ilesos',\n",
      "       'ignorados', 'feridos', 'veiculos'],\n",
      "      dtype='object')\n"
     ]
    }
   ],
   "source": [
    "print('Números de linhas:', df.shape[0])\n",
    "print('Números de colunas:', df.shape[1])\n",
    "print('Colunas presentes: ')\n",
    "print(df.columns)"
   ]
  },
  {
   "cell_type": "code",
   "execution_count": 7,
   "metadata": {
    "colab": {},
    "colab_type": "code",
    "id": "x1_IsStmoygs",
    "outputId": "341832b4-abd9-4b7e-b4d3-38dfdfe15ee9"
   },
   "outputs": [
    {
     "name": "stdout",
     "output_type": "stream",
     "text": [
      "Porcentagem de dados ausentes:\n",
      "0.002 %\n"
     ]
    }
   ],
   "source": [
    "print('Porcentagem de dados ausentes:')\n",
    "\n",
    "valor_faltante = df.isnull().sum()\n",
    "celulas = np.product(df.shape)\n",
    "print(round((valor_faltante.sum()/celulas) * 100, 3), '%')"
   ]
  },
  {
   "cell_type": "code",
   "execution_count": 7,
   "metadata": {
    "colab": {},
    "colab_type": "code",
    "id": "iIARGBtToygv",
    "outputId": "429279c5-6f8a-41cb-d858-1eb6a5e8ec1a"
   },
   "outputs": [],
   "source": [
    "df.dropna(inplace=True)"
   ]
  },
  {
   "cell_type": "code",
   "execution_count": 9,
   "metadata": {
    "colab": {},
    "colab_type": "code",
    "id": "UCILHJ1Foygy",
    "outputId": "f5bec226-827d-4a84-b78f-dbef67df9919"
   },
   "outputs": [
    {
     "name": "stdout",
     "output_type": "stream",
     "text": [
      "Porcentagem de dados duplicados: \n",
      "0.0 %\n"
     ]
    }
   ],
   "source": [
    "print('Porcentagem de dados duplicados: ')\n",
    "valor_duplicado = df.duplicated().sum()\n",
    "print(round((valor_duplicado.sum()/celulas) * 100, 3), '%')"
   ]
  },
  {
   "cell_type": "code",
   "execution_count": 8,
   "metadata": {},
   "outputs": [],
   "source": [
    "def cleanText(text):\n",
    "    text = text.lower()\n",
    "    text = text.strip()\n",
    "    return text"
   ]
  },
  {
   "cell_type": "code",
   "execution_count": 10,
   "metadata": {},
   "outputs": [],
   "source": [
    "df['municipio'] = df['municipio'].apply(cleanText)\n",
    "df['causa_acidente'] = df['causa_acidente'].apply(cleanText)\n",
    "df['tipo_acidente'] = df['tipo_acidente'].apply(cleanText)\n",
    "df['classificacao_acidente'] = df['classificacao_acidente'].apply(cleanText)\n",
    "df['fase_dia'] = df['fase_dia'].apply(cleanText)\n",
    "df['sentido_via'] = df['sentido_via'].apply(cleanText)\n",
    "df['condicao_metereologica'] = df['condicao_metereologica'].apply(cleanText)\n",
    "df['tipo_pista'] = df['tipo_pista'].apply(cleanText)\n",
    "df['tracado_via'] = df['tracado_via'].apply(cleanText)"
   ]
  },
  {
   "cell_type": "code",
   "execution_count": 16,
   "metadata": {
    "colab": {},
    "colab_type": "code",
    "id": "QEi98pIQoyg1",
    "outputId": "14f71ecd-a121-426c-8841-2dd7827129bb"
   },
   "outputs": [],
   "source": [
    "df['id'] = df['id'].astype('int32')\n",
    "df['mortos'] = df['mortos'].astype('int16')\n",
    "df['ilesos'] = df['ilesos'].astype('int16')\n",
    "df['pessoas'] = df['pessoas'].astype('int16')\n",
    "df['feridos'] = df['feridos'].astype('int16')\n",
    "df['veiculos'] = df['veiculos'].astype('int16')\n",
    "df['ignorados'] = df['ignorados'].astype('int16')\n",
    "df['feridos_leves'] = df['feridos_leves'].astype('int16')\n",
    "df['feridos_graves'] = df['feridos_graves'].astype('int16')"
   ]
  },
  {
   "cell_type": "code",
   "execution_count": 17,
   "metadata": {
    "colab": {},
    "colab_type": "code",
    "id": "p0jLB_BNoyg4",
    "outputId": "bc8133e8-8119-46f2-bea9-e7aa29b05aa7"
   },
   "outputs": [],
   "source": [
    "df['data'] = df.data_inversa.map(str) + ' ' + df.horario\n",
    "\n",
    "df.drop(['data_inversa', 'horario'], axis=1, inplace=True)\n",
    "\n",
    "df['data'] = pd.to_datetime(df['data'])\n",
    "\n",
    "df['ano'] = df['data'].dt.year\n",
    "df['mes'] = df['data'].dt.month"
   ]
  },
  {
   "cell_type": "code",
   "execution_count": 20,
   "metadata": {
    "colab": {},
    "colab_type": "code",
    "id": "kn5aE6eroyg7",
    "outputId": "70cfe994-c03c-4644-8678-0a241c05aa8c"
   },
   "outputs": [
    {
     "name": "stdout",
     "output_type": "stream",
     "text": [
      "Números de linhas: 1720498\n",
      "Números de colunas: 24\n"
     ]
    },
    {
     "data": {
      "text/plain": [
       "array([2007, 2008, 2009, 2010, 2011, 2012, 2013, 2014, 2015, 2016, 2017,\n",
       "       2018])"
      ]
     },
     "execution_count": 20,
     "metadata": {},
     "output_type": "execute_result"
    }
   ],
   "source": [
    "# Balanceamento dos dados\n",
    "\n",
    "df_2007_2018 = df[df['ano']!= 2019]\n",
    "print('Números de linhas:', df_2007_2018.shape[0])\n",
    "print('Números de colunas:', df_2007_2018.shape[1])\n",
    "df_2007_2018['ano'].sort_values().unique()"
   ]
  },
  {
   "cell_type": "markdown",
   "metadata": {
    "colab_type": "text",
    "id": "HJVXWdnloyg-"
   },
   "source": [
    "### 4) **(60%)** Nos blocos seguintes construa análises que vão justificar suas conclusões."
   ]
  },
  {
   "cell_type": "markdown",
   "metadata": {
    "colab_type": "text",
    "id": "7xUj3kSdoyg_"
   },
   "source": [
    "#### 4.1) **(20%)** Análise 1 -  Distribuição dos valores para cada uma das variáveis\n",
    "- Exemplo para variável contínua: se o conjunto de dados possui a variável \"idade\". Quantos % possui a idade entre 0 e 30 anos? 31 a 59? 60+?\n",
    "\n",
    "- Exemplo para variável discreta: se o conjunto de dados possui a variável \"gênero\", quantos % do conjunto de dados é do sexo feminino, quantos % é masculino? Inclua outros gêneros se houver.\n"
   ]
  },
  {
   "cell_type": "code",
   "execution_count": 61,
   "metadata": {
    "colab": {},
    "colab_type": "code",
    "id": "imPY_mPMoyhA"
   },
   "outputs": [],
   "source": [
    "# Implemente sua análise aqui. Use mais blocos se achar que ficará mais organizado."
   ]
  },
  {
   "cell_type": "code",
   "execution_count": 22,
   "metadata": {
    "colab": {},
    "colab_type": "code",
    "id": "cbr12NG0oyhC",
    "outputId": "6f7e7d00-7138-4cb7-de55-b54189f6d147"
   },
   "outputs": [
    {
     "data": {
      "text/plain": [
       "Text(0.5, 1.0, 'Porcentagem da classificação dos acidentes em relação às vítimas')"
      ]
     },
     "execution_count": 22,
     "metadata": {},
     "output_type": "execute_result"
    },
    {
     "data": {
      "image/png": "[encoded data removed]",
      "text/plain": [
       "<Figure size 1080x360 with 1 Axes>"
      ]
     },
     "metadata": {
      "needs_background": "light"
     },
     "output_type": "display_data"
    }
   ],
   "source": [
    "round((pd.value_counts(df_2007_2018['classificacao_acidente']) *100) / len(df_2007_2018), 2) .plot.bar()\n",
    "\n",
    "plt.rcParams['figure.figsize'] = [15, 5]\n",
    "plt.ylim(0, 60)\n",
    "\n",
    "plt.ylabel('Porcentagem classificação (%)')\n",
    "plt.xlabel('Classificação dos acidentes')\n",
    "plt.title('Porcentagem da classificação dos acidentes em relação às vítimas')"
   ]
  },
  {
   "cell_type": "code",
   "execution_count": 63,
   "metadata": {
    "colab": {},
    "colab_type": "code",
    "id": "m3uqZKMmoyhF",
    "outputId": "7a4374ba-982b-4202-8077-1e439be66720"
   },
   "outputs": [
    {
     "data": {
      "text/plain": [
       "Text(0.5, 1.0, 'Porcentagem de acidentes por estado')"
      ]
     },
     "execution_count": 63,
     "metadata": {},
     "output_type": "execute_result"
    },
    {
     "data": {
      "image/png": "[encoded data removed]",
      "text/plain": [
       "<Figure size 1080x360 with 1 Axes>"
      ]
     },
     "metadata": {
      "needs_background": "light"
     },
     "output_type": "display_data"
    }
   ],
   "source": [
    "round((pd.value_counts(df_2007_2018['uf']) * 100) / len(df_2007_2018), 2).plot.bar()\n",
    "\n",
    "plt.rcParams['figure.figsize'] = [15, 5]\n",
    "plt.ylim(0, 20)\n",
    "\n",
    "plt.ylabel('Porcentagem acidentes (%)')\n",
    "plt.xlabel('Sigla Estados (UF)')\n",
    "plt.title('Porcentagem de acidentes por estado')"
   ]
  },
  {
   "cell_type": "code",
   "execution_count": 26,
   "metadata": {},
   "outputs": [
    {
     "data": {
      "text/plain": [
       "Text(0.5, 1.0, 'As 10 cidades mineiras com maior ocorrência de acidentes')"
      ]
     },
     "execution_count": 26,
     "metadata": {},
     "output_type": "execute_result"
    },
    {
     "data": {
      "image/png": "[encoded data removed]",
      "text/plain": [
       "<Figure size 1080x360 with 1 Axes>"
      ]
     },
     "metadata": {
      "needs_background": "light"
     },
     "output_type": "display_data"
    }
   ],
   "source": [
    "municipios = df_2007_2018[df_2007_2018['uf'] == 'MG']\n",
    "pd.value_counts(municipios['municipio']).sort_values(ascending=False).head(10).plot.bar()\n",
    "\n",
    "plt.rcParams['figure.figsize'] = [15, 5]\n",
    "plt.ylim(0, 20000)\n",
    "\n",
    "plt.ylabel('Total de acidentes')\n",
    "plt.xlabel('Cidades (MG)')\n",
    "plt.title('As 10 cidades mineiras com maior ocorrência de acidentes')"
   ]
  },
  {
   "cell_type": "code",
   "execution_count": 27,
   "metadata": {
    "colab": {},
    "colab_type": "code",
    "id": "X1ppMJxVoyhI",
    "outputId": "a2b886d8-d3f0-421c-a18e-ead804b7be6f"
   },
   "outputs": [
    {
     "data": {
      "text/plain": [
       "Text(0.5, 1.0, 'As 10 principais causas de acidentes')"
      ]
     },
     "execution_count": 27,
     "metadata": {},
     "output_type": "execute_result"
    },
    {
     "data": {
      "image/png": "[encoded data removed]",
      "text/plain": [
       "<Figure size 1080x360 with 1 Axes>"
      ]
     },
     "metadata": {
      "needs_background": "light"
     },
     "output_type": "display_data"
    }
   ],
   "source": [
    "pd.value_counts(df_2007_2018['causa_acidente']).head(10).plot.bar()\n",
    "\n",
    "plt.rcParams['figure.figsize'] = [15, 5]\n",
    "plt.ylim(0, 600000)\n",
    "\n",
    "plt.ylabel('Total de acidentes')\n",
    "plt.xlabel('Principais causas de acidentes')\n",
    "plt.title('As 10 principais causas de acidentes')"
   ]
  },
  {
   "cell_type": "code",
   "execution_count": 28,
   "metadata": {
    "colab": {},
    "colab_type": "code",
    "id": "Y0qAudiooyhL",
    "outputId": "8cb121ce-f534-41a5-a38e-920b18ad9a33"
   },
   "outputs": [
    {
     "data": {
      "text/plain": [
       "Text(0.5, 1.0, 'Quantidade de mortos por UF entre 2007 e 2018')"
      ]
     },
     "execution_count": 28,
     "metadata": {},
     "output_type": "execute_result"
    },
    {
     "data": {
      "image/png": "[encoded data removed]",
      "text/plain": [
       "<Figure size 1080x360 with 1 Axes>"
      ]
     },
     "metadata": {
      "needs_background": "light"
     },
     "output_type": "display_data"
    }
   ],
   "source": [
    "df_2007_2018.groupby(['uf'])['mortos'].sum().sort_values(ascending=False).plot.bar()\n",
    "\n",
    "plt.rcParams['figure.figsize'] = [15, 5]\n",
    "plt.ylim(0, 14000)\n",
    "\n",
    "plt.ylabel('Total de mortos em acidentes')\n",
    "plt.xlabel('Sigla Estados (UF)')\n",
    "plt.title('Quantidade de mortos por UF entre 2007 e 2018')"
   ]
  },
  {
   "cell_type": "code",
   "execution_count": 29,
   "metadata": {
    "colab": {},
    "colab_type": "code",
    "id": "viMweHProyhO",
    "outputId": "4d24c401-1296-4d4a-a873-a4ebde62f63d"
   },
   "outputs": [
    {
     "data": {
      "text/plain": [
       "Text(0.5, 1.0, 'Quantidade de acidentes por ano (2007-2018)')"
      ]
     },
     "execution_count": 29,
     "metadata": {},
     "output_type": "execute_result"
    },
    {
     "data": {
      "image/png": "[encoded data removed]",
      "text/plain": [
       "<Figure size 1080x360 with 1 Axes>"
      ]
     },
     "metadata": {
      "needs_background": "light"
     },
     "output_type": "display_data"
    }
   ],
   "source": [
    "df_2007_2018.groupby(['ano'])['id'].count().plot.bar()\n",
    "\n",
    "plt.rcParams['figure.figsize'] = [15, 5]\n",
    "plt.ylim(0, 200000)\n",
    "\n",
    "plt.ylabel('Total de acidentes')\n",
    "plt.xlabel('Ano das ocorrências')\n",
    "plt.title('Quantidade de acidentes por ano (2007-2018)')"
   ]
  },
  {
   "cell_type": "code",
   "execution_count": 30,
   "metadata": {},
   "outputs": [
    {
     "data": {
      "text/plain": [
       "Text(0.5, 1.0, 'Quantidade de acidentes por mês (2007-2018)')"
      ]
     },
     "execution_count": 30,
     "metadata": {},
     "output_type": "execute_result"
    },
    {
     "data": {
      "image/png": "[encoded data removed]",
      "text/plain": [
       "<Figure size 1080x360 with 1 Axes>"
      ]
     },
     "metadata": {
      "needs_background": "light"
     },
     "output_type": "display_data"
    }
   ],
   "source": [
    "df_2007_2018.groupby(['mes'])['id'].count().plot.bar()\n",
    "\n",
    "plt.rcParams['figure.figsize'] = [15, 5]\n",
    "plt.ylim(0, 180000)\n",
    "\n",
    "plt.ylabel('Total de acidentes')\n",
    "plt.xlabel('Mês das ocorrências')\n",
    "plt.title('Quantidade de acidentes por mês (2007-2018)')"
   ]
  },
  {
   "cell_type": "code",
   "execution_count": 31,
   "metadata": {},
   "outputs": [
    {
     "data": {
      "text/plain": [
       "Text(0.5, 1.0, 'Fase do dia em que ocorreram os acidentes')"
      ]
     },
     "execution_count": 31,
     "metadata": {},
     "output_type": "execute_result"
    },
    {
     "data": {
      "image/png": "[encoded data removed]",
      "text/plain": [
       "<Figure size 1080x360 with 1 Axes>"
      ]
     },
     "metadata": {
      "needs_background": "light"
     },
     "output_type": "display_data"
    }
   ],
   "source": [
    "round((pd.value_counts(df_2007_2018['fase_dia'])*100)/len(df_2007_2018), 2).plot.bar()\n",
    "\n",
    "plt.rcParams['figure.figsize'] = [15, 5]\n",
    "plt.ylim(0, 70)\n",
    "\n",
    "plt.ylabel('Porcentagem de acidentes (%)')\n",
    "plt.xlabel('Fase do dia')\n",
    "plt.title('Fase do dia em que ocorreram os acidentes')"
   ]
  },
  {
   "cell_type": "code",
   "execution_count": 32,
   "metadata": {},
   "outputs": [
    {
     "data": {
      "text/plain": [
       "Text(0.5, 1.0, 'Traçado das vias onde ocorreram os acidentes')"
      ]
     },
     "execution_count": 32,
     "metadata": {},
     "output_type": "execute_result"
    },
    {
     "data": {
      "image/png": "[encoded data removed]",
      "text/plain": [
       "<Figure size 1080x360 with 1 Axes>"
      ]
     },
     "metadata": {
      "needs_background": "light"
     },
     "output_type": "display_data"
    }
   ],
   "source": [
    "round((pd.value_counts(df_2007_2018['tracado_via'])*100)/len(df_2007_2018), 2).plot.bar()\n",
    "\n",
    "plt.rcParams['figure.figsize'] = [15, 5]\n",
    "plt.ylim(0, 80)\n",
    "\n",
    "plt.ylabel('Porcentagem de acidentes (%)')\n",
    "plt.xlabel('Traçado das vias')\n",
    "plt.title('Traçado das vias onde ocorreram os acidentes')"
   ]
  },
  {
   "cell_type": "code",
   "execution_count": 34,
   "metadata": {},
   "outputs": [
    {
     "data": {
      "text/plain": [
       "Text(0.5, 1.0, 'Top 5 da quantidade de veículos envolvidos nas ocorrências de acidentes')"
      ]
     },
     "execution_count": 34,
     "metadata": {},
     "output_type": "execute_result"
    },
    {
     "data": {
      "image/png": "[encoded data removed]",
      "text/plain": [
       "<Figure size 1080x360 with 1 Axes>"
      ]
     },
     "metadata": {
      "needs_background": "light"
     },
     "output_type": "display_data"
    }
   ],
   "source": [
    "df_2007_2018.groupby(['veiculos'])['id'].count().sort_values(ascending=False).head(5).plot.bar()\n",
    "\n",
    "plt.rcParams['figure.figsize'] = [15, 5]\n",
    "plt.ylim(0, 1000000)\n",
    "\n",
    "plt.ylabel('Total de acidentes')\n",
    "plt.xlabel('Quantidade de veículos envolvidos')\n",
    "plt.title('Top 5 da quantidade de veículos envolvidos nas ocorrências de acidentes')"
   ]
  },
  {
   "cell_type": "markdown",
   "metadata": {
    "colab_type": "text",
    "id": "mVhSbD7voyhR"
   },
   "source": [
    "#### 4.2) **(20%)** Análise 2 - Dependência entre variáveis\n",
    "O aluno deve apresentar as mesmas distribuições para cada valor da variável dependente. Exemplo: Em um conjunto de dados em que as variáveis independentes são idade e sexo, e a variável dependente é renda. O aluno pode dividir a renda em 3 \"grupos\", <1000 reais, entre 1000 e 10000 reais e >10000 reais. Para cada um desses grupos, é necessário apresentar a distribuição das variáveis \"idade\" e \"sexo\".\n"
   ]
  },
  {
   "cell_type": "code",
   "execution_count": 82,
   "metadata": {
    "colab": {},
    "colab_type": "code",
    "id": "FRZuuDOXoyhS"
   },
   "outputs": [],
   "source": [
    "# Implemente sua análise aqui. Use mais blocos se achar que ficará mais organizado."
   ]
  },
  {
   "cell_type": "code",
   "execution_count": null,
   "metadata": {},
   "outputs": [],
   "source": []
  },
  {
   "cell_type": "code",
   "execution_count": null,
   "metadata": {},
   "outputs": [],
   "source": []
  },
  {
   "cell_type": "markdown",
   "metadata": {
    "colab_type": "text",
    "id": "r7LZUv3coyhV"
   },
   "source": [
    "#### 4.3) **(20%)** Análise 3 - Correlação entre variáveis\n",
    "\n",
    "O aluno deve apresentar 3 análises de correlação entre variáveis do conjunto de dados trabalhado. Exemplo: Em um conjunto de dados com as informações de temperatura e ocorrência de incêndios, eu gostaria de saber a incidência de correlação entre as duas variáveis.\n",
    "\n"
   ]
  },
  {
   "cell_type": "code",
   "execution_count": 35,
   "metadata": {},
   "outputs": [
    {
     "data": {
      "text/html": [
       "<style  type=\"text/css\" >\n",
       "    #T_b7a1cbec_0ef3_11ea_9e59_81a2ccca43derow0_col0 {\n",
       "            background-color:  #b40426;\n",
       "            color:  #f1f1f1;\n",
       "        }    #T_b7a1cbec_0ef3_11ea_9e59_81a2ccca43derow0_col1 {\n",
       "            background-color:  #465ecf;\n",
       "            color:  #f1f1f1;\n",
       "        }    #T_b7a1cbec_0ef3_11ea_9e59_81a2ccca43derow0_col2 {\n",
       "            background-color:  #c9d7f0;\n",
       "            color:  #000000;\n",
       "        }    #T_b7a1cbec_0ef3_11ea_9e59_81a2ccca43derow0_col3 {\n",
       "            background-color:  #7a9df8;\n",
       "            color:  #000000;\n",
       "        }    #T_b7a1cbec_0ef3_11ea_9e59_81a2ccca43derow0_col4 {\n",
       "            background-color:  #d9dce1;\n",
       "            color:  #000000;\n",
       "        }    #T_b7a1cbec_0ef3_11ea_9e59_81a2ccca43derow0_col5 {\n",
       "            background-color:  #3b4cc0;\n",
       "            color:  #f1f1f1;\n",
       "        }    #T_b7a1cbec_0ef3_11ea_9e59_81a2ccca43derow0_col6 {\n",
       "            background-color:  #e1dad6;\n",
       "            color:  #000000;\n",
       "        }    #T_b7a1cbec_0ef3_11ea_9e59_81a2ccca43derow0_col7 {\n",
       "            background-color:  #a9c6fd;\n",
       "            color:  #000000;\n",
       "        }    #T_b7a1cbec_0ef3_11ea_9e59_81a2ccca43derow1_col0 {\n",
       "            background-color:  #97b8ff;\n",
       "            color:  #000000;\n",
       "        }    #T_b7a1cbec_0ef3_11ea_9e59_81a2ccca43derow1_col1 {\n",
       "            background-color:  #b40426;\n",
       "            color:  #f1f1f1;\n",
       "        }    #T_b7a1cbec_0ef3_11ea_9e59_81a2ccca43derow1_col2 {\n",
       "            background-color:  #6282ea;\n",
       "            color:  #000000;\n",
       "        }    #T_b7a1cbec_0ef3_11ea_9e59_81a2ccca43derow1_col3 {\n",
       "            background-color:  #88abfd;\n",
       "            color:  #000000;\n",
       "        }    #T_b7a1cbec_0ef3_11ea_9e59_81a2ccca43derow1_col4 {\n",
       "            background-color:  #3b4cc0;\n",
       "            color:  #f1f1f1;\n",
       "        }    #T_b7a1cbec_0ef3_11ea_9e59_81a2ccca43derow1_col5 {\n",
       "            background-color:  #6180e9;\n",
       "            color:  #000000;\n",
       "        }    #T_b7a1cbec_0ef3_11ea_9e59_81a2ccca43derow1_col6 {\n",
       "            background-color:  #799cf8;\n",
       "            color:  #000000;\n",
       "        }    #T_b7a1cbec_0ef3_11ea_9e59_81a2ccca43derow1_col7 {\n",
       "            background-color:  #5673e0;\n",
       "            color:  #000000;\n",
       "        }    #T_b7a1cbec_0ef3_11ea_9e59_81a2ccca43derow2_col0 {\n",
       "            background-color:  #f2c9b4;\n",
       "            color:  #000000;\n",
       "        }    #T_b7a1cbec_0ef3_11ea_9e59_81a2ccca43derow2_col1 {\n",
       "            background-color:  #7a9df8;\n",
       "            color:  #000000;\n",
       "        }    #T_b7a1cbec_0ef3_11ea_9e59_81a2ccca43derow2_col2 {\n",
       "            background-color:  #b40426;\n",
       "            color:  #f1f1f1;\n",
       "        }    #T_b7a1cbec_0ef3_11ea_9e59_81a2ccca43derow2_col3 {\n",
       "            background-color:  #8db0fe;\n",
       "            color:  #000000;\n",
       "        }    #T_b7a1cbec_0ef3_11ea_9e59_81a2ccca43derow2_col4 {\n",
       "            background-color:  #3b4cc0;\n",
       "            color:  #f1f1f1;\n",
       "        }    #T_b7a1cbec_0ef3_11ea_9e59_81a2ccca43derow2_col5 {\n",
       "            background-color:  #6b8df0;\n",
       "            color:  #000000;\n",
       "        }    #T_b7a1cbec_0ef3_11ea_9e59_81a2ccca43derow2_col6 {\n",
       "            background-color:  #d65244;\n",
       "            color:  #000000;\n",
       "        }    #T_b7a1cbec_0ef3_11ea_9e59_81a2ccca43derow2_col7 {\n",
       "            background-color:  #6788ee;\n",
       "            color:  #000000;\n",
       "        }    #T_b7a1cbec_0ef3_11ea_9e59_81a2ccca43derow3_col0 {\n",
       "            background-color:  #cad8ef;\n",
       "            color:  #000000;\n",
       "        }    #T_b7a1cbec_0ef3_11ea_9e59_81a2ccca43derow3_col1 {\n",
       "            background-color:  #97b8ff;\n",
       "            color:  #000000;\n",
       "        }    #T_b7a1cbec_0ef3_11ea_9e59_81a2ccca43derow3_col2 {\n",
       "            background-color:  #86a9fc;\n",
       "            color:  #000000;\n",
       "        }    #T_b7a1cbec_0ef3_11ea_9e59_81a2ccca43derow3_col3 {\n",
       "            background-color:  #b40426;\n",
       "            color:  #f1f1f1;\n",
       "        }    #T_b7a1cbec_0ef3_11ea_9e59_81a2ccca43derow3_col4 {\n",
       "            background-color:  #3b4cc0;\n",
       "            color:  #f1f1f1;\n",
       "        }    #T_b7a1cbec_0ef3_11ea_9e59_81a2ccca43derow3_col5 {\n",
       "            background-color:  #6a8bef;\n",
       "            color:  #000000;\n",
       "        }    #T_b7a1cbec_0ef3_11ea_9e59_81a2ccca43derow3_col6 {\n",
       "            background-color:  #f4c5ad;\n",
       "            color:  #000000;\n",
       "        }    #T_b7a1cbec_0ef3_11ea_9e59_81a2ccca43derow3_col7 {\n",
       "            background-color:  #6485ec;\n",
       "            color:  #000000;\n",
       "        }    #T_b7a1cbec_0ef3_11ea_9e59_81a2ccca43derow4_col0 {\n",
       "            background-color:  #f7ba9f;\n",
       "            color:  #000000;\n",
       "        }    #T_b7a1cbec_0ef3_11ea_9e59_81a2ccca43derow4_col1 {\n",
       "            background-color:  #5e7de7;\n",
       "            color:  #000000;\n",
       "        }    #T_b7a1cbec_0ef3_11ea_9e59_81a2ccca43derow4_col2 {\n",
       "            background-color:  #445acc;\n",
       "            color:  #f1f1f1;\n",
       "        }    #T_b7a1cbec_0ef3_11ea_9e59_81a2ccca43derow4_col3 {\n",
       "            background-color:  #4b64d5;\n",
       "            color:  #f1f1f1;\n",
       "        }    #T_b7a1cbec_0ef3_11ea_9e59_81a2ccca43derow4_col4 {\n",
       "            background-color:  #b40426;\n",
       "            color:  #f1f1f1;\n",
       "        }    #T_b7a1cbec_0ef3_11ea_9e59_81a2ccca43derow4_col5 {\n",
       "            background-color:  #5a78e4;\n",
       "            color:  #000000;\n",
       "        }    #T_b7a1cbec_0ef3_11ea_9e59_81a2ccca43derow4_col6 {\n",
       "            background-color:  #3b4cc0;\n",
       "            color:  #f1f1f1;\n",
       "        }    #T_b7a1cbec_0ef3_11ea_9e59_81a2ccca43derow4_col7 {\n",
       "            background-color:  #f5c4ac;\n",
       "            color:  #000000;\n",
       "        }    #T_b7a1cbec_0ef3_11ea_9e59_81a2ccca43derow5_col0 {\n",
       "            background-color:  #90b2fe;\n",
       "            color:  #000000;\n",
       "        }    #T_b7a1cbec_0ef3_11ea_9e59_81a2ccca43derow5_col1 {\n",
       "            background-color:  #6384eb;\n",
       "            color:  #000000;\n",
       "        }    #T_b7a1cbec_0ef3_11ea_9e59_81a2ccca43derow5_col2 {\n",
       "            background-color:  #5572df;\n",
       "            color:  #000000;\n",
       "        }    #T_b7a1cbec_0ef3_11ea_9e59_81a2ccca43derow5_col3 {\n",
       "            background-color:  #5b7ae5;\n",
       "            color:  #000000;\n",
       "        }    #T_b7a1cbec_0ef3_11ea_9e59_81a2ccca43derow5_col4 {\n",
       "            background-color:  #3b4cc0;\n",
       "            color:  #f1f1f1;\n",
       "        }    #T_b7a1cbec_0ef3_11ea_9e59_81a2ccca43derow5_col5 {\n",
       "            background-color:  #b40426;\n",
       "            color:  #f1f1f1;\n",
       "        }    #T_b7a1cbec_0ef3_11ea_9e59_81a2ccca43derow5_col6 {\n",
       "            background-color:  #5977e3;\n",
       "            color:  #000000;\n",
       "        }    #T_b7a1cbec_0ef3_11ea_9e59_81a2ccca43derow5_col7 {\n",
       "            background-color:  #7da0f9;\n",
       "            color:  #000000;\n",
       "        }    #T_b7a1cbec_0ef3_11ea_9e59_81a2ccca43derow6_col0 {\n",
       "            background-color:  #f7b497;\n",
       "            color:  #000000;\n",
       "        }    #T_b7a1cbec_0ef3_11ea_9e59_81a2ccca43derow6_col1 {\n",
       "            background-color:  #98b9ff;\n",
       "            color:  #000000;\n",
       "        }    #T_b7a1cbec_0ef3_11ea_9e59_81a2ccca43derow6_col2 {\n",
       "            background-color:  #d55042;\n",
       "            color:  #000000;\n",
       "        }    #T_b7a1cbec_0ef3_11ea_9e59_81a2ccca43derow6_col3 {\n",
       "            background-color:  #f6bea4;\n",
       "            color:  #000000;\n",
       "        }    #T_b7a1cbec_0ef3_11ea_9e59_81a2ccca43derow6_col4 {\n",
       "            background-color:  #3b4cc0;\n",
       "            color:  #f1f1f1;\n",
       "        }    #T_b7a1cbec_0ef3_11ea_9e59_81a2ccca43derow6_col5 {\n",
       "            background-color:  #799cf8;\n",
       "            color:  #000000;\n",
       "        }    #T_b7a1cbec_0ef3_11ea_9e59_81a2ccca43derow6_col6 {\n",
       "            background-color:  #b40426;\n",
       "            color:  #f1f1f1;\n",
       "        }    #T_b7a1cbec_0ef3_11ea_9e59_81a2ccca43derow6_col7 {\n",
       "            background-color:  #7295f4;\n",
       "            color:  #000000;\n",
       "        }    #T_b7a1cbec_0ef3_11ea_9e59_81a2ccca43derow7_col0 {\n",
       "            background-color:  #d3dbe7;\n",
       "            color:  #000000;\n",
       "        }    #T_b7a1cbec_0ef3_11ea_9e59_81a2ccca43derow7_col1 {\n",
       "            background-color:  #4358cb;\n",
       "            color:  #f1f1f1;\n",
       "        }    #T_b7a1cbec_0ef3_11ea_9e59_81a2ccca43derow7_col2 {\n",
       "            background-color:  #3b4cc0;\n",
       "            color:  #f1f1f1;\n",
       "        }    #T_b7a1cbec_0ef3_11ea_9e59_81a2ccca43derow7_col3 {\n",
       "            background-color:  #4055c8;\n",
       "            color:  #f1f1f1;\n",
       "        }    #T_b7a1cbec_0ef3_11ea_9e59_81a2ccca43derow7_col4 {\n",
       "            background-color:  #e9d5cb;\n",
       "            color:  #000000;\n",
       "        }    #T_b7a1cbec_0ef3_11ea_9e59_81a2ccca43derow7_col5 {\n",
       "            background-color:  #6788ee;\n",
       "            color:  #000000;\n",
       "        }    #T_b7a1cbec_0ef3_11ea_9e59_81a2ccca43derow7_col6 {\n",
       "            background-color:  #3c4ec2;\n",
       "            color:  #f1f1f1;\n",
       "        }    #T_b7a1cbec_0ef3_11ea_9e59_81a2ccca43derow7_col7 {\n",
       "            background-color:  #b40426;\n",
       "            color:  #f1f1f1;\n",
       "        }</style><table id=\"T_b7a1cbec_0ef3_11ea_9e59_81a2ccca43de\" ><thead>    <tr>        <th class=\"blank level0\" ></th>        <th class=\"col_heading level0 col0\" >pessoas</th>        <th class=\"col_heading level0 col1\" >mortos</th>        <th class=\"col_heading level0 col2\" >feridos_leves</th>        <th class=\"col_heading level0 col3\" >feridos_graves</th>        <th class=\"col_heading level0 col4\" >ilesos</th>        <th class=\"col_heading level0 col5\" >ignorados</th>        <th class=\"col_heading level0 col6\" >feridos</th>        <th class=\"col_heading level0 col7\" >veiculos</th>    </tr></thead><tbody>\n",
       "                <tr>\n",
       "                        <th id=\"T_b7a1cbec_0ef3_11ea_9e59_81a2ccca43delevel0_row0\" class=\"row_heading level0 row0\" >pessoas</th>\n",
       "                        <td id=\"T_b7a1cbec_0ef3_11ea_9e59_81a2ccca43derow0_col0\" class=\"data row0 col0\" >1.0</td>\n",
       "                        <td id=\"T_b7a1cbec_0ef3_11ea_9e59_81a2ccca43derow0_col1\" class=\"data row0 col1\" >0.22</td>\n",
       "                        <td id=\"T_b7a1cbec_0ef3_11ea_9e59_81a2ccca43derow0_col2\" class=\"data row0 col2\" >0.53</td>\n",
       "                        <td id=\"T_b7a1cbec_0ef3_11ea_9e59_81a2ccca43derow0_col3\" class=\"data row0 col3\" >0.35</td>\n",
       "                        <td id=\"T_b7a1cbec_0ef3_11ea_9e59_81a2ccca43derow0_col4\" class=\"data row0 col4\" >0.58</td>\n",
       "                        <td id=\"T_b7a1cbec_0ef3_11ea_9e59_81a2ccca43derow0_col5\" class=\"data row0 col5\" >0.19</td>\n",
       "                        <td id=\"T_b7a1cbec_0ef3_11ea_9e59_81a2ccca43derow0_col6\" class=\"data row0 col6\" >0.61</td>\n",
       "                        <td id=\"T_b7a1cbec_0ef3_11ea_9e59_81a2ccca43derow0_col7\" class=\"data row0 col7\" >0.46</td>\n",
       "            </tr>\n",
       "            <tr>\n",
       "                        <th id=\"T_b7a1cbec_0ef3_11ea_9e59_81a2ccca43delevel0_row1\" class=\"row_heading level0 row1\" >mortos</th>\n",
       "                        <td id=\"T_b7a1cbec_0ef3_11ea_9e59_81a2ccca43derow1_col0\" class=\"data row1 col0\" >0.22</td>\n",
       "                        <td id=\"T_b7a1cbec_0ef3_11ea_9e59_81a2ccca43derow1_col1\" class=\"data row1 col1\" >1.0</td>\n",
       "                        <td id=\"T_b7a1cbec_0ef3_11ea_9e59_81a2ccca43derow1_col2\" class=\"data row1 col2\" >0.054</td>\n",
       "                        <td id=\"T_b7a1cbec_0ef3_11ea_9e59_81a2ccca43derow1_col3\" class=\"data row1 col3\" >0.17</td>\n",
       "                        <td id=\"T_b7a1cbec_0ef3_11ea_9e59_81a2ccca43derow1_col4\" class=\"data row1 col4\" >-0.081</td>\n",
       "                        <td id=\"T_b7a1cbec_0ef3_11ea_9e59_81a2ccca43derow1_col5\" class=\"data row1 col5\" >0.05</td>\n",
       "                        <td id=\"T_b7a1cbec_0ef3_11ea_9e59_81a2ccca43derow1_col6\" class=\"data row1 col6\" >0.13</td>\n",
       "                        <td id=\"T_b7a1cbec_0ef3_11ea_9e59_81a2ccca43derow1_col7\" class=\"data row1 col7\" >0.017</td>\n",
       "            </tr>\n",
       "            <tr>\n",
       "                        <th id=\"T_b7a1cbec_0ef3_11ea_9e59_81a2ccca43delevel0_row2\" class=\"row_heading level0 row2\" >feridos_leves</th>\n",
       "                        <td id=\"T_b7a1cbec_0ef3_11ea_9e59_81a2ccca43derow2_col0\" class=\"data row2 col0\" >0.53</td>\n",
       "                        <td id=\"T_b7a1cbec_0ef3_11ea_9e59_81a2ccca43derow2_col1\" class=\"data row2 col1\" >0.054</td>\n",
       "                        <td id=\"T_b7a1cbec_0ef3_11ea_9e59_81a2ccca43derow2_col2\" class=\"data row2 col2\" >1.0</td>\n",
       "                        <td id=\"T_b7a1cbec_0ef3_11ea_9e59_81a2ccca43derow2_col3\" class=\"data row2 col3\" >0.12</td>\n",
       "                        <td id=\"T_b7a1cbec_0ef3_11ea_9e59_81a2ccca43derow2_col4\" class=\"data row2 col4\" >-0.18</td>\n",
       "                        <td id=\"T_b7a1cbec_0ef3_11ea_9e59_81a2ccca43derow2_col5\" class=\"data row2 col5\" >0.0039</td>\n",
       "                        <td id=\"T_b7a1cbec_0ef3_11ea_9e59_81a2ccca43derow2_col6\" class=\"data row2 col6\" >0.88</td>\n",
       "                        <td id=\"T_b7a1cbec_0ef3_11ea_9e59_81a2ccca43derow2_col7\" class=\"data row2 col7\" >-0.012</td>\n",
       "            </tr>\n",
       "            <tr>\n",
       "                        <th id=\"T_b7a1cbec_0ef3_11ea_9e59_81a2ccca43delevel0_row3\" class=\"row_heading level0 row3\" >feridos_graves</th>\n",
       "                        <td id=\"T_b7a1cbec_0ef3_11ea_9e59_81a2ccca43derow3_col0\" class=\"data row3 col0\" >0.35</td>\n",
       "                        <td id=\"T_b7a1cbec_0ef3_11ea_9e59_81a2ccca43derow3_col1\" class=\"data row3 col1\" >0.17</td>\n",
       "                        <td id=\"T_b7a1cbec_0ef3_11ea_9e59_81a2ccca43derow3_col2\" class=\"data row3 col2\" >0.12</td>\n",
       "                        <td id=\"T_b7a1cbec_0ef3_11ea_9e59_81a2ccca43derow3_col3\" class=\"data row3 col3\" >1.0</td>\n",
       "                        <td id=\"T_b7a1cbec_0ef3_11ea_9e59_81a2ccca43derow3_col4\" class=\"data row3 col4\" >-0.15</td>\n",
       "                        <td id=\"T_b7a1cbec_0ef3_11ea_9e59_81a2ccca43derow3_col5\" class=\"data row3 col5\" >0.025</td>\n",
       "                        <td id=\"T_b7a1cbec_0ef3_11ea_9e59_81a2ccca43derow3_col6\" class=\"data row3 col6\" >0.57</td>\n",
       "                        <td id=\"T_b7a1cbec_0ef3_11ea_9e59_81a2ccca43derow3_col7\" class=\"data row3 col7\" >0.0088</td>\n",
       "            </tr>\n",
       "            <tr>\n",
       "                        <th id=\"T_b7a1cbec_0ef3_11ea_9e59_81a2ccca43delevel0_row4\" class=\"row_heading level0 row4\" >ilesos</th>\n",
       "                        <td id=\"T_b7a1cbec_0ef3_11ea_9e59_81a2ccca43derow4_col0\" class=\"data row4 col0\" >0.58</td>\n",
       "                        <td id=\"T_b7a1cbec_0ef3_11ea_9e59_81a2ccca43derow4_col1\" class=\"data row4 col1\" >-0.081</td>\n",
       "                        <td id=\"T_b7a1cbec_0ef3_11ea_9e59_81a2ccca43derow4_col2\" class=\"data row4 col2\" >-0.18</td>\n",
       "                        <td id=\"T_b7a1cbec_0ef3_11ea_9e59_81a2ccca43derow4_col3\" class=\"data row4 col3\" >-0.15</td>\n",
       "                        <td id=\"T_b7a1cbec_0ef3_11ea_9e59_81a2ccca43derow4_col4\" class=\"data row4 col4\" >1.0</td>\n",
       "                        <td id=\"T_b7a1cbec_0ef3_11ea_9e59_81a2ccca43derow4_col5\" class=\"data row4 col5\" >-0.093</td>\n",
       "                        <td id=\"T_b7a1cbec_0ef3_11ea_9e59_81a2ccca43derow4_col6\" class=\"data row4 col6\" >-0.22</td>\n",
       "                        <td id=\"T_b7a1cbec_0ef3_11ea_9e59_81a2ccca43derow4_col7\" class=\"data row4 col7\" >0.54</td>\n",
       "            </tr>\n",
       "            <tr>\n",
       "                        <th id=\"T_b7a1cbec_0ef3_11ea_9e59_81a2ccca43delevel0_row5\" class=\"row_heading level0 row5\" >ignorados</th>\n",
       "                        <td id=\"T_b7a1cbec_0ef3_11ea_9e59_81a2ccca43derow5_col0\" class=\"data row5 col0\" >0.19</td>\n",
       "                        <td id=\"T_b7a1cbec_0ef3_11ea_9e59_81a2ccca43derow5_col1\" class=\"data row5 col1\" >0.05</td>\n",
       "                        <td id=\"T_b7a1cbec_0ef3_11ea_9e59_81a2ccca43derow5_col2\" class=\"data row5 col2\" >0.0039</td>\n",
       "                        <td id=\"T_b7a1cbec_0ef3_11ea_9e59_81a2ccca43derow5_col3\" class=\"data row5 col3\" >0.025</td>\n",
       "                        <td id=\"T_b7a1cbec_0ef3_11ea_9e59_81a2ccca43derow5_col4\" class=\"data row5 col4\" >-0.093</td>\n",
       "                        <td id=\"T_b7a1cbec_0ef3_11ea_9e59_81a2ccca43derow5_col5\" class=\"data row5 col5\" >1.0</td>\n",
       "                        <td id=\"T_b7a1cbec_0ef3_11ea_9e59_81a2ccca43derow5_col6\" class=\"data row5 col6\" >0.015</td>\n",
       "                        <td id=\"T_b7a1cbec_0ef3_11ea_9e59_81a2ccca43derow5_col7\" class=\"data row5 col7\" >0.13</td>\n",
       "            </tr>\n",
       "            <tr>\n",
       "                        <th id=\"T_b7a1cbec_0ef3_11ea_9e59_81a2ccca43delevel0_row6\" class=\"row_heading level0 row6\" >feridos</th>\n",
       "                        <td id=\"T_b7a1cbec_0ef3_11ea_9e59_81a2ccca43derow6_col0\" class=\"data row6 col0\" >0.61</td>\n",
       "                        <td id=\"T_b7a1cbec_0ef3_11ea_9e59_81a2ccca43derow6_col1\" class=\"data row6 col1\" >0.13</td>\n",
       "                        <td id=\"T_b7a1cbec_0ef3_11ea_9e59_81a2ccca43derow6_col2\" class=\"data row6 col2\" >0.88</td>\n",
       "                        <td id=\"T_b7a1cbec_0ef3_11ea_9e59_81a2ccca43derow6_col3\" class=\"data row6 col3\" >0.57</td>\n",
       "                        <td id=\"T_b7a1cbec_0ef3_11ea_9e59_81a2ccca43derow6_col4\" class=\"data row6 col4\" >-0.22</td>\n",
       "                        <td id=\"T_b7a1cbec_0ef3_11ea_9e59_81a2ccca43derow6_col5\" class=\"data row6 col5\" >0.015</td>\n",
       "                        <td id=\"T_b7a1cbec_0ef3_11ea_9e59_81a2ccca43derow6_col6\" class=\"data row6 col6\" >1.0</td>\n",
       "                        <td id=\"T_b7a1cbec_0ef3_11ea_9e59_81a2ccca43derow6_col7\" class=\"data row6 col7\" >-0.0055</td>\n",
       "            </tr>\n",
       "            <tr>\n",
       "                        <th id=\"T_b7a1cbec_0ef3_11ea_9e59_81a2ccca43delevel0_row7\" class=\"row_heading level0 row7\" >veiculos</th>\n",
       "                        <td id=\"T_b7a1cbec_0ef3_11ea_9e59_81a2ccca43derow7_col0\" class=\"data row7 col0\" >0.46</td>\n",
       "                        <td id=\"T_b7a1cbec_0ef3_11ea_9e59_81a2ccca43derow7_col1\" class=\"data row7 col1\" >0.017</td>\n",
       "                        <td id=\"T_b7a1cbec_0ef3_11ea_9e59_81a2ccca43derow7_col2\" class=\"data row7 col2\" >-0.012</td>\n",
       "                        <td id=\"T_b7a1cbec_0ef3_11ea_9e59_81a2ccca43derow7_col3\" class=\"data row7 col3\" >0.0088</td>\n",
       "                        <td id=\"T_b7a1cbec_0ef3_11ea_9e59_81a2ccca43derow7_col4\" class=\"data row7 col4\" >0.54</td>\n",
       "                        <td id=\"T_b7a1cbec_0ef3_11ea_9e59_81a2ccca43derow7_col5\" class=\"data row7 col5\" >0.13</td>\n",
       "                        <td id=\"T_b7a1cbec_0ef3_11ea_9e59_81a2ccca43derow7_col6\" class=\"data row7 col6\" >-0.0055</td>\n",
       "                        <td id=\"T_b7a1cbec_0ef3_11ea_9e59_81a2ccca43derow7_col7\" class=\"data row7 col7\" >1.0</td>\n",
       "            </tr>\n",
       "    </tbody></table>"
      ],
      "text/plain": [
       "<pandas.io.formats.style.Styler at 0x7f1fc082a5d0>"
      ]
     },
     "execution_count": 35,
     "metadata": {},
     "output_type": "execute_result"
    }
   ],
   "source": [
    "df_corr = df_2007_2018.drop(['id', 'mes', 'ano'], axis=1)\n",
    "df_corr.corr().style.format('{:.2}').background_gradient(cmap=plt.get_cmap('coolwarm'), axis=1)"
   ]
  },
  {
   "cell_type": "code",
   "execution_count": 36,
   "metadata": {},
   "outputs": [
    {
     "data": {
      "text/plain": [
       "'\\n0.9 a 1 positivo ou negativo indica uma correlação muito forte.\\n0.7 a 0.9 positivo ou negativo indica uma correlação forte.\\n0.5 a 0.7 positivo ou negativo indica uma correlação moderada.\\n0.3 a 0.5 positivo ou negativo indica uma correlação fraca.\\n0 a 0.3 positivo ou negativo indica uma correlação desprezível \\n'"
      ]
     },
     "execution_count": 36,
     "metadata": {},
     "output_type": "execute_result"
    }
   ],
   "source": [
    "'''\n",
    "0.9 a 1 positivo ou negativo indica uma correlação muito forte.\n",
    "0.7 a 0.9 positivo ou negativo indica uma correlação forte.\n",
    "0.5 a 0.7 positivo ou negativo indica uma correlação moderada.\n",
    "0.3 a 0.5 positivo ou negativo indica uma correlação fraca.\n",
    "0 a 0.3 positivo ou negativo indica uma correlação desprezível \n",
    "'''"
   ]
  },
  {
   "cell_type": "code",
   "execution_count": 30,
   "metadata": {
    "colab": {},
    "colab_type": "code",
    "id": "QR8NuvrtoyhW"
   },
   "outputs": [
    {
     "data": {
      "text/plain": [
       "0.00652823269934641"
      ]
     },
     "execution_count": 30,
     "metadata": {},
     "output_type": "execute_result"
    }
   ],
   "source": [
    "# Primeiro par de variáveis: Implemente sua análise aqui. Use mais blocos se achar que ficará mais organizado.\n",
    "#Qtde de mortos x veículos\n",
    "\n",
    "df_2007_2018['mortos'].corr(df_2007_2018['veiculos'])"
   ]
  },
  {
   "cell_type": "code",
   "execution_count": null,
   "metadata": {
    "colab": {},
    "colab_type": "code",
    "id": "_nJHX-_Qoyhb"
   },
   "outputs": [],
   "source": [
    "# Segundo par de variáveis: Implemente sua análise aqui. Use mais blocos se achar que ficará mais organizado.\n",
    "#Codição meteorológica x  Qtde de acidentes\n"
   ]
  },
  {
   "cell_type": "code",
   "execution_count": null,
   "metadata": {
    "colab": {},
    "colab_type": "code",
    "id": "6kYfJ3xQoyhg"
   },
   "outputs": [],
   "source": [
    "# Terceiro par de variáveis: Implemente sua análise aqui. Use mais blocos se achar que ficará mais organizado.\n"
   ]
  },
  {
   "cell_type": "markdown",
   "metadata": {
    "colab_type": "text",
    "id": "wt-dJLfJoyhi"
   },
   "source": [
    "### 5) Conclusões **15%**"
   ]
  },
  {
   "cell_type": "markdown",
   "metadata": {
    "colab_type": "text",
    "id": "0Ym94qEsoyhj"
   },
   "source": [
    "*O que é possível concluir com os dados que você analisou? Se fosse fazer uma apresentação, o que levaria como os maiores destaques e por que?*\n",
    "\n",
    "Podemos inferir, de acordo com os dados, que do total de acidentes compreendidos entre janeiro de 2007 e dezembro de 2018:\n",
    "\n",
    "- Aproximadamente, 55% dos acidentes foram classificados como sem vítimas.\n",
    "- Dentre os estados, Minas Gerais possui a maior % de acidentes (14,5%), provavelmente por possuir a maior malha rodoviária do país.\n",
    "- Em MG, a cidade em que ocorre mais acidentes é Betim (17.465).\n",
    "- A principal causa de acidentes é a falta de atenção, com um total de 507.431 ocorrências nesse período.\n",
    "- Minas Gerais possui a maior quantidade de mortes em acidentes nas rodovias com um total de 13.012 falecidos.\n",
    "- Houve um aumento gradativo das ocorrências de acidentes entre 2007 e 2011. Tivemos uma queda significativa em 2012 e após um aumento em 2013, os ocorrências voltaram a cair e mativeram esse padrão de queda até o ano 2018.\n",
    "- Em média, 57% dos acidentes ocorreram em pleno dia.\n",
    "- Cerca de 70% foram em pistas com traçado reto.\n",
    "- A maioria dos acidentes envolveram dois veículos (904.764).\n",
    "- Dezembro e Janeiro são os meses com maiores registros de ocorrências.\n",
    "\n",
    "\n",
    "Esses são os dados que considero mais inportante na análise, pois representam os pontos nos quais focar para o desenvolvimento de uma tratativa do problema."
   ]
  },
  {
   "cell_type": "markdown",
   "metadata": {
    "colab_type": "text",
    "id": "wZAl9jJboyhk"
   },
   "source": []
  }
 ],
 "metadata": {
  "colab": {
   "collapsed_sections": [],
   "name": "template.ipynb",
   "provenance": []
  },
  "file_extension": ".py",
  "kernelspec": {
   "display_name": "Python 3",
   "language": "python",
   "name": "python3"
  },
  "language_info": {
   "codemirror_mode": {
    "name": "ipython",
    "version": 3
   },
   "file_extension": ".py",
   "mimetype": "text/x-python",
   "name": "python",
   "nbconvert_exporter": "python",
   "pygments_lexer": "ipython3",
   "version": "3.7.4"
  },
  "mimetype": "text/x-python",
  "name": "python",
  "npconvert_exporter": "python",
  "pygments_lexer": "ipython3",
  "version": 3
 },
 "nbformat": 4,
 "nbformat_minor": 1
}
